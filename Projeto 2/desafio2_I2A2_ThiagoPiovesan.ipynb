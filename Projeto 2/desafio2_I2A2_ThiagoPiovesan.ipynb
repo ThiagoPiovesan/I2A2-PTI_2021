{
 "cells": [
  {
   "cell_type": "markdown",
   "metadata": {},
   "source": [
    "## Desafio 2 - I2A2"
   ]
  },
  {
   "cell_type": "markdown",
   "metadata": {},
   "source": [
    "##### Estudante: Thiago Piovesan\n",
    "---\n",
    "### # Objetivo:\n",
    "→ Entregar um Jupyter Notebook com o trabalho até o modelo chegar ao ponto de ter os datasets de treino e teste analisados e preparados para as inferências.\n",
    "\n",
    "→ O dataset, nada mais é que referente aos passageiros do Titanic, e a variável alvo é se ele sobreviveu ou não.\n",
    "→ Este desafio está também no Kaggle. O link é: [https://www.kaggle.com/c/titanic](https://www.kaggle.com/c/titanic)\n",
    "\n",
    "→ Pensando no CRISP-DS, desenvolver a análise do problema de negócios, a compreensão sobre os dados (extração dos dados, limpeza) e a preparação (análise exploratória).\n",
    "\n",
    "---"
   ]
  },
  {
   "cell_type": "markdown",
   "metadata": {},
   "source": [
    "### # Importação das Bibliotecas:"
   ]
  },
  {
   "cell_type": "markdown",
   "metadata": {},
   "source": [
    "### Importação das Bibliotecas:"
   ]
  },
  {
   "cell_type": "code",
   "execution_count": 395,
   "metadata": {},
   "outputs": [],
   "source": [
    "# https://pandas.pydata.org/docs/\n",
    "import pandas as pd\n",
    "\n",
    "# https://numpy.org/\n",
    "import numpy as np\n",
    "\n",
    "# https://matplotlib.org/\n",
    "# https://seaborn.pydata.org/\n",
    "import matplotlib.pyplot as plt\n",
    "import seaborn as sns\n",
    "\n",
    "# https://imbalanced-learn.org/stable/\n",
    "#%pip install -U imbalanced-learn\n",
    "from imblearn.under_sampling import RandomUnderSampler\n",
    "\n",
    "# https://scikit-learn.org/\n",
    "from sklearn.preprocessing import StandardScaler\n",
    "from sklearn.ensemble import RandomForestClassifier, AdaBoostClassifier\n",
    "from sklearn import metrics\n",
    "from sklearn.metrics import classification_report, roc_curve, roc_auc_score, \\\n",
    "                            accuracy_score, precision_score, recall_score, \\\n",
    "                            f1_score, confusion_matrix\n",
    "\n"
   ]
  },
  {
   "cell_type": "markdown",
   "metadata": {},
   "source": [
    "## # First Stage -> Data importation and first analysis:"
   ]
  },
  {
   "cell_type": "markdown",
   "metadata": {},
   "source": [
    "### Training Dataset:"
   ]
  },
  {
   "cell_type": "code",
   "execution_count": 396,
   "metadata": {},
   "outputs": [
    {
     "data": {
      "text/html": [
       "<div>\n",
       "<style scoped>\n",
       "    .dataframe tbody tr th:only-of-type {\n",
       "        vertical-align: middle;\n",
       "    }\n",
       "\n",
       "    .dataframe tbody tr th {\n",
       "        vertical-align: top;\n",
       "    }\n",
       "\n",
       "    .dataframe thead th {\n",
       "        text-align: right;\n",
       "    }\n",
       "</style>\n",
       "<table border=\"1\" class=\"dataframe\">\n",
       "  <thead>\n",
       "    <tr style=\"text-align: right;\">\n",
       "      <th></th>\n",
       "      <th>Kaggle_Pass_Id</th>\n",
       "      <th>pclass</th>\n",
       "      <th>survived</th>\n",
       "      <th>name</th>\n",
       "      <th>sex</th>\n",
       "      <th>age</th>\n",
       "      <th>sibsp</th>\n",
       "      <th>parch</th>\n",
       "      <th>ticket</th>\n",
       "      <th>fare</th>\n",
       "      <th>cabin</th>\n",
       "      <th>embarked</th>\n",
       "      <th>boat</th>\n",
       "      <th>body</th>\n",
       "      <th>home.dest</th>\n",
       "      <th>orig_seq</th>\n",
       "    </tr>\n",
       "  </thead>\n",
       "  <tbody>\n",
       "    <tr>\n",
       "      <th>0</th>\n",
       "      <td>1</td>\n",
       "      <td>3</td>\n",
       "      <td>0</td>\n",
       "      <td>Braund, Mr. Owen Harris</td>\n",
       "      <td>male</td>\n",
       "      <td>22.0</td>\n",
       "      <td>1</td>\n",
       "      <td>0</td>\n",
       "      <td>A/5 21171</td>\n",
       "      <td>7.2500</td>\n",
       "      <td>NaN</td>\n",
       "      <td>S</td>\n",
       "      <td>NaN</td>\n",
       "      <td>NaN</td>\n",
       "      <td>Bridgerule, Devon</td>\n",
       "      <td>690</td>\n",
       "    </tr>\n",
       "    <tr>\n",
       "      <th>1</th>\n",
       "      <td>2</td>\n",
       "      <td>1</td>\n",
       "      <td>1</td>\n",
       "      <td>Cumings, Mrs. John Bradley (Florence Briggs Th...</td>\n",
       "      <td>female</td>\n",
       "      <td>38.0</td>\n",
       "      <td>1</td>\n",
       "      <td>0</td>\n",
       "      <td>PC 17599</td>\n",
       "      <td>71.2833</td>\n",
       "      <td>C85</td>\n",
       "      <td>C</td>\n",
       "      <td>4</td>\n",
       "      <td>NaN</td>\n",
       "      <td>New York, NY</td>\n",
       "      <td>86</td>\n",
       "    </tr>\n",
       "    <tr>\n",
       "      <th>2</th>\n",
       "      <td>3</td>\n",
       "      <td>3</td>\n",
       "      <td>1</td>\n",
       "      <td>Heikkinen, Miss. Laina</td>\n",
       "      <td>female</td>\n",
       "      <td>26.0</td>\n",
       "      <td>0</td>\n",
       "      <td>0</td>\n",
       "      <td>STON/O2. 3101282</td>\n",
       "      <td>7.9250</td>\n",
       "      <td>NaN</td>\n",
       "      <td>S</td>\n",
       "      <td>NaN</td>\n",
       "      <td>NaN</td>\n",
       "      <td>NaN</td>\n",
       "      <td>861</td>\n",
       "    </tr>\n",
       "    <tr>\n",
       "      <th>3</th>\n",
       "      <td>4</td>\n",
       "      <td>1</td>\n",
       "      <td>1</td>\n",
       "      <td>Futrelle, Mrs. Jacques Heath (Lily May Peel)</td>\n",
       "      <td>female</td>\n",
       "      <td>35.0</td>\n",
       "      <td>1</td>\n",
       "      <td>0</td>\n",
       "      <td>113803</td>\n",
       "      <td>53.1000</td>\n",
       "      <td>C123</td>\n",
       "      <td>S</td>\n",
       "      <td>D</td>\n",
       "      <td>NaN</td>\n",
       "      <td>Scituate, MA</td>\n",
       "      <td>128</td>\n",
       "    </tr>\n",
       "    <tr>\n",
       "      <th>4</th>\n",
       "      <td>5</td>\n",
       "      <td>3</td>\n",
       "      <td>0</td>\n",
       "      <td>Allen, Mr. William Henry</td>\n",
       "      <td>male</td>\n",
       "      <td>35.0</td>\n",
       "      <td>0</td>\n",
       "      <td>0</td>\n",
       "      <td>373450</td>\n",
       "      <td>8.0500</td>\n",
       "      <td>NaN</td>\n",
       "      <td>S</td>\n",
       "      <td>NaN</td>\n",
       "      <td>NaN</td>\n",
       "      <td>Lower Clapton, Middlesex or Erdington, Birmingham</td>\n",
       "      <td>619</td>\n",
       "    </tr>\n",
       "  </tbody>\n",
       "</table>\n",
       "</div>"
      ],
      "text/plain": [
       "   Kaggle_Pass_Id  pclass  survived  \\\n",
       "0               1       3         0   \n",
       "1               2       1         1   \n",
       "2               3       3         1   \n",
       "3               4       1         1   \n",
       "4               5       3         0   \n",
       "\n",
       "                                                name     sex   age  sibsp  \\\n",
       "0                            Braund, Mr. Owen Harris    male  22.0      1   \n",
       "1  Cumings, Mrs. John Bradley (Florence Briggs Th...  female  38.0      1   \n",
       "2                             Heikkinen, Miss. Laina  female  26.0      0   \n",
       "3       Futrelle, Mrs. Jacques Heath (Lily May Peel)  female  35.0      1   \n",
       "4                           Allen, Mr. William Henry    male  35.0      0   \n",
       "\n",
       "   parch            ticket     fare cabin embarked boat  body  \\\n",
       "0      0         A/5 21171   7.2500   NaN        S  NaN   NaN   \n",
       "1      0          PC 17599  71.2833   C85        C    4   NaN   \n",
       "2      0  STON/O2. 3101282   7.9250   NaN        S  NaN   NaN   \n",
       "3      0            113803  53.1000  C123        S    D   NaN   \n",
       "4      0            373450   8.0500   NaN        S  NaN   NaN   \n",
       "\n",
       "                                           home.dest  orig_seq  \n",
       "0                                  Bridgerule, Devon       690  \n",
       "1                                       New York, NY        86  \n",
       "2                                                NaN       861  \n",
       "3                                       Scituate, MA       128  \n",
       "4  Lower Clapton, Middlesex or Erdington, Birmingham       619  "
      ]
     },
     "execution_count": 396,
     "metadata": {},
     "output_type": "execute_result"
    }
   ],
   "source": [
    "# Loading the dataset - Train.csv\n",
    "df_tr = pd.read_csv('Train.csv')\n",
    "df_tr.head()"
   ]
  },
  {
   "cell_type": "code",
   "execution_count": 397,
   "metadata": {},
   "outputs": [
    {
     "data": {
      "text/html": [
       "<div>\n",
       "<style scoped>\n",
       "    .dataframe tbody tr th:only-of-type {\n",
       "        vertical-align: middle;\n",
       "    }\n",
       "\n",
       "    .dataframe tbody tr th {\n",
       "        vertical-align: top;\n",
       "    }\n",
       "\n",
       "    .dataframe thead th {\n",
       "        text-align: right;\n",
       "    }\n",
       "</style>\n",
       "<table border=\"1\" class=\"dataframe\">\n",
       "  <thead>\n",
       "    <tr style=\"text-align: right;\">\n",
       "      <th></th>\n",
       "      <th>Kaggle_Pass_Id</th>\n",
       "      <th>pclass</th>\n",
       "      <th>name</th>\n",
       "      <th>sex</th>\n",
       "      <th>age</th>\n",
       "      <th>sibsp</th>\n",
       "      <th>parch</th>\n",
       "      <th>ticket</th>\n",
       "      <th>fare</th>\n",
       "      <th>cabin</th>\n",
       "      <th>embarked</th>\n",
       "      <th>boat</th>\n",
       "      <th>body</th>\n",
       "      <th>home.dest</th>\n",
       "      <th>orig_seq</th>\n",
       "      <th>survived</th>\n",
       "    </tr>\n",
       "  </thead>\n",
       "  <tbody>\n",
       "    <tr>\n",
       "      <th>0</th>\n",
       "      <td>1</td>\n",
       "      <td>3</td>\n",
       "      <td>Braund, Mr. Owen Harris</td>\n",
       "      <td>male</td>\n",
       "      <td>22.0</td>\n",
       "      <td>1</td>\n",
       "      <td>0</td>\n",
       "      <td>A/5 21171</td>\n",
       "      <td>7.2500</td>\n",
       "      <td>NaN</td>\n",
       "      <td>S</td>\n",
       "      <td>NaN</td>\n",
       "      <td>NaN</td>\n",
       "      <td>Bridgerule, Devon</td>\n",
       "      <td>690</td>\n",
       "      <td>0</td>\n",
       "    </tr>\n",
       "    <tr>\n",
       "      <th>1</th>\n",
       "      <td>2</td>\n",
       "      <td>1</td>\n",
       "      <td>Cumings, Mrs. John Bradley (Florence Briggs Th...</td>\n",
       "      <td>female</td>\n",
       "      <td>38.0</td>\n",
       "      <td>1</td>\n",
       "      <td>0</td>\n",
       "      <td>PC 17599</td>\n",
       "      <td>71.2833</td>\n",
       "      <td>C85</td>\n",
       "      <td>C</td>\n",
       "      <td>4</td>\n",
       "      <td>NaN</td>\n",
       "      <td>New York, NY</td>\n",
       "      <td>86</td>\n",
       "      <td>1</td>\n",
       "    </tr>\n",
       "    <tr>\n",
       "      <th>2</th>\n",
       "      <td>3</td>\n",
       "      <td>3</td>\n",
       "      <td>Heikkinen, Miss. Laina</td>\n",
       "      <td>female</td>\n",
       "      <td>26.0</td>\n",
       "      <td>0</td>\n",
       "      <td>0</td>\n",
       "      <td>STON/O2. 3101282</td>\n",
       "      <td>7.9250</td>\n",
       "      <td>NaN</td>\n",
       "      <td>S</td>\n",
       "      <td>NaN</td>\n",
       "      <td>NaN</td>\n",
       "      <td>NaN</td>\n",
       "      <td>861</td>\n",
       "      <td>1</td>\n",
       "    </tr>\n",
       "    <tr>\n",
       "      <th>3</th>\n",
       "      <td>4</td>\n",
       "      <td>1</td>\n",
       "      <td>Futrelle, Mrs. Jacques Heath (Lily May Peel)</td>\n",
       "      <td>female</td>\n",
       "      <td>35.0</td>\n",
       "      <td>1</td>\n",
       "      <td>0</td>\n",
       "      <td>113803</td>\n",
       "      <td>53.1000</td>\n",
       "      <td>C123</td>\n",
       "      <td>S</td>\n",
       "      <td>D</td>\n",
       "      <td>NaN</td>\n",
       "      <td>Scituate, MA</td>\n",
       "      <td>128</td>\n",
       "      <td>1</td>\n",
       "    </tr>\n",
       "    <tr>\n",
       "      <th>4</th>\n",
       "      <td>5</td>\n",
       "      <td>3</td>\n",
       "      <td>Allen, Mr. William Henry</td>\n",
       "      <td>male</td>\n",
       "      <td>35.0</td>\n",
       "      <td>0</td>\n",
       "      <td>0</td>\n",
       "      <td>373450</td>\n",
       "      <td>8.0500</td>\n",
       "      <td>NaN</td>\n",
       "      <td>S</td>\n",
       "      <td>NaN</td>\n",
       "      <td>NaN</td>\n",
       "      <td>Lower Clapton, Middlesex or Erdington, Birmingham</td>\n",
       "      <td>619</td>\n",
       "      <td>0</td>\n",
       "    </tr>\n",
       "  </tbody>\n",
       "</table>\n",
       "</div>"
      ],
      "text/plain": [
       "   Kaggle_Pass_Id  pclass                                               name  \\\n",
       "0               1       3                            Braund, Mr. Owen Harris   \n",
       "1               2       1  Cumings, Mrs. John Bradley (Florence Briggs Th...   \n",
       "2               3       3                             Heikkinen, Miss. Laina   \n",
       "3               4       1       Futrelle, Mrs. Jacques Heath (Lily May Peel)   \n",
       "4               5       3                           Allen, Mr. William Henry   \n",
       "\n",
       "      sex   age  sibsp  parch            ticket     fare cabin embarked boat  \\\n",
       "0    male  22.0      1      0         A/5 21171   7.2500   NaN        S  NaN   \n",
       "1  female  38.0      1      0          PC 17599  71.2833   C85        C    4   \n",
       "2  female  26.0      0      0  STON/O2. 3101282   7.9250   NaN        S  NaN   \n",
       "3  female  35.0      1      0            113803  53.1000  C123        S    D   \n",
       "4    male  35.0      0      0            373450   8.0500   NaN        S  NaN   \n",
       "\n",
       "   body                                          home.dest  orig_seq  survived  \n",
       "0   NaN                                  Bridgerule, Devon       690         0  \n",
       "1   NaN                                       New York, NY        86         1  \n",
       "2   NaN                                                NaN       861         1  \n",
       "3   NaN                                       Scituate, MA       128         1  \n",
       "4   NaN  Lower Clapton, Middlesex or Erdington, Birmingham       619         0  "
      ]
     },
     "execution_count": 397,
     "metadata": {},
     "output_type": "execute_result"
    }
   ],
   "source": [
    "# Making it more beautifull and organized --> Colocando a coluna survived no final:\n",
    "\n",
    "cols = list(df_tr.columns.values) #Make a list of all of the columns in the df\n",
    "cols.pop(cols.index('survived')) #Remove b from list\n",
    "df_tr = df_tr[cols+['survived']] #Create new dataframe with columns in the order you want\n",
    "\n",
    "df_tr.head()\n"
   ]
  },
  {
   "cell_type": "markdown",
   "metadata": {},
   "source": [
    "### Testing Dataset:"
   ]
  },
  {
   "cell_type": "code",
   "execution_count": 398,
   "metadata": {},
   "outputs": [
    {
     "data": {
      "text/html": [
       "<div>\n",
       "<style scoped>\n",
       "    .dataframe tbody tr th:only-of-type {\n",
       "        vertical-align: middle;\n",
       "    }\n",
       "\n",
       "    .dataframe tbody tr th {\n",
       "        vertical-align: top;\n",
       "    }\n",
       "\n",
       "    .dataframe thead th {\n",
       "        text-align: right;\n",
       "    }\n",
       "</style>\n",
       "<table border=\"1\" class=\"dataframe\">\n",
       "  <thead>\n",
       "    <tr style=\"text-align: right;\">\n",
       "      <th></th>\n",
       "      <th>Kaggle_Pass_Id</th>\n",
       "      <th>pclass</th>\n",
       "      <th>name</th>\n",
       "      <th>sex</th>\n",
       "      <th>age</th>\n",
       "      <th>sibsp</th>\n",
       "      <th>parch</th>\n",
       "      <th>ticket</th>\n",
       "      <th>fare</th>\n",
       "      <th>cabin</th>\n",
       "      <th>embarked</th>\n",
       "      <th>boat</th>\n",
       "      <th>body</th>\n",
       "      <th>home.dest</th>\n",
       "      <th>orig_seq</th>\n",
       "    </tr>\n",
       "  </thead>\n",
       "  <tbody>\n",
       "    <tr>\n",
       "      <th>0</th>\n",
       "      <td>892.0</td>\n",
       "      <td>3.0</td>\n",
       "      <td>Kelly, Mr. James</td>\n",
       "      <td>male</td>\n",
       "      <td>34.5</td>\n",
       "      <td>0.0</td>\n",
       "      <td>0.0</td>\n",
       "      <td>330911</td>\n",
       "      <td>7.8292</td>\n",
       "      <td>NaN</td>\n",
       "      <td>Q</td>\n",
       "      <td>NaN</td>\n",
       "      <td>70.0</td>\n",
       "      <td>NaN</td>\n",
       "      <td>925.0</td>\n",
       "    </tr>\n",
       "    <tr>\n",
       "      <th>1</th>\n",
       "      <td>893.0</td>\n",
       "      <td>3.0</td>\n",
       "      <td>Wilkes, Mrs. James (Ellen Needs)</td>\n",
       "      <td>female</td>\n",
       "      <td>47.0</td>\n",
       "      <td>1.0</td>\n",
       "      <td>0.0</td>\n",
       "      <td>363272</td>\n",
       "      <td>7.0000</td>\n",
       "      <td>NaN</td>\n",
       "      <td>S</td>\n",
       "      <td>NaN</td>\n",
       "      <td>NaN</td>\n",
       "      <td>NaN</td>\n",
       "      <td>1291.0</td>\n",
       "    </tr>\n",
       "    <tr>\n",
       "      <th>2</th>\n",
       "      <td>894.0</td>\n",
       "      <td>2.0</td>\n",
       "      <td>Myles, Mr. Thomas Francis</td>\n",
       "      <td>male</td>\n",
       "      <td>62.0</td>\n",
       "      <td>0.0</td>\n",
       "      <td>0.0</td>\n",
       "      <td>240276</td>\n",
       "      <td>9.6875</td>\n",
       "      <td>NaN</td>\n",
       "      <td>Q</td>\n",
       "      <td>NaN</td>\n",
       "      <td>NaN</td>\n",
       "      <td>Cambridge, MA</td>\n",
       "      <td>512.0</td>\n",
       "    </tr>\n",
       "    <tr>\n",
       "      <th>3</th>\n",
       "      <td>895.0</td>\n",
       "      <td>3.0</td>\n",
       "      <td>Wirz, Mr. Albert</td>\n",
       "      <td>male</td>\n",
       "      <td>27.0</td>\n",
       "      <td>0.0</td>\n",
       "      <td>0.0</td>\n",
       "      <td>315154</td>\n",
       "      <td>8.6625</td>\n",
       "      <td>NaN</td>\n",
       "      <td>S</td>\n",
       "      <td>NaN</td>\n",
       "      <td>131.0</td>\n",
       "      <td>NaN</td>\n",
       "      <td>1297.0</td>\n",
       "    </tr>\n",
       "    <tr>\n",
       "      <th>4</th>\n",
       "      <td>896.0</td>\n",
       "      <td>3.0</td>\n",
       "      <td>Hirvonen, Mrs. Alexander (Helga E Lindqvist)</td>\n",
       "      <td>female</td>\n",
       "      <td>22.0</td>\n",
       "      <td>1.0</td>\n",
       "      <td>1.0</td>\n",
       "      <td>3101298</td>\n",
       "      <td>12.2875</td>\n",
       "      <td>NaN</td>\n",
       "      <td>S</td>\n",
       "      <td>15</td>\n",
       "      <td>NaN</td>\n",
       "      <td>NaN</td>\n",
       "      <td>868.0</td>\n",
       "    </tr>\n",
       "  </tbody>\n",
       "</table>\n",
       "</div>"
      ],
      "text/plain": [
       "   Kaggle_Pass_Id  pclass                                          name  \\\n",
       "0           892.0     3.0                              Kelly, Mr. James   \n",
       "1           893.0     3.0              Wilkes, Mrs. James (Ellen Needs)   \n",
       "2           894.0     2.0                     Myles, Mr. Thomas Francis   \n",
       "3           895.0     3.0                              Wirz, Mr. Albert   \n",
       "4           896.0     3.0  Hirvonen, Mrs. Alexander (Helga E Lindqvist)   \n",
       "\n",
       "      sex   age  sibsp  parch   ticket     fare cabin embarked boat   body  \\\n",
       "0    male  34.5    0.0    0.0   330911   7.8292   NaN        Q  NaN   70.0   \n",
       "1  female  47.0    1.0    0.0   363272   7.0000   NaN        S  NaN    NaN   \n",
       "2    male  62.0    0.0    0.0   240276   9.6875   NaN        Q  NaN    NaN   \n",
       "3    male  27.0    0.0    0.0   315154   8.6625   NaN        S  NaN  131.0   \n",
       "4  female  22.0    1.0    1.0  3101298  12.2875   NaN        S   15    NaN   \n",
       "\n",
       "       home.dest  orig_seq  \n",
       "0            NaN     925.0  \n",
       "1            NaN    1291.0  \n",
       "2  Cambridge, MA     512.0  \n",
       "3            NaN    1297.0  \n",
       "4            NaN     868.0  "
      ]
     },
     "execution_count": 398,
     "metadata": {},
     "output_type": "execute_result"
    }
   ],
   "source": [
    "# Loading the dataset - Train.csv\n",
    "df_tt = pd.read_csv('Test.csv')\n",
    "df_tt.head()"
   ]
  },
  {
   "cell_type": "markdown",
   "metadata": {},
   "source": [
    "---\n"
   ]
  },
  {
   "cell_type": "markdown",
   "metadata": {},
   "source": [
    "### Datasets shape and dropouts"
   ]
  },
  {
   "cell_type": "code",
   "execution_count": 399,
   "metadata": {},
   "outputs": [
    {
     "name": "stdout",
     "output_type": "stream",
     "text": [
      "Shape of train:  (891, 16)\n",
      "Shape of test:  (419, 15)\n"
     ]
    }
   ],
   "source": [
    "# Checking the rows and columns of each dataset:\n",
    "print(\"Shape of train: \", df_tr.shape)\n",
    "print(\"Shape of test: \", df_tt.shape)\n"
   ]
  },
  {
   "cell_type": "code",
   "execution_count": 400,
   "metadata": {},
   "outputs": [
    {
     "name": "stdout",
     "output_type": "stream",
     "text": [
      "Shape of train:  (891, 16)\n",
      "Shape of test:  (419, 15)\n"
     ]
    }
   ],
   "source": [
    "# Removing duplicates \n",
    "df_tr.drop_duplicates(keep='first', inplace=True)      # inplace = true -> usa o mesmo objeto que ta na memória\n",
    "df_tt.drop_duplicates(keep='first', inplace=True)      # inplace = true -> usa o mesmo objeto que ta na memória\n",
    "\n",
    "print(\"Shape of train: \", df_tr.shape)\n",
    "print(\"Shape of test: \", df_tt.shape)"
   ]
  },
  {
   "cell_type": "markdown",
   "metadata": {},
   "source": [
    "---"
   ]
  },
  {
   "cell_type": "markdown",
   "metadata": {},
   "source": [
    "### Checking infos about the Train dataset:"
   ]
  },
  {
   "cell_type": "code",
   "execution_count": 401,
   "metadata": {},
   "outputs": [
    {
     "data": {
      "text/html": [
       "<div>\n",
       "<style scoped>\n",
       "    .dataframe tbody tr th:only-of-type {\n",
       "        vertical-align: middle;\n",
       "    }\n",
       "\n",
       "    .dataframe tbody tr th {\n",
       "        vertical-align: top;\n",
       "    }\n",
       "\n",
       "    .dataframe thead th {\n",
       "        text-align: right;\n",
       "    }\n",
       "</style>\n",
       "<table border=\"1\" class=\"dataframe\">\n",
       "  <thead>\n",
       "    <tr style=\"text-align: right;\">\n",
       "      <th></th>\n",
       "      <th>Kaggle_Pass_Id</th>\n",
       "      <th>pclass</th>\n",
       "      <th>age</th>\n",
       "      <th>sibsp</th>\n",
       "      <th>parch</th>\n",
       "      <th>fare</th>\n",
       "      <th>body</th>\n",
       "      <th>orig_seq</th>\n",
       "      <th>survived</th>\n",
       "    </tr>\n",
       "  </thead>\n",
       "  <tbody>\n",
       "    <tr>\n",
       "      <th>count</th>\n",
       "      <td>891.000000</td>\n",
       "      <td>891.000000</td>\n",
       "      <td>714.000000</td>\n",
       "      <td>891.000000</td>\n",
       "      <td>891.000000</td>\n",
       "      <td>891.000000</td>\n",
       "      <td>83.000000</td>\n",
       "      <td>891.000000</td>\n",
       "      <td>891.000000</td>\n",
       "    </tr>\n",
       "    <tr>\n",
       "      <th>mean</th>\n",
       "      <td>446.000000</td>\n",
       "      <td>2.308642</td>\n",
       "      <td>29.699113</td>\n",
       "      <td>0.523008</td>\n",
       "      <td>0.381594</td>\n",
       "      <td>32.204208</td>\n",
       "      <td>162.843373</td>\n",
       "      <td>662.304153</td>\n",
       "      <td>0.383838</td>\n",
       "    </tr>\n",
       "    <tr>\n",
       "      <th>std</th>\n",
       "      <td>257.353842</td>\n",
       "      <td>0.836071</td>\n",
       "      <td>14.526507</td>\n",
       "      <td>1.102743</td>\n",
       "      <td>0.806057</td>\n",
       "      <td>49.693429</td>\n",
       "      <td>96.945356</td>\n",
       "      <td>378.282967</td>\n",
       "      <td>0.486592</td>\n",
       "    </tr>\n",
       "    <tr>\n",
       "      <th>min</th>\n",
       "      <td>1.000000</td>\n",
       "      <td>1.000000</td>\n",
       "      <td>0.416700</td>\n",
       "      <td>0.000000</td>\n",
       "      <td>0.000000</td>\n",
       "      <td>0.000000</td>\n",
       "      <td>4.000000</td>\n",
       "      <td>1.000000</td>\n",
       "      <td>0.000000</td>\n",
       "    </tr>\n",
       "    <tr>\n",
       "      <th>25%</th>\n",
       "      <td>223.500000</td>\n",
       "      <td>2.000000</td>\n",
       "      <td>20.125000</td>\n",
       "      <td>0.000000</td>\n",
       "      <td>0.000000</td>\n",
       "      <td>7.910400</td>\n",
       "      <td>73.500000</td>\n",
       "      <td>335.500000</td>\n",
       "      <td>0.000000</td>\n",
       "    </tr>\n",
       "    <tr>\n",
       "      <th>50%</th>\n",
       "      <td>446.000000</td>\n",
       "      <td>3.000000</td>\n",
       "      <td>28.000000</td>\n",
       "      <td>0.000000</td>\n",
       "      <td>0.000000</td>\n",
       "      <td>14.454200</td>\n",
       "      <td>169.000000</td>\n",
       "      <td>666.000000</td>\n",
       "      <td>0.000000</td>\n",
       "    </tr>\n",
       "    <tr>\n",
       "      <th>75%</th>\n",
       "      <td>668.500000</td>\n",
       "      <td>3.000000</td>\n",
       "      <td>38.000000</td>\n",
       "      <td>1.000000</td>\n",
       "      <td>0.000000</td>\n",
       "      <td>31.000000</td>\n",
       "      <td>252.000000</td>\n",
       "      <td>993.500000</td>\n",
       "      <td>1.000000</td>\n",
       "    </tr>\n",
       "    <tr>\n",
       "      <th>max</th>\n",
       "      <td>891.000000</td>\n",
       "      <td>3.000000</td>\n",
       "      <td>80.000000</td>\n",
       "      <td>8.000000</td>\n",
       "      <td>6.000000</td>\n",
       "      <td>512.329200</td>\n",
       "      <td>328.000000</td>\n",
       "      <td>1309.000000</td>\n",
       "      <td>1.000000</td>\n",
       "    </tr>\n",
       "  </tbody>\n",
       "</table>\n",
       "</div>"
      ],
      "text/plain": [
       "       Kaggle_Pass_Id      pclass         age       sibsp       parch  \\\n",
       "count      891.000000  891.000000  714.000000  891.000000  891.000000   \n",
       "mean       446.000000    2.308642   29.699113    0.523008    0.381594   \n",
       "std        257.353842    0.836071   14.526507    1.102743    0.806057   \n",
       "min          1.000000    1.000000    0.416700    0.000000    0.000000   \n",
       "25%        223.500000    2.000000   20.125000    0.000000    0.000000   \n",
       "50%        446.000000    3.000000   28.000000    0.000000    0.000000   \n",
       "75%        668.500000    3.000000   38.000000    1.000000    0.000000   \n",
       "max        891.000000    3.000000   80.000000    8.000000    6.000000   \n",
       "\n",
       "             fare        body     orig_seq    survived  \n",
       "count  891.000000   83.000000   891.000000  891.000000  \n",
       "mean    32.204208  162.843373   662.304153    0.383838  \n",
       "std     49.693429   96.945356   378.282967    0.486592  \n",
       "min      0.000000    4.000000     1.000000    0.000000  \n",
       "25%      7.910400   73.500000   335.500000    0.000000  \n",
       "50%     14.454200  169.000000   666.000000    0.000000  \n",
       "75%     31.000000  252.000000   993.500000    1.000000  \n",
       "max    512.329200  328.000000  1309.000000    1.000000  "
      ]
     },
     "execution_count": 401,
     "metadata": {},
     "output_type": "execute_result"
    }
   ],
   "source": [
    "# Checking the dataset of Train:\n",
    "\n",
    "df_tr.describe()"
   ]
  },
  {
   "cell_type": "code",
   "execution_count": 402,
   "metadata": {},
   "outputs": [
    {
     "name": "stdout",
     "output_type": "stream",
     "text": [
      "<class 'pandas.core.frame.DataFrame'>\n",
      "Int64Index: 891 entries, 0 to 890\n",
      "Data columns (total 16 columns):\n",
      " #   Column          Non-Null Count  Dtype  \n",
      "---  ------          --------------  -----  \n",
      " 0   Kaggle_Pass_Id  891 non-null    int64  \n",
      " 1   pclass          891 non-null    int64  \n",
      " 2   name            891 non-null    object \n",
      " 3   sex             891 non-null    object \n",
      " 4   age             714 non-null    float64\n",
      " 5   sibsp           891 non-null    int64  \n",
      " 6   parch           891 non-null    int64  \n",
      " 7   ticket          891 non-null    object \n",
      " 8   fare            891 non-null    float64\n",
      " 9   cabin           204 non-null    object \n",
      " 10  embarked        889 non-null    object \n",
      " 11  boat            330 non-null    object \n",
      " 12  body            83 non-null     float64\n",
      " 13  home.dest       499 non-null    object \n",
      " 14  orig_seq        891 non-null    int64  \n",
      " 15  survived        891 non-null    int64  \n",
      "dtypes: float64(3), int64(6), object(7)\n",
      "memory usage: 118.3+ KB\n"
     ]
    }
   ],
   "source": [
    "df_tr.info()"
   ]
  },
  {
   "cell_type": "code",
   "execution_count": 403,
   "metadata": {},
   "outputs": [
    {
     "data": {
      "text/plain": [
       "Kaggle_Pass_Id      0\n",
       "pclass              0\n",
       "name                0\n",
       "sex                 0\n",
       "age               177\n",
       "sibsp               0\n",
       "parch               0\n",
       "ticket              0\n",
       "fare                0\n",
       "cabin             687\n",
       "embarked            2\n",
       "boat              561\n",
       "body              808\n",
       "home.dest         392\n",
       "orig_seq            0\n",
       "survived            0\n",
       "dtype: int64"
      ]
     },
     "execution_count": 403,
     "metadata": {},
     "output_type": "execute_result"
    }
   ],
   "source": [
    "# Checking if exists null values\n",
    "df_tr.isnull().sum()"
   ]
  },
  {
   "cell_type": "code",
   "execution_count": 404,
   "metadata": {},
   "outputs": [
    {
     "data": {
      "text/html": [
       "<div>\n",
       "<style scoped>\n",
       "    .dataframe tbody tr th:only-of-type {\n",
       "        vertical-align: middle;\n",
       "    }\n",
       "\n",
       "    .dataframe tbody tr th {\n",
       "        vertical-align: top;\n",
       "    }\n",
       "\n",
       "    .dataframe thead th {\n",
       "        text-align: right;\n",
       "    }\n",
       "</style>\n",
       "<table border=\"1\" class=\"dataframe\">\n",
       "  <thead>\n",
       "    <tr style=\"text-align: right;\">\n",
       "      <th></th>\n",
       "      <th>Total</th>\n",
       "      <th>%</th>\n",
       "    </tr>\n",
       "  </thead>\n",
       "  <tbody>\n",
       "    <tr>\n",
       "      <th>Kaggle_Pass_Id</th>\n",
       "      <td>0</td>\n",
       "      <td>0.0</td>\n",
       "    </tr>\n",
       "    <tr>\n",
       "      <th>pclass</th>\n",
       "      <td>0</td>\n",
       "      <td>0.0</td>\n",
       "    </tr>\n",
       "    <tr>\n",
       "      <th>name</th>\n",
       "      <td>0</td>\n",
       "      <td>0.0</td>\n",
       "    </tr>\n",
       "    <tr>\n",
       "      <th>sex</th>\n",
       "      <td>0</td>\n",
       "      <td>0.0</td>\n",
       "    </tr>\n",
       "    <tr>\n",
       "      <th>age</th>\n",
       "      <td>177</td>\n",
       "      <td>19.9</td>\n",
       "    </tr>\n",
       "    <tr>\n",
       "      <th>sibsp</th>\n",
       "      <td>0</td>\n",
       "      <td>0.0</td>\n",
       "    </tr>\n",
       "    <tr>\n",
       "      <th>parch</th>\n",
       "      <td>0</td>\n",
       "      <td>0.0</td>\n",
       "    </tr>\n",
       "    <tr>\n",
       "      <th>ticket</th>\n",
       "      <td>0</td>\n",
       "      <td>0.0</td>\n",
       "    </tr>\n",
       "    <tr>\n",
       "      <th>fare</th>\n",
       "      <td>0</td>\n",
       "      <td>0.0</td>\n",
       "    </tr>\n",
       "    <tr>\n",
       "      <th>cabin</th>\n",
       "      <td>687</td>\n",
       "      <td>77.1</td>\n",
       "    </tr>\n",
       "    <tr>\n",
       "      <th>embarked</th>\n",
       "      <td>2</td>\n",
       "      <td>0.2</td>\n",
       "    </tr>\n",
       "    <tr>\n",
       "      <th>boat</th>\n",
       "      <td>561</td>\n",
       "      <td>63.0</td>\n",
       "    </tr>\n",
       "    <tr>\n",
       "      <th>body</th>\n",
       "      <td>808</td>\n",
       "      <td>90.7</td>\n",
       "    </tr>\n",
       "    <tr>\n",
       "      <th>home.dest</th>\n",
       "      <td>392</td>\n",
       "      <td>44.0</td>\n",
       "    </tr>\n",
       "    <tr>\n",
       "      <th>orig_seq</th>\n",
       "      <td>0</td>\n",
       "      <td>0.0</td>\n",
       "    </tr>\n",
       "    <tr>\n",
       "      <th>survived</th>\n",
       "      <td>0</td>\n",
       "      <td>0.0</td>\n",
       "    </tr>\n",
       "  </tbody>\n",
       "</table>\n",
       "</div>"
      ],
      "text/plain": [
       "                Total     %\n",
       "Kaggle_Pass_Id      0   0.0\n",
       "pclass              0   0.0\n",
       "name                0   0.0\n",
       "sex                 0   0.0\n",
       "age               177  19.9\n",
       "sibsp               0   0.0\n",
       "parch               0   0.0\n",
       "ticket              0   0.0\n",
       "fare                0   0.0\n",
       "cabin             687  77.1\n",
       "embarked            2   0.2\n",
       "boat              561  63.0\n",
       "body              808  90.7\n",
       "home.dest         392  44.0\n",
       "orig_seq            0   0.0\n",
       "survived            0   0.0"
      ]
     },
     "execution_count": 404,
     "metadata": {},
     "output_type": "execute_result"
    }
   ],
   "source": [
    "# Colocando em porcentagem para facilitar:\n",
    "\n",
    "total = df_tr.isnull().sum()#sort_values(ascending=False)\n",
    "aux = df_tr.isnull().sum()/df_tr.isnull().count()*100\n",
    "percent = (round(aux, 1))#.sort_values(ascending=False)\n",
    "missing_data = pd.concat([total, percent], axis=1, keys=['Total', '%'])\n",
    "missing_data.head(16)"
   ]
  },
  {
   "cell_type": "markdown",
   "metadata": {},
   "source": [
    "---"
   ]
  },
  {
   "cell_type": "markdown",
   "metadata": {},
   "source": [
    "### Checking infos about the Test dataset:"
   ]
  },
  {
   "cell_type": "code",
   "execution_count": 405,
   "metadata": {},
   "outputs": [
    {
     "data": {
      "text/html": [
       "<div>\n",
       "<style scoped>\n",
       "    .dataframe tbody tr th:only-of-type {\n",
       "        vertical-align: middle;\n",
       "    }\n",
       "\n",
       "    .dataframe tbody tr th {\n",
       "        vertical-align: top;\n",
       "    }\n",
       "\n",
       "    .dataframe thead th {\n",
       "        text-align: right;\n",
       "    }\n",
       "</style>\n",
       "<table border=\"1\" class=\"dataframe\">\n",
       "  <thead>\n",
       "    <tr style=\"text-align: right;\">\n",
       "      <th></th>\n",
       "      <th>Kaggle_Pass_Id</th>\n",
       "      <th>pclass</th>\n",
       "      <th>age</th>\n",
       "      <th>sibsp</th>\n",
       "      <th>parch</th>\n",
       "      <th>fare</th>\n",
       "      <th>body</th>\n",
       "      <th>orig_seq</th>\n",
       "    </tr>\n",
       "  </thead>\n",
       "  <tbody>\n",
       "    <tr>\n",
       "      <th>count</th>\n",
       "      <td>418.000000</td>\n",
       "      <td>418.000000</td>\n",
       "      <td>332.000000</td>\n",
       "      <td>418.000000</td>\n",
       "      <td>418.000000</td>\n",
       "      <td>417.000000</td>\n",
       "      <td>38.000000</td>\n",
       "      <td>418.000000</td>\n",
       "    </tr>\n",
       "    <tr>\n",
       "      <th>mean</th>\n",
       "      <td>1100.500000</td>\n",
       "      <td>2.265550</td>\n",
       "      <td>30.272590</td>\n",
       "      <td>0.447368</td>\n",
       "      <td>0.392344</td>\n",
       "      <td>35.627188</td>\n",
       "      <td>156.368421</td>\n",
       "      <td>639.430622</td>\n",
       "    </tr>\n",
       "    <tr>\n",
       "      <th>std</th>\n",
       "      <td>120.810458</td>\n",
       "      <td>0.841838</td>\n",
       "      <td>14.181209</td>\n",
       "      <td>0.896760</td>\n",
       "      <td>0.981429</td>\n",
       "      <td>55.907576</td>\n",
       "      <td>100.485422</td>\n",
       "      <td>377.439393</td>\n",
       "    </tr>\n",
       "    <tr>\n",
       "      <th>min</th>\n",
       "      <td>892.000000</td>\n",
       "      <td>1.000000</td>\n",
       "      <td>0.166700</td>\n",
       "      <td>0.000000</td>\n",
       "      <td>0.000000</td>\n",
       "      <td>0.000000</td>\n",
       "      <td>1.000000</td>\n",
       "      <td>4.000000</td>\n",
       "    </tr>\n",
       "    <tr>\n",
       "      <th>25%</th>\n",
       "      <td>996.250000</td>\n",
       "      <td>1.000000</td>\n",
       "      <td>21.000000</td>\n",
       "      <td>0.000000</td>\n",
       "      <td>0.000000</td>\n",
       "      <td>7.895800</td>\n",
       "      <td>72.500000</td>\n",
       "      <td>316.500000</td>\n",
       "    </tr>\n",
       "    <tr>\n",
       "      <th>50%</th>\n",
       "      <td>1100.500000</td>\n",
       "      <td>3.000000</td>\n",
       "      <td>27.000000</td>\n",
       "      <td>0.000000</td>\n",
       "      <td>0.000000</td>\n",
       "      <td>14.454200</td>\n",
       "      <td>134.000000</td>\n",
       "      <td>633.500000</td>\n",
       "    </tr>\n",
       "    <tr>\n",
       "      <th>75%</th>\n",
       "      <td>1204.750000</td>\n",
       "      <td>3.000000</td>\n",
       "      <td>39.000000</td>\n",
       "      <td>1.000000</td>\n",
       "      <td>0.000000</td>\n",
       "      <td>31.500000</td>\n",
       "      <td>260.750000</td>\n",
       "      <td>961.250000</td>\n",
       "    </tr>\n",
       "    <tr>\n",
       "      <th>max</th>\n",
       "      <td>1309.000000</td>\n",
       "      <td>3.000000</td>\n",
       "      <td>76.000000</td>\n",
       "      <td>8.000000</td>\n",
       "      <td>9.000000</td>\n",
       "      <td>512.329200</td>\n",
       "      <td>307.000000</td>\n",
       "      <td>1308.000000</td>\n",
       "    </tr>\n",
       "  </tbody>\n",
       "</table>\n",
       "</div>"
      ],
      "text/plain": [
       "       Kaggle_Pass_Id      pclass         age       sibsp       parch  \\\n",
       "count      418.000000  418.000000  332.000000  418.000000  418.000000   \n",
       "mean      1100.500000    2.265550   30.272590    0.447368    0.392344   \n",
       "std        120.810458    0.841838   14.181209    0.896760    0.981429   \n",
       "min        892.000000    1.000000    0.166700    0.000000    0.000000   \n",
       "25%        996.250000    1.000000   21.000000    0.000000    0.000000   \n",
       "50%       1100.500000    3.000000   27.000000    0.000000    0.000000   \n",
       "75%       1204.750000    3.000000   39.000000    1.000000    0.000000   \n",
       "max       1309.000000    3.000000   76.000000    8.000000    9.000000   \n",
       "\n",
       "             fare        body     orig_seq  \n",
       "count  417.000000   38.000000   418.000000  \n",
       "mean    35.627188  156.368421   639.430622  \n",
       "std     55.907576  100.485422   377.439393  \n",
       "min      0.000000    1.000000     4.000000  \n",
       "25%      7.895800   72.500000   316.500000  \n",
       "50%     14.454200  134.000000   633.500000  \n",
       "75%     31.500000  260.750000   961.250000  \n",
       "max    512.329200  307.000000  1308.000000  "
      ]
     },
     "execution_count": 405,
     "metadata": {},
     "output_type": "execute_result"
    }
   ],
   "source": [
    "# Checking the dataset of Train:\n",
    "\n",
    "df_tt.describe()"
   ]
  },
  {
   "cell_type": "code",
   "execution_count": 406,
   "metadata": {},
   "outputs": [
    {
     "name": "stdout",
     "output_type": "stream",
     "text": [
      "<class 'pandas.core.frame.DataFrame'>\n",
      "Int64Index: 419 entries, 0 to 418\n",
      "Data columns (total 15 columns):\n",
      " #   Column          Non-Null Count  Dtype  \n",
      "---  ------          --------------  -----  \n",
      " 0   Kaggle_Pass_Id  418 non-null    float64\n",
      " 1   pclass          418 non-null    float64\n",
      " 2   name            418 non-null    object \n",
      " 3   sex             418 non-null    object \n",
      " 4   age             332 non-null    float64\n",
      " 5   sibsp           418 non-null    float64\n",
      " 6   parch           418 non-null    float64\n",
      " 7   ticket          418 non-null    object \n",
      " 8   fare            417 non-null    float64\n",
      " 9   cabin           91 non-null     object \n",
      " 10  embarked        418 non-null    object \n",
      " 11  boat            156 non-null    object \n",
      " 12  body            38 non-null     float64\n",
      " 13  home.dest       246 non-null    object \n",
      " 14  orig_seq        418 non-null    float64\n",
      "dtypes: float64(8), object(7)\n",
      "memory usage: 52.4+ KB\n"
     ]
    }
   ],
   "source": [
    "df_tt.info()"
   ]
  },
  {
   "cell_type": "code",
   "execution_count": 407,
   "metadata": {},
   "outputs": [
    {
     "data": {
      "text/plain": [
       "Kaggle_Pass_Id      1\n",
       "pclass              1\n",
       "name                1\n",
       "sex                 1\n",
       "age                87\n",
       "sibsp               1\n",
       "parch               1\n",
       "ticket              1\n",
       "fare                2\n",
       "cabin             328\n",
       "embarked            1\n",
       "boat              263\n",
       "body              381\n",
       "home.dest         173\n",
       "orig_seq            1\n",
       "dtype: int64"
      ]
     },
     "execution_count": 407,
     "metadata": {},
     "output_type": "execute_result"
    }
   ],
   "source": [
    "# Checking if exists null values\n",
    "df_tt.isnull().sum()"
   ]
  },
  {
   "cell_type": "code",
   "execution_count": 408,
   "metadata": {},
   "outputs": [
    {
     "data": {
      "text/html": [
       "<div>\n",
       "<style scoped>\n",
       "    .dataframe tbody tr th:only-of-type {\n",
       "        vertical-align: middle;\n",
       "    }\n",
       "\n",
       "    .dataframe tbody tr th {\n",
       "        vertical-align: top;\n",
       "    }\n",
       "\n",
       "    .dataframe thead th {\n",
       "        text-align: right;\n",
       "    }\n",
       "</style>\n",
       "<table border=\"1\" class=\"dataframe\">\n",
       "  <thead>\n",
       "    <tr style=\"text-align: right;\">\n",
       "      <th></th>\n",
       "      <th>Total</th>\n",
       "      <th>%</th>\n",
       "    </tr>\n",
       "  </thead>\n",
       "  <tbody>\n",
       "    <tr>\n",
       "      <th>Kaggle_Pass_Id</th>\n",
       "      <td>1</td>\n",
       "      <td>0.2</td>\n",
       "    </tr>\n",
       "    <tr>\n",
       "      <th>pclass</th>\n",
       "      <td>1</td>\n",
       "      <td>0.2</td>\n",
       "    </tr>\n",
       "    <tr>\n",
       "      <th>name</th>\n",
       "      <td>1</td>\n",
       "      <td>0.2</td>\n",
       "    </tr>\n",
       "    <tr>\n",
       "      <th>sex</th>\n",
       "      <td>1</td>\n",
       "      <td>0.2</td>\n",
       "    </tr>\n",
       "    <tr>\n",
       "      <th>age</th>\n",
       "      <td>87</td>\n",
       "      <td>20.8</td>\n",
       "    </tr>\n",
       "    <tr>\n",
       "      <th>sibsp</th>\n",
       "      <td>1</td>\n",
       "      <td>0.2</td>\n",
       "    </tr>\n",
       "    <tr>\n",
       "      <th>parch</th>\n",
       "      <td>1</td>\n",
       "      <td>0.2</td>\n",
       "    </tr>\n",
       "    <tr>\n",
       "      <th>ticket</th>\n",
       "      <td>1</td>\n",
       "      <td>0.2</td>\n",
       "    </tr>\n",
       "    <tr>\n",
       "      <th>fare</th>\n",
       "      <td>2</td>\n",
       "      <td>0.5</td>\n",
       "    </tr>\n",
       "    <tr>\n",
       "      <th>cabin</th>\n",
       "      <td>328</td>\n",
       "      <td>78.3</td>\n",
       "    </tr>\n",
       "    <tr>\n",
       "      <th>embarked</th>\n",
       "      <td>1</td>\n",
       "      <td>0.2</td>\n",
       "    </tr>\n",
       "    <tr>\n",
       "      <th>boat</th>\n",
       "      <td>263</td>\n",
       "      <td>62.8</td>\n",
       "    </tr>\n",
       "    <tr>\n",
       "      <th>body</th>\n",
       "      <td>381</td>\n",
       "      <td>90.9</td>\n",
       "    </tr>\n",
       "    <tr>\n",
       "      <th>home.dest</th>\n",
       "      <td>173</td>\n",
       "      <td>41.3</td>\n",
       "    </tr>\n",
       "    <tr>\n",
       "      <th>orig_seq</th>\n",
       "      <td>1</td>\n",
       "      <td>0.2</td>\n",
       "    </tr>\n",
       "  </tbody>\n",
       "</table>\n",
       "</div>"
      ],
      "text/plain": [
       "                Total     %\n",
       "Kaggle_Pass_Id      1   0.2\n",
       "pclass              1   0.2\n",
       "name                1   0.2\n",
       "sex                 1   0.2\n",
       "age                87  20.8\n",
       "sibsp               1   0.2\n",
       "parch               1   0.2\n",
       "ticket              1   0.2\n",
       "fare                2   0.5\n",
       "cabin             328  78.3\n",
       "embarked            1   0.2\n",
       "boat              263  62.8\n",
       "body              381  90.9\n",
       "home.dest         173  41.3\n",
       "orig_seq            1   0.2"
      ]
     },
     "execution_count": 408,
     "metadata": {},
     "output_type": "execute_result"
    }
   ],
   "source": [
    "# Colocando em porcentagem para facilitar:\n",
    "\n",
    "total = df_tt.isnull().sum()#sort_values(ascending=False)\n",
    "aux = df_tt.isnull().sum()/df_tt.isnull().count()*100\n",
    "percent = (round(aux, 1))#.sort_values(ascending=False)\n",
    "missing_data = pd.concat([total, percent], axis=1, keys=['Total', '%'])\n",
    "missing_data.head(16)"
   ]
  },
  {
   "cell_type": "markdown",
   "metadata": {},
   "source": [
    "---\n"
   ]
  },
  {
   "cell_type": "markdown",
   "metadata": {},
   "source": [
    "### Checking the porporsion of survived and not survived:"
   ]
  },
  {
   "cell_type": "code",
   "execution_count": 409,
   "metadata": {},
   "outputs": [
    {
     "data": {
      "text/plain": [
       "0    549\n",
       "1    342\n",
       "Name: survived, dtype: int64"
      ]
     },
     "execution_count": 409,
     "metadata": {},
     "output_type": "execute_result"
    }
   ],
   "source": [
    "# Checking the data distribution for each class\n",
    "df_tr['survived'].value_counts()"
   ]
  },
  {
   "cell_type": "code",
   "execution_count": 410,
   "metadata": {},
   "outputs": [
    {
     "data": {
      "image/png": "[encoded data removed]",
      "text/plain": [
       "<Figure size 432x288 with 1 Axes>"
      ]
     },
     "metadata": {
      "needs_background": "light"
     },
     "output_type": "display_data"
    }
   ],
   "source": [
    "# Checking the data distribution for each class\n",
    "sns.countplot(data=df_tr, x='survived');"
   ]
  },
  {
   "cell_type": "code",
   "execution_count": 411,
   "metadata": {},
   "outputs": [
    {
     "data": {
      "image/png": "[encoded data removed]",
      "text/plain": [
       "<Figure size 396x396 with 2 Axes>"
      ]
     },
     "metadata": {
      "needs_background": "light"
     },
     "output_type": "display_data"
    }
   ],
   "source": [
    "# Checking the data correlation between the variables\n",
    "plt.figure(figsize=(5.5, 5.5))\n",
    "sns.heatmap(df_tr.corr(), cmap=\"BuPu\");"
   ]
  },
  {
   "cell_type": "markdown",
   "metadata": {},
   "source": [
    "#### Conclusões parciais:"
   ]
  },
  {
   "cell_type": "markdown",
   "metadata": {},
   "source": [
    "+ Observa-se inicialmente que a quantidade de pessoas que não sobreviveram (549), representado pelo número 0, é levemente maior que o número de pessoas que supreviveram (342), representado pelo número 1, logo é plausível de se considerar a realização de um dataset balacing para obter o mesmo número de amostras para cada caso.\n",
    "+ Segunda observação é referente ao preenchimento de algumas colunas das tabelas, como por exemplo: Cabine (cabin), corpo (body) e barco (boat), possui uma alta porcentagem de valores faltantes, chegando em alguns casos a 90% de valores nulos, assim sendo, podemos considerar futuramente realizar o drop dessas colunas.\n",
    "+ Terceira observação é em relação ao tipo de alguns dados, os quais não são valores numérios, mas sim categórico, o que pode vir a atrapalhar o resultado final.\n",
    "+ Quarta e última observação vai para as colunas SibSp e Parch que representando acompanhantes dos donos dos tickets, a qual podemo realizar a junção e dividir entre sozinho ou acompanhado."
   ]
  },
  {
   "cell_type": "markdown",
   "metadata": {},
   "source": [
    "---"
   ]
  },
  {
   "cell_type": "markdown",
   "metadata": {},
   "source": [
    "## # Second Stage -> Data cleaning and organizing:"
   ]
  },
  {
   "cell_type": "markdown",
   "metadata": {},
   "source": [
    "Nesse estágio iremos então cuidar das observações 1, 2, 3 e 4. \n",
    "+ Logo, iremos inicialmente cuidar dos dados categóricos que acharmos relevantes. \n",
    "+ Em seguida juntaremos as colunas \"SibSp\" e \"Parch\" em uma chamada \"alone\" indicante se o dono do ticket está acompanhado ou não. \n",
    "+ Por fim ajustaremos a coluna de idade e removeremos as demais que são irrelevantes."
   ]
  },
  {
   "cell_type": "markdown",
   "metadata": {},
   "source": [
    "+ Tratando dos dados categóricos:"
   ]
  },
  {
   "cell_type": "code",
   "execution_count": 412,
   "metadata": {},
   "outputs": [],
   "source": [
    "change = {\n",
    "    'male': 0,\n",
    "    'female': 1\n",
    "}\n",
    "df_tr.sex = df_tr.sex.map(change)\n",
    "df_tt.sex = df_tt.sex.map(change)"
   ]
  },
  {
   "cell_type": "code",
   "execution_count": 413,
   "metadata": {},
   "outputs": [],
   "source": [
    "change = {\n",
    "    'Q': 0,\n",
    "    'C': 1,\n",
    "    'S': 2\n",
    "}\n",
    "\n",
    "df_tr.embarked = df_tr.embarked.map(change)\n",
    "df_tt.embarked = df_tt.embarked.map(change)"
   ]
  },
  {
   "cell_type": "markdown",
   "metadata": {},
   "source": [
    "+ Criando a coluna \"alone\""
   ]
  },
  {
   "cell_type": "code",
   "execution_count": 414,
   "metadata": {},
   "outputs": [],
   "source": [
    "# Primeiramente para o Dataset de treino:\n",
    "# Se Alone > 0 -> Acompanhado = 0, se Alone == 0 -> Sozinho = 1\n",
    "data = df_tr\n",
    "\n",
    "data['relatives'] = data['sibsp'] + data['parch']\n",
    "\n",
    "data.loc[data['relatives'] > 0, 'alone'] = 0\n",
    "data.loc[data['relatives'] == 0, 'alone'] = 1\n",
    "\n",
    "df_tr['alone'] = data['alone']\n",
    "#------------------------------------------------------------#\n",
    "\n",
    "# Para o Dataset de teste:\n",
    "# Se Alone > 0 -> Acompanhado = 0, se Alone == 0 -> Sozinho = 1\n",
    "data = df_tt\n",
    "\n",
    "data['relatives'] = data['sibsp'] + data['parch']\n",
    "\n",
    "data.loc[data['relatives'] > 0, 'alone'] = 0\n",
    "data.loc[data['relatives'] == 0, 'alone'] = 1\n",
    "\n",
    "df_tt['alone'] = data['alone']\n",
    "\n"
   ]
  },
  {
   "cell_type": "markdown",
   "metadata": {},
   "source": [
    "+ Ajustando a coluna de idade"
   ]
  },
  {
   "cell_type": "code",
   "execution_count": 415,
   "metadata": {},
   "outputs": [],
   "source": [
    "# Completnado as colunas vazias com a mediana das idades:\n",
    "\n",
    "df_tr['age'] = df_tr['age'].fillna(df_tr['age'].median())\n",
    "df_tt['age'] = df_tt['age'].fillna(df_tt['age'].median())"
   ]
  },
  {
   "cell_type": "markdown",
   "metadata": {},
   "source": [
    "+ Ajustando a coluna de taxa (Fare)"
   ]
  },
  {
   "cell_type": "code",
   "execution_count": 416,
   "metadata": {},
   "outputs": [],
   "source": [
    "df_tr['fare'] = df_tr['fare'].fillna(0)\n",
    "df_tr['fare'] = df_tr['fare'].astype(int)\n",
    "\n",
    "df_tt['fare'] = df_tt['fare'].fillna(0)\n",
    "df_tt['fare'] = df_tt['fare'].astype(int)"
   ]
  },
  {
   "cell_type": "markdown",
   "metadata": {},
   "source": [
    "+ Ajustando a coluna dos embarques"
   ]
  },
  {
   "cell_type": "code",
   "execution_count": 417,
   "metadata": {},
   "outputs": [],
   "source": [
    "df_tr['embarked'] = df_tr['embarked'].fillna(df_tr['embarked'].median())\n",
    "df_tt['embarked'] = df_tt['embarked'].fillna(df_tt['embarked'].median())\n"
   ]
  },
  {
   "cell_type": "markdown",
   "metadata": {},
   "source": [
    "+ Ajustando as demais colunas do teste:"
   ]
  },
  {
   "cell_type": "code",
   "execution_count": 418,
   "metadata": {},
   "outputs": [],
   "source": [
    "df_tt['alone'] = df_tt['alone'].fillna(df_tt['alone'].median())\n",
    "df_tt['pclass'] = df_tt['pclass'].fillna(df_tt['pclass'].median())\n",
    "df_tt['sex'] = df_tt['sex'].fillna(df_tt['sex'].median())"
   ]
  },
  {
   "cell_type": "code",
   "execution_count": 419,
   "metadata": {},
   "outputs": [
    {
     "data": {
      "text/html": [
       "<div>\n",
       "<style scoped>\n",
       "    .dataframe tbody tr th:only-of-type {\n",
       "        vertical-align: middle;\n",
       "    }\n",
       "\n",
       "    .dataframe tbody tr th {\n",
       "        vertical-align: top;\n",
       "    }\n",
       "\n",
       "    .dataframe thead th {\n",
       "        text-align: right;\n",
       "    }\n",
       "</style>\n",
       "<table border=\"1\" class=\"dataframe\">\n",
       "  <thead>\n",
       "    <tr style=\"text-align: right;\">\n",
       "      <th></th>\n",
       "      <th>Kaggle_Pass_Id</th>\n",
       "      <th>pclass</th>\n",
       "      <th>name</th>\n",
       "      <th>sex</th>\n",
       "      <th>age</th>\n",
       "      <th>sibsp</th>\n",
       "      <th>parch</th>\n",
       "      <th>ticket</th>\n",
       "      <th>fare</th>\n",
       "      <th>cabin</th>\n",
       "      <th>embarked</th>\n",
       "      <th>boat</th>\n",
       "      <th>body</th>\n",
       "      <th>home.dest</th>\n",
       "      <th>orig_seq</th>\n",
       "      <th>survived</th>\n",
       "      <th>relatives</th>\n",
       "      <th>alone</th>\n",
       "    </tr>\n",
       "  </thead>\n",
       "  <tbody>\n",
       "    <tr>\n",
       "      <th>0</th>\n",
       "      <td>1</td>\n",
       "      <td>3</td>\n",
       "      <td>Braund, Mr. Owen Harris</td>\n",
       "      <td>0</td>\n",
       "      <td>22.0</td>\n",
       "      <td>1</td>\n",
       "      <td>0</td>\n",
       "      <td>A/5 21171</td>\n",
       "      <td>7</td>\n",
       "      <td>NaN</td>\n",
       "      <td>2.0</td>\n",
       "      <td>NaN</td>\n",
       "      <td>NaN</td>\n",
       "      <td>Bridgerule, Devon</td>\n",
       "      <td>690</td>\n",
       "      <td>0</td>\n",
       "      <td>1</td>\n",
       "      <td>0.0</td>\n",
       "    </tr>\n",
       "    <tr>\n",
       "      <th>1</th>\n",
       "      <td>2</td>\n",
       "      <td>1</td>\n",
       "      <td>Cumings, Mrs. John Bradley (Florence Briggs Th...</td>\n",
       "      <td>1</td>\n",
       "      <td>38.0</td>\n",
       "      <td>1</td>\n",
       "      <td>0</td>\n",
       "      <td>PC 17599</td>\n",
       "      <td>71</td>\n",
       "      <td>C85</td>\n",
       "      <td>1.0</td>\n",
       "      <td>4</td>\n",
       "      <td>NaN</td>\n",
       "      <td>New York, NY</td>\n",
       "      <td>86</td>\n",
       "      <td>1</td>\n",
       "      <td>1</td>\n",
       "      <td>0.0</td>\n",
       "    </tr>\n",
       "    <tr>\n",
       "      <th>2</th>\n",
       "      <td>3</td>\n",
       "      <td>3</td>\n",
       "      <td>Heikkinen, Miss. Laina</td>\n",
       "      <td>1</td>\n",
       "      <td>26.0</td>\n",
       "      <td>0</td>\n",
       "      <td>0</td>\n",
       "      <td>STON/O2. 3101282</td>\n",
       "      <td>7</td>\n",
       "      <td>NaN</td>\n",
       "      <td>2.0</td>\n",
       "      <td>NaN</td>\n",
       "      <td>NaN</td>\n",
       "      <td>NaN</td>\n",
       "      <td>861</td>\n",
       "      <td>1</td>\n",
       "      <td>0</td>\n",
       "      <td>1.0</td>\n",
       "    </tr>\n",
       "    <tr>\n",
       "      <th>3</th>\n",
       "      <td>4</td>\n",
       "      <td>1</td>\n",
       "      <td>Futrelle, Mrs. Jacques Heath (Lily May Peel)</td>\n",
       "      <td>1</td>\n",
       "      <td>35.0</td>\n",
       "      <td>1</td>\n",
       "      <td>0</td>\n",
       "      <td>113803</td>\n",
       "      <td>53</td>\n",
       "      <td>C123</td>\n",
       "      <td>2.0</td>\n",
       "      <td>D</td>\n",
       "      <td>NaN</td>\n",
       "      <td>Scituate, MA</td>\n",
       "      <td>128</td>\n",
       "      <td>1</td>\n",
       "      <td>1</td>\n",
       "      <td>0.0</td>\n",
       "    </tr>\n",
       "    <tr>\n",
       "      <th>4</th>\n",
       "      <td>5</td>\n",
       "      <td>3</td>\n",
       "      <td>Allen, Mr. William Henry</td>\n",
       "      <td>0</td>\n",
       "      <td>35.0</td>\n",
       "      <td>0</td>\n",
       "      <td>0</td>\n",
       "      <td>373450</td>\n",
       "      <td>8</td>\n",
       "      <td>NaN</td>\n",
       "      <td>2.0</td>\n",
       "      <td>NaN</td>\n",
       "      <td>NaN</td>\n",
       "      <td>Lower Clapton, Middlesex or Erdington, Birmingham</td>\n",
       "      <td>619</td>\n",
       "      <td>0</td>\n",
       "      <td>0</td>\n",
       "      <td>1.0</td>\n",
       "    </tr>\n",
       "  </tbody>\n",
       "</table>\n",
       "</div>"
      ],
      "text/plain": [
       "   Kaggle_Pass_Id  pclass                                               name  \\\n",
       "0               1       3                            Braund, Mr. Owen Harris   \n",
       "1               2       1  Cumings, Mrs. John Bradley (Florence Briggs Th...   \n",
       "2               3       3                             Heikkinen, Miss. Laina   \n",
       "3               4       1       Futrelle, Mrs. Jacques Heath (Lily May Peel)   \n",
       "4               5       3                           Allen, Mr. William Henry   \n",
       "\n",
       "   sex   age  sibsp  parch            ticket  fare cabin  embarked boat  body  \\\n",
       "0    0  22.0      1      0         A/5 21171     7   NaN       2.0  NaN   NaN   \n",
       "1    1  38.0      1      0          PC 17599    71   C85       1.0    4   NaN   \n",
       "2    1  26.0      0      0  STON/O2. 3101282     7   NaN       2.0  NaN   NaN   \n",
       "3    1  35.0      1      0            113803    53  C123       2.0    D   NaN   \n",
       "4    0  35.0      0      0            373450     8   NaN       2.0  NaN   NaN   \n",
       "\n",
       "                                           home.dest  orig_seq  survived  \\\n",
       "0                                  Bridgerule, Devon       690         0   \n",
       "1                                       New York, NY        86         1   \n",
       "2                                                NaN       861         1   \n",
       "3                                       Scituate, MA       128         1   \n",
       "4  Lower Clapton, Middlesex or Erdington, Birmingham       619         0   \n",
       "\n",
       "   relatives  alone  \n",
       "0          1    0.0  \n",
       "1          1    0.0  \n",
       "2          0    1.0  \n",
       "3          1    0.0  \n",
       "4          0    1.0  "
      ]
     },
     "execution_count": 419,
     "metadata": {},
     "output_type": "execute_result"
    }
   ],
   "source": [
    "df_tr.head()"
   ]
  },
  {
   "cell_type": "markdown",
   "metadata": {},
   "source": [
    "Para melhor visualização, temos:"
   ]
  },
  {
   "cell_type": "code",
   "execution_count": 420,
   "metadata": {},
   "outputs": [
    {
     "name": "stderr",
     "output_type": "stream",
     "text": [
      "C:\\Users\\thiag\\AppData\\Local\\Programs\\Python\\Python37\\lib\\site-packages\\seaborn\\_decorators.py:43: FutureWarning: Pass the following variable as a keyword arg: x. From version 0.12, the only valid positional argument will be `data`, and passing other arguments without an explicit keyword will result in an error or misinterpretation.\n",
      "  FutureWarning\n",
      "C:\\Users\\thiag\\AppData\\Local\\Programs\\Python\\Python37\\lib\\site-packages\\seaborn\\_decorators.py:43: FutureWarning: Pass the following variable as a keyword arg: x. From version 0.12, the only valid positional argument will be `data`, and passing other arguments without an explicit keyword will result in an error or misinterpretation.\n",
      "  FutureWarning\n",
      "C:\\Users\\thiag\\AppData\\Local\\Programs\\Python\\Python37\\lib\\site-packages\\seaborn\\_decorators.py:43: FutureWarning: Pass the following variable as a keyword arg: x. From version 0.12, the only valid positional argument will be `data`, and passing other arguments without an explicit keyword will result in an error or misinterpretation.\n",
      "  FutureWarning\n",
      "C:\\Users\\thiag\\AppData\\Local\\Programs\\Python\\Python37\\lib\\site-packages\\seaborn\\_decorators.py:43: FutureWarning: Pass the following variable as a keyword arg: x. From version 0.12, the only valid positional argument will be `data`, and passing other arguments without an explicit keyword will result in an error or misinterpretation.\n",
      "  FutureWarning\n"
     ]
    },
    {
     "data": {
      "image/png": "[encoded data removed]",
      "text/plain": [
       "<Figure size 720x432 with 4 Axes>"
      ]
     },
     "metadata": {
      "needs_background": "light"
     },
     "output_type": "display_data"
    }
   ],
   "source": [
    "# Visualize the count of survivors for columns 'sex', 'pclass', 'alone' = ['sibsp', 'parch'], and 'embarked'\n",
    "cols = ['sex', 'pclass', 'alone', 'embarked']\n",
    "\n",
    "n_rows = 2\n",
    "n_cols = 2\n",
    "\n",
    "# The subplot grid and the figure size of each graph\n",
    "# This returns a Figure (fig) and an Axes Object (axs)\n",
    "fig, axs = plt.subplots(n_rows, n_cols, figsize=(n_cols*5,n_rows*3))\n",
    "\n",
    "for r in range(0,n_rows):\n",
    "    for c in range(0,n_cols):  \n",
    "        \n",
    "        i = r*n_cols+ c #index to go through the number of columns       \n",
    "        ax = axs[r][c] #Show where to position each subplot\n",
    "        sns.countplot(df_tr[cols[i]], hue=df_tr[\"survived\"], ax=ax)\n",
    "        ax.set_title(cols[i])\n",
    "        ax.legend(title=\"survived\", loc='upper right') \n",
    "        \n",
    "plt.tight_layout()   #tight_layout"
   ]
  },
  {
   "cell_type": "markdown",
   "metadata": {},
   "source": [
    "Por fim, iremos remover (drop) algumas colunas que não foram consideradas relevantes para o resultado final:"
   ]
  },
  {
   "cell_type": "code",
   "execution_count": 421,
   "metadata": {},
   "outputs": [],
   "source": [
    "df_tr.drop(['cabin','name','sibsp','parch','ticket','Kaggle_Pass_Id','boat','body','home.dest','orig_seq','relatives'], axis=1, inplace=True)\n",
    "df_tt.drop(['cabin','name','sibsp','parch','ticket','Kaggle_Pass_Id','boat','body','home.dest','orig_seq','relatives'], axis=1, inplace=True)\n"
   ]
  },
  {
   "cell_type": "code",
   "execution_count": 422,
   "metadata": {},
   "outputs": [
    {
     "data": {
      "text/html": [
       "<div>\n",
       "<style scoped>\n",
       "    .dataframe tbody tr th:only-of-type {\n",
       "        vertical-align: middle;\n",
       "    }\n",
       "\n",
       "    .dataframe tbody tr th {\n",
       "        vertical-align: top;\n",
       "    }\n",
       "\n",
       "    .dataframe thead th {\n",
       "        text-align: right;\n",
       "    }\n",
       "</style>\n",
       "<table border=\"1\" class=\"dataframe\">\n",
       "  <thead>\n",
       "    <tr style=\"text-align: right;\">\n",
       "      <th></th>\n",
       "      <th>pclass</th>\n",
       "      <th>sex</th>\n",
       "      <th>age</th>\n",
       "      <th>fare</th>\n",
       "      <th>embarked</th>\n",
       "      <th>alone</th>\n",
       "      <th>survived</th>\n",
       "    </tr>\n",
       "  </thead>\n",
       "  <tbody>\n",
       "    <tr>\n",
       "      <th>0</th>\n",
       "      <td>3</td>\n",
       "      <td>0</td>\n",
       "      <td>22.0</td>\n",
       "      <td>7</td>\n",
       "      <td>2.0</td>\n",
       "      <td>0.0</td>\n",
       "      <td>0</td>\n",
       "    </tr>\n",
       "    <tr>\n",
       "      <th>1</th>\n",
       "      <td>1</td>\n",
       "      <td>1</td>\n",
       "      <td>38.0</td>\n",
       "      <td>71</td>\n",
       "      <td>1.0</td>\n",
       "      <td>0.0</td>\n",
       "      <td>1</td>\n",
       "    </tr>\n",
       "    <tr>\n",
       "      <th>2</th>\n",
       "      <td>3</td>\n",
       "      <td>1</td>\n",
       "      <td>26.0</td>\n",
       "      <td>7</td>\n",
       "      <td>2.0</td>\n",
       "      <td>1.0</td>\n",
       "      <td>1</td>\n",
       "    </tr>\n",
       "    <tr>\n",
       "      <th>3</th>\n",
       "      <td>1</td>\n",
       "      <td>1</td>\n",
       "      <td>35.0</td>\n",
       "      <td>53</td>\n",
       "      <td>2.0</td>\n",
       "      <td>0.0</td>\n",
       "      <td>1</td>\n",
       "    </tr>\n",
       "    <tr>\n",
       "      <th>4</th>\n",
       "      <td>3</td>\n",
       "      <td>0</td>\n",
       "      <td>35.0</td>\n",
       "      <td>8</td>\n",
       "      <td>2.0</td>\n",
       "      <td>1.0</td>\n",
       "      <td>0</td>\n",
       "    </tr>\n",
       "  </tbody>\n",
       "</table>\n",
       "</div>"
      ],
      "text/plain": [
       "   pclass  sex   age  fare  embarked  alone  survived\n",
       "0       3    0  22.0     7       2.0    0.0         0\n",
       "1       1    1  38.0    71       1.0    0.0         1\n",
       "2       3    1  26.0     7       2.0    1.0         1\n",
       "3       1    1  35.0    53       2.0    0.0         1\n",
       "4       3    0  35.0     8       2.0    1.0         0"
      ]
     },
     "execution_count": 422,
     "metadata": {},
     "output_type": "execute_result"
    }
   ],
   "source": [
    "cols = list(df_tr.columns.values) #Make a list of all of the columns in the df\n",
    "cols.pop(cols.index('survived')) #Remove b from list\n",
    "df_tr = df_tr[cols+['survived']] #Create new dataframe with columns in the order you want\n",
    "\n",
    "df_tr.head()"
   ]
  },
  {
   "cell_type": "code",
   "execution_count": 423,
   "metadata": {},
   "outputs": [
    {
     "data": {
      "text/html": [
       "<div>\n",
       "<style scoped>\n",
       "    .dataframe tbody tr th:only-of-type {\n",
       "        vertical-align: middle;\n",
       "    }\n",
       "\n",
       "    .dataframe tbody tr th {\n",
       "        vertical-align: top;\n",
       "    }\n",
       "\n",
       "    .dataframe thead th {\n",
       "        text-align: right;\n",
       "    }\n",
       "</style>\n",
       "<table border=\"1\" class=\"dataframe\">\n",
       "  <thead>\n",
       "    <tr style=\"text-align: right;\">\n",
       "      <th></th>\n",
       "      <th>pclass</th>\n",
       "      <th>sex</th>\n",
       "      <th>age</th>\n",
       "      <th>fare</th>\n",
       "      <th>embarked</th>\n",
       "      <th>alone</th>\n",
       "    </tr>\n",
       "  </thead>\n",
       "  <tbody>\n",
       "    <tr>\n",
       "      <th>0</th>\n",
       "      <td>3.0</td>\n",
       "      <td>0.0</td>\n",
       "      <td>34.5</td>\n",
       "      <td>7</td>\n",
       "      <td>0.0</td>\n",
       "      <td>1.0</td>\n",
       "    </tr>\n",
       "    <tr>\n",
       "      <th>1</th>\n",
       "      <td>3.0</td>\n",
       "      <td>1.0</td>\n",
       "      <td>47.0</td>\n",
       "      <td>7</td>\n",
       "      <td>2.0</td>\n",
       "      <td>0.0</td>\n",
       "    </tr>\n",
       "    <tr>\n",
       "      <th>2</th>\n",
       "      <td>2.0</td>\n",
       "      <td>0.0</td>\n",
       "      <td>62.0</td>\n",
       "      <td>9</td>\n",
       "      <td>0.0</td>\n",
       "      <td>1.0</td>\n",
       "    </tr>\n",
       "    <tr>\n",
       "      <th>3</th>\n",
       "      <td>3.0</td>\n",
       "      <td>0.0</td>\n",
       "      <td>27.0</td>\n",
       "      <td>8</td>\n",
       "      <td>2.0</td>\n",
       "      <td>1.0</td>\n",
       "    </tr>\n",
       "    <tr>\n",
       "      <th>4</th>\n",
       "      <td>3.0</td>\n",
       "      <td>1.0</td>\n",
       "      <td>22.0</td>\n",
       "      <td>12</td>\n",
       "      <td>2.0</td>\n",
       "      <td>0.0</td>\n",
       "    </tr>\n",
       "  </tbody>\n",
       "</table>\n",
       "</div>"
      ],
      "text/plain": [
       "   pclass  sex   age  fare  embarked  alone\n",
       "0     3.0  0.0  34.5     7       0.0    1.0\n",
       "1     3.0  1.0  47.0     7       2.0    0.0\n",
       "2     2.0  0.0  62.0     9       0.0    1.0\n",
       "3     3.0  0.0  27.0     8       2.0    1.0\n",
       "4     3.0  1.0  22.0    12       2.0    0.0"
      ]
     },
     "execution_count": 423,
     "metadata": {},
     "output_type": "execute_result"
    }
   ],
   "source": [
    "df_tt.head()"
   ]
  },
  {
   "cell_type": "code",
   "execution_count": 424,
   "metadata": {},
   "outputs": [
    {
     "data": {
      "text/html": [
       "<div>\n",
       "<style scoped>\n",
       "    .dataframe tbody tr th:only-of-type {\n",
       "        vertical-align: middle;\n",
       "    }\n",
       "\n",
       "    .dataframe tbody tr th {\n",
       "        vertical-align: top;\n",
       "    }\n",
       "\n",
       "    .dataframe thead th {\n",
       "        text-align: right;\n",
       "    }\n",
       "</style>\n",
       "<table border=\"1\" class=\"dataframe\">\n",
       "  <thead>\n",
       "    <tr style=\"text-align: right;\">\n",
       "      <th></th>\n",
       "      <th>pclass</th>\n",
       "      <th>sex</th>\n",
       "      <th>age</th>\n",
       "      <th>fare</th>\n",
       "      <th>embarked</th>\n",
       "      <th>alone</th>\n",
       "      <th>survived</th>\n",
       "    </tr>\n",
       "  </thead>\n",
       "  <tbody>\n",
       "    <tr>\n",
       "      <th>count</th>\n",
       "      <td>891.000000</td>\n",
       "      <td>891.000000</td>\n",
       "      <td>891.000000</td>\n",
       "      <td>891.000000</td>\n",
       "      <td>891.000000</td>\n",
       "      <td>891.000000</td>\n",
       "      <td>891.000000</td>\n",
       "    </tr>\n",
       "    <tr>\n",
       "      <th>mean</th>\n",
       "      <td>2.308642</td>\n",
       "      <td>0.352413</td>\n",
       "      <td>29.361579</td>\n",
       "      <td>31.785634</td>\n",
       "      <td>1.638608</td>\n",
       "      <td>0.602694</td>\n",
       "      <td>0.383838</td>\n",
       "    </tr>\n",
       "    <tr>\n",
       "      <th>std</th>\n",
       "      <td>0.836071</td>\n",
       "      <td>0.477990</td>\n",
       "      <td>13.019705</td>\n",
       "      <td>49.703730</td>\n",
       "      <td>0.635673</td>\n",
       "      <td>0.489615</td>\n",
       "      <td>0.486592</td>\n",
       "    </tr>\n",
       "    <tr>\n",
       "      <th>min</th>\n",
       "      <td>1.000000</td>\n",
       "      <td>0.000000</td>\n",
       "      <td>0.416700</td>\n",
       "      <td>0.000000</td>\n",
       "      <td>0.000000</td>\n",
       "      <td>0.000000</td>\n",
       "      <td>0.000000</td>\n",
       "    </tr>\n",
       "    <tr>\n",
       "      <th>25%</th>\n",
       "      <td>2.000000</td>\n",
       "      <td>0.000000</td>\n",
       "      <td>22.000000</td>\n",
       "      <td>7.000000</td>\n",
       "      <td>1.000000</td>\n",
       "      <td>0.000000</td>\n",
       "      <td>0.000000</td>\n",
       "    </tr>\n",
       "    <tr>\n",
       "      <th>50%</th>\n",
       "      <td>3.000000</td>\n",
       "      <td>0.000000</td>\n",
       "      <td>28.000000</td>\n",
       "      <td>14.000000</td>\n",
       "      <td>2.000000</td>\n",
       "      <td>1.000000</td>\n",
       "      <td>0.000000</td>\n",
       "    </tr>\n",
       "    <tr>\n",
       "      <th>75%</th>\n",
       "      <td>3.000000</td>\n",
       "      <td>1.000000</td>\n",
       "      <td>35.000000</td>\n",
       "      <td>31.000000</td>\n",
       "      <td>2.000000</td>\n",
       "      <td>1.000000</td>\n",
       "      <td>1.000000</td>\n",
       "    </tr>\n",
       "    <tr>\n",
       "      <th>max</th>\n",
       "      <td>3.000000</td>\n",
       "      <td>1.000000</td>\n",
       "      <td>80.000000</td>\n",
       "      <td>512.000000</td>\n",
       "      <td>2.000000</td>\n",
       "      <td>1.000000</td>\n",
       "      <td>1.000000</td>\n",
       "    </tr>\n",
       "  </tbody>\n",
       "</table>\n",
       "</div>"
      ],
      "text/plain": [
       "           pclass         sex         age        fare    embarked       alone  \\\n",
       "count  891.000000  891.000000  891.000000  891.000000  891.000000  891.000000   \n",
       "mean     2.308642    0.352413   29.361579   31.785634    1.638608    0.602694   \n",
       "std      0.836071    0.477990   13.019705   49.703730    0.635673    0.489615   \n",
       "min      1.000000    0.000000    0.416700    0.000000    0.000000    0.000000   \n",
       "25%      2.000000    0.000000   22.000000    7.000000    1.000000    0.000000   \n",
       "50%      3.000000    0.000000   28.000000   14.000000    2.000000    1.000000   \n",
       "75%      3.000000    1.000000   35.000000   31.000000    2.000000    1.000000   \n",
       "max      3.000000    1.000000   80.000000  512.000000    2.000000    1.000000   \n",
       "\n",
       "         survived  \n",
       "count  891.000000  \n",
       "mean     0.383838  \n",
       "std      0.486592  \n",
       "min      0.000000  \n",
       "25%      0.000000  \n",
       "50%      0.000000  \n",
       "75%      1.000000  \n",
       "max      1.000000  "
      ]
     },
     "execution_count": 424,
     "metadata": {},
     "output_type": "execute_result"
    }
   ],
   "source": [
    "df_tr.describe()"
   ]
  },
  {
   "cell_type": "markdown",
   "metadata": {},
   "source": [
    "---"
   ]
  },
  {
   "cell_type": "markdown",
   "metadata": {},
   "source": [
    "## # Third Stage -> Dataset Balacing:"
   ]
  },
  {
   "cell_type": "markdown",
   "metadata": {},
   "source": [
    "Nesse terceiro estágio iremos realizar o balanceamento dos dados --> Isto é, o ajuste para ter o mesmo número de amostras dos targets."
   ]
  },
  {
   "cell_type": "code",
   "execution_count": 425,
   "metadata": {},
   "outputs": [],
   "source": [
    "# Splitting features and labels (targets)\n",
    "y = df_tr['survived']\n",
    "x = df_tr.drop('survived', axis=1)"
   ]
  },
  {
   "cell_type": "code",
   "execution_count": 426,
   "metadata": {},
   "outputs": [
    {
     "data": {
      "text/plain": [
       "((891, 6), (891,))"
      ]
     },
     "execution_count": 426,
     "metadata": {},
     "output_type": "execute_result"
    }
   ],
   "source": [
    "# Checking the new dataframes.\n",
    "x.shape, y.shape"
   ]
  },
  {
   "cell_type": "code",
   "execution_count": 427,
   "metadata": {},
   "outputs": [
    {
     "data": {
      "text/plain": [
       "0    0\n",
       "1    1\n",
       "2    1\n",
       "3    1\n",
       "4    0\n",
       "Name: survived, dtype: int64"
      ]
     },
     "execution_count": 427,
     "metadata": {},
     "output_type": "execute_result"
    }
   ],
   "source": [
    "y.head()"
   ]
  },
  {
   "cell_type": "code",
   "execution_count": 428,
   "metadata": {},
   "outputs": [
    {
     "data": {
      "text/html": [
       "<div>\n",
       "<style scoped>\n",
       "    .dataframe tbody tr th:only-of-type {\n",
       "        vertical-align: middle;\n",
       "    }\n",
       "\n",
       "    .dataframe tbody tr th {\n",
       "        vertical-align: top;\n",
       "    }\n",
       "\n",
       "    .dataframe thead th {\n",
       "        text-align: right;\n",
       "    }\n",
       "</style>\n",
       "<table border=\"1\" class=\"dataframe\">\n",
       "  <thead>\n",
       "    <tr style=\"text-align: right;\">\n",
       "      <th></th>\n",
       "      <th>pclass</th>\n",
       "      <th>sex</th>\n",
       "      <th>age</th>\n",
       "      <th>fare</th>\n",
       "      <th>embarked</th>\n",
       "      <th>alone</th>\n",
       "    </tr>\n",
       "  </thead>\n",
       "  <tbody>\n",
       "    <tr>\n",
       "      <th>0</th>\n",
       "      <td>3</td>\n",
       "      <td>0</td>\n",
       "      <td>22.0</td>\n",
       "      <td>7</td>\n",
       "      <td>2.0</td>\n",
       "      <td>0.0</td>\n",
       "    </tr>\n",
       "    <tr>\n",
       "      <th>1</th>\n",
       "      <td>1</td>\n",
       "      <td>1</td>\n",
       "      <td>38.0</td>\n",
       "      <td>71</td>\n",
       "      <td>1.0</td>\n",
       "      <td>0.0</td>\n",
       "    </tr>\n",
       "    <tr>\n",
       "      <th>2</th>\n",
       "      <td>3</td>\n",
       "      <td>1</td>\n",
       "      <td>26.0</td>\n",
       "      <td>7</td>\n",
       "      <td>2.0</td>\n",
       "      <td>1.0</td>\n",
       "    </tr>\n",
       "    <tr>\n",
       "      <th>3</th>\n",
       "      <td>1</td>\n",
       "      <td>1</td>\n",
       "      <td>35.0</td>\n",
       "      <td>53</td>\n",
       "      <td>2.0</td>\n",
       "      <td>0.0</td>\n",
       "    </tr>\n",
       "    <tr>\n",
       "      <th>4</th>\n",
       "      <td>3</td>\n",
       "      <td>0</td>\n",
       "      <td>35.0</td>\n",
       "      <td>8</td>\n",
       "      <td>2.0</td>\n",
       "      <td>1.0</td>\n",
       "    </tr>\n",
       "  </tbody>\n",
       "</table>\n",
       "</div>"
      ],
      "text/plain": [
       "   pclass  sex   age  fare  embarked  alone\n",
       "0       3    0  22.0     7       2.0    0.0\n",
       "1       1    1  38.0    71       1.0    0.0\n",
       "2       3    1  26.0     7       2.0    1.0\n",
       "3       1    1  35.0    53       2.0    0.0\n",
       "4       3    0  35.0     8       2.0    1.0"
      ]
     },
     "execution_count": 428,
     "metadata": {},
     "output_type": "execute_result"
    }
   ],
   "source": [
    "x.head()"
   ]
  },
  {
   "cell_type": "markdown",
   "metadata": {},
   "source": [
    "---"
   ]
  },
  {
   "cell_type": "markdown",
   "metadata": {},
   "source": [
    "Inicialmente utilizaremos a técnica de undersampling, a qual consiste selecionar randomicamente algumas amostras do dataser maior, de tal forma que no fim ele possui o mesmo tamanho do menor dataset."
   ]
  },
  {
   "cell_type": "code",
   "execution_count": 429,
   "metadata": {},
   "outputs": [],
   "source": [
    "# Using undersampling strategy\n",
    "under = RandomUnderSampler()\n",
    "x_under, y_under = under.fit_resample(x, y)"
   ]
  },
  {
   "cell_type": "code",
   "execution_count": 430,
   "metadata": {},
   "outputs": [
    {
     "name": "stdout",
     "output_type": "stream",
     "text": [
      "0      0\n",
      "1      0\n",
      "2      0\n",
      "3      0\n",
      "4      0\n",
      "      ..\n",
      "679    1\n",
      "680    1\n",
      "681    1\n",
      "682    1\n",
      "683    1\n",
      "Name: survived, Length: 684, dtype: int64\n"
     ]
    },
    {
     "data": {
      "text/plain": [
       "(342, 684)"
      ]
     },
     "execution_count": 430,
     "metadata": {},
     "output_type": "execute_result"
    }
   ],
   "source": [
    "# Checking the labels\n",
    "print(y_under)\n",
    "sum(y_under), len(y_under)"
   ]
  },
  {
   "cell_type": "code",
   "execution_count": 431,
   "metadata": {},
   "outputs": [
    {
     "data": {
      "image/png": "[encoded data removed]",
      "text/plain": [
       "<Figure size 432x288 with 1 Axes>"
      ]
     },
     "metadata": {
      "needs_background": "light"
     },
     "output_type": "display_data"
    }
   ],
   "source": [
    "def plot_2d_space(X, y, label='survived'):   \n",
    "    colors = ['#1F77B4', '#FF7F0E']\n",
    "    markers = ['o', 's']\n",
    "    for l, c, m in zip(np.unique(y), colors, markers):\n",
    "        plt.scatter(\n",
    "            X[y==l, 0],\n",
    "            X[y==l, 1],\n",
    "            c=c, label=l, marker=m\n",
    "        )\n",
    "    plt.title(label)\n",
    "    plt.legend(loc='upper right')\n",
    "    plt.show()\n",
    "\n",
    "plot_2d_space(x_under.to_numpy(), y_under.to_numpy(), 'Random under-sampling')"
   ]
  },
  {
   "cell_type": "code",
   "execution_count": 432,
   "metadata": {},
   "outputs": [
    {
     "data": {
      "text/html": [
       "<div>\n",
       "<style scoped>\n",
       "    .dataframe tbody tr th:only-of-type {\n",
       "        vertical-align: middle;\n",
       "    }\n",
       "\n",
       "    .dataframe tbody tr th {\n",
       "        vertical-align: top;\n",
       "    }\n",
       "\n",
       "    .dataframe thead th {\n",
       "        text-align: right;\n",
       "    }\n",
       "</style>\n",
       "<table border=\"1\" class=\"dataframe\">\n",
       "  <thead>\n",
       "    <tr style=\"text-align: right;\">\n",
       "      <th></th>\n",
       "      <th>pclass</th>\n",
       "      <th>sex</th>\n",
       "      <th>age</th>\n",
       "      <th>fare</th>\n",
       "      <th>embarked</th>\n",
       "      <th>alone</th>\n",
       "      <th>survived</th>\n",
       "    </tr>\n",
       "  </thead>\n",
       "  <tbody>\n",
       "    <tr>\n",
       "      <th>0</th>\n",
       "      <td>3</td>\n",
       "      <td>0</td>\n",
       "      <td>28.0</td>\n",
       "      <td>7</td>\n",
       "      <td>2.0</td>\n",
       "      <td>1.0</td>\n",
       "      <td>0</td>\n",
       "    </tr>\n",
       "    <tr>\n",
       "      <th>1</th>\n",
       "      <td>3</td>\n",
       "      <td>0</td>\n",
       "      <td>28.0</td>\n",
       "      <td>7</td>\n",
       "      <td>0.0</td>\n",
       "      <td>0.0</td>\n",
       "      <td>0</td>\n",
       "    </tr>\n",
       "    <tr>\n",
       "      <th>2</th>\n",
       "      <td>3</td>\n",
       "      <td>0</td>\n",
       "      <td>19.0</td>\n",
       "      <td>7</td>\n",
       "      <td>2.0</td>\n",
       "      <td>1.0</td>\n",
       "      <td>0</td>\n",
       "    </tr>\n",
       "    <tr>\n",
       "      <th>3</th>\n",
       "      <td>2</td>\n",
       "      <td>0</td>\n",
       "      <td>19.0</td>\n",
       "      <td>10</td>\n",
       "      <td>2.0</td>\n",
       "      <td>1.0</td>\n",
       "      <td>0</td>\n",
       "    </tr>\n",
       "    <tr>\n",
       "      <th>4</th>\n",
       "      <td>3</td>\n",
       "      <td>1</td>\n",
       "      <td>28.0</td>\n",
       "      <td>8</td>\n",
       "      <td>2.0</td>\n",
       "      <td>1.0</td>\n",
       "      <td>0</td>\n",
       "    </tr>\n",
       "  </tbody>\n",
       "</table>\n",
       "</div>"
      ],
      "text/plain": [
       "   pclass  sex   age  fare  embarked  alone  survived\n",
       "0       3    0  28.0     7       2.0    1.0         0\n",
       "1       3    0  28.0     7       0.0    0.0         0\n",
       "2       3    0  19.0     7       2.0    1.0         0\n",
       "3       2    0  19.0    10       2.0    1.0         0\n",
       "4       3    1  28.0     8       2.0    1.0         0"
      ]
     },
     "execution_count": 432,
     "metadata": {},
     "output_type": "execute_result"
    }
   ],
   "source": [
    "# Creating a new dataframe on Pandas\n",
    "df_under = pd.DataFrame(x_under, columns=x.columns)\n",
    "df_under['survived'] = y_under\n",
    "df_under.head()"
   ]
  },
  {
   "cell_type": "code",
   "execution_count": 433,
   "metadata": {},
   "outputs": [
    {
     "data": {
      "image/png": "[encoded data removed]",
      "text/plain": [
       "<Figure size 432x288 with 1 Axes>"
      ]
     },
     "metadata": {
      "needs_background": "light"
     },
     "output_type": "display_data"
    }
   ],
   "source": [
    "# Checking the target class\n",
    "sns.countplot(data=df_under, x='survived');"
   ]
  },
  {
   "cell_type": "code",
   "execution_count": 434,
   "metadata": {},
   "outputs": [
    {
     "data": {
      "text/html": [
       "<div>\n",
       "<style scoped>\n",
       "    .dataframe tbody tr th:only-of-type {\n",
       "        vertical-align: middle;\n",
       "    }\n",
       "\n",
       "    .dataframe tbody tr th {\n",
       "        vertical-align: top;\n",
       "    }\n",
       "\n",
       "    .dataframe thead th {\n",
       "        text-align: right;\n",
       "    }\n",
       "</style>\n",
       "<table border=\"1\" class=\"dataframe\">\n",
       "  <thead>\n",
       "    <tr style=\"text-align: right;\">\n",
       "      <th></th>\n",
       "      <th>pclass</th>\n",
       "      <th>sex</th>\n",
       "      <th>age</th>\n",
       "      <th>fare</th>\n",
       "      <th>embarked</th>\n",
       "      <th>alone</th>\n",
       "      <th>survived</th>\n",
       "    </tr>\n",
       "  </thead>\n",
       "  <tbody>\n",
       "    <tr>\n",
       "      <th>count</th>\n",
       "      <td>684.000000</td>\n",
       "      <td>684.000000</td>\n",
       "      <td>684.000000</td>\n",
       "      <td>684.000000</td>\n",
       "      <td>684.000000</td>\n",
       "      <td>684.000000</td>\n",
       "      <td>684.000000</td>\n",
       "    </tr>\n",
       "    <tr>\n",
       "      <th>mean</th>\n",
       "      <td>2.250000</td>\n",
       "      <td>0.413743</td>\n",
       "      <td>28.865010</td>\n",
       "      <td>34.413743</td>\n",
       "      <td>1.612573</td>\n",
       "      <td>0.570175</td>\n",
       "      <td>0.500000</td>\n",
       "    </tr>\n",
       "    <tr>\n",
       "      <th>std</th>\n",
       "      <td>0.850674</td>\n",
       "      <td>0.492864</td>\n",
       "      <td>12.898726</td>\n",
       "      <td>52.843396</td>\n",
       "      <td>0.656460</td>\n",
       "      <td>0.495413</td>\n",
       "      <td>0.500366</td>\n",
       "    </tr>\n",
       "    <tr>\n",
       "      <th>min</th>\n",
       "      <td>1.000000</td>\n",
       "      <td>0.000000</td>\n",
       "      <td>0.416700</td>\n",
       "      <td>0.000000</td>\n",
       "      <td>0.000000</td>\n",
       "      <td>0.000000</td>\n",
       "      <td>0.000000</td>\n",
       "    </tr>\n",
       "    <tr>\n",
       "      <th>25%</th>\n",
       "      <td>1.000000</td>\n",
       "      <td>0.000000</td>\n",
       "      <td>22.000000</td>\n",
       "      <td>7.750000</td>\n",
       "      <td>1.000000</td>\n",
       "      <td>0.000000</td>\n",
       "      <td>0.000000</td>\n",
       "    </tr>\n",
       "    <tr>\n",
       "      <th>50%</th>\n",
       "      <td>3.000000</td>\n",
       "      <td>0.000000</td>\n",
       "      <td>28.000000</td>\n",
       "      <td>15.000000</td>\n",
       "      <td>2.000000</td>\n",
       "      <td>1.000000</td>\n",
       "      <td>0.500000</td>\n",
       "    </tr>\n",
       "    <tr>\n",
       "      <th>75%</th>\n",
       "      <td>3.000000</td>\n",
       "      <td>1.000000</td>\n",
       "      <td>35.000000</td>\n",
       "      <td>35.000000</td>\n",
       "      <td>2.000000</td>\n",
       "      <td>1.000000</td>\n",
       "      <td>1.000000</td>\n",
       "    </tr>\n",
       "    <tr>\n",
       "      <th>max</th>\n",
       "      <td>3.000000</td>\n",
       "      <td>1.000000</td>\n",
       "      <td>80.000000</td>\n",
       "      <td>512.000000</td>\n",
       "      <td>2.000000</td>\n",
       "      <td>1.000000</td>\n",
       "      <td>1.000000</td>\n",
       "    </tr>\n",
       "  </tbody>\n",
       "</table>\n",
       "</div>"
      ],
      "text/plain": [
       "           pclass         sex         age        fare    embarked       alone  \\\n",
       "count  684.000000  684.000000  684.000000  684.000000  684.000000  684.000000   \n",
       "mean     2.250000    0.413743   28.865010   34.413743    1.612573    0.570175   \n",
       "std      0.850674    0.492864   12.898726   52.843396    0.656460    0.495413   \n",
       "min      1.000000    0.000000    0.416700    0.000000    0.000000    0.000000   \n",
       "25%      1.000000    0.000000   22.000000    7.750000    1.000000    0.000000   \n",
       "50%      3.000000    0.000000   28.000000   15.000000    2.000000    1.000000   \n",
       "75%      3.000000    1.000000   35.000000   35.000000    2.000000    1.000000   \n",
       "max      3.000000    1.000000   80.000000  512.000000    2.000000    1.000000   \n",
       "\n",
       "         survived  \n",
       "count  684.000000  \n",
       "mean     0.500000  \n",
       "std      0.500366  \n",
       "min      0.000000  \n",
       "25%      0.000000  \n",
       "50%      0.500000  \n",
       "75%      1.000000  \n",
       "max      1.000000  "
      ]
     },
     "execution_count": 434,
     "metadata": {},
     "output_type": "execute_result"
    }
   ],
   "source": [
    "# Checking the data\n",
    "df_under.describe()"
   ]
  },
  {
   "cell_type": "code",
   "execution_count": 435,
   "metadata": {},
   "outputs": [
    {
     "name": "stderr",
     "output_type": "stream",
     "text": [
      "C:\\Users\\thiag\\AppData\\Local\\Programs\\Python\\Python37\\lib\\site-packages\\pandas\\plotting\\_matplotlib\\tools.py:331: MatplotlibDeprecationWarning: \n",
      "The is_first_col function was deprecated in Matplotlib 3.4 and will be removed two minor releases later. Use ax.get_subplotspec().is_first_col() instead.\n",
      "  if ax.is_first_col():\n"
     ]
    },
    {
     "data": {
      "image/png": "[encoded data removed]",
      "text/plain": [
       "<Figure size 720x720 with 9 Axes>"
      ]
     },
     "metadata": {
      "needs_background": "light"
     },
     "output_type": "display_data"
    }
   ],
   "source": [
    "# Checking the dataset\n",
    "df_under.hist(figsize = (10, 10))\n",
    "plt.show()"
   ]
  },
  {
   "cell_type": "code",
   "execution_count": 436,
   "metadata": {},
   "outputs": [
    {
     "data": {
      "image/png": "[encoded data removed]",
      "text/plain": [
       "<Figure size 360x360 with 2 Axes>"
      ]
     },
     "metadata": {
      "needs_background": "light"
     },
     "output_type": "display_data"
    }
   ],
   "source": [
    "# Checking the data correlation between the variables\n",
    "plt.figure(figsize=(5, 5))\n",
    "sns.heatmap(df_under.corr(), cmap=\"BuPu\");"
   ]
  },
  {
   "cell_type": "code",
   "execution_count": 437,
   "metadata": {},
   "outputs": [
    {
     "data": {
      "image/png": "[encoded data removed]",
      "text/plain": [
       "<Figure size 1260x1260 with 56 Axes>"
      ]
     },
     "metadata": {
      "needs_background": "light"
     },
     "output_type": "display_data"
    }
   ],
   "source": [
    "# Checking the data distribution\n",
    "colss = ['pclass', 'sex', 'age', 'fare', 'embarked', 'alone', 'survived']\n",
    "sns.pairplot(df_under[colss])\n",
    "plt.show();"
   ]
  },
  {
   "cell_type": "markdown",
   "metadata": {},
   "source": [
    "---"
   ]
  },
  {
   "cell_type": "markdown",
   "metadata": {},
   "source": [
    "## # Fourth Stage [Optional] -> Model training:"
   ]
  },
  {
   "cell_type": "code",
   "execution_count": 438,
   "metadata": {},
   "outputs": [
    {
     "name": "stdout",
     "output_type": "stream",
     "text": [
      "Shape of train:  (684, 7)\n",
      "Shape of test:  (419, 6)\n"
     ]
    }
   ],
   "source": [
    "# df_under -> Train dataset\n",
    "# df_tt -> Test dataset\n",
    "#-----------------------------------------#\n",
    "\n",
    "# Checking the rows and columns of each dataset:\n",
    "print(\"Shape of train: \", df_under.shape)\n",
    "print(\"Shape of test: \", df_tt.shape)"
   ]
  },
  {
   "cell_type": "markdown",
   "metadata": {},
   "source": [
    "Separando em Train and Test"
   ]
  },
  {
   "cell_type": "code",
   "execution_count": 439,
   "metadata": {},
   "outputs": [],
   "source": [
    "x_train = df_under.drop(\"survived\", axis=1)\n",
    "y_train = df_under[\"survived\"]\n",
    "\n",
    "x_test  = df_tt"
   ]
  },
  {
   "cell_type": "markdown",
   "metadata": {},
   "source": [
    "Normalizando os dados de entrada:"
   ]
  },
  {
   "cell_type": "code",
   "execution_count": 440,
   "metadata": {},
   "outputs": [
    {
     "name": "stdout",
     "output_type": "stream",
     "text": [
      "[[0.88 -0.84 -0.07 -0.52 0.59 0.87]\n",
      " [0.88 -0.84 -0.07 -0.52 -2.46 -1.15]\n",
      " [0.88 -0.84 -0.77 -0.52 0.59 0.87]\n",
      " ...\n",
      " [-0.29 1.19 -0.30 -0.16 0.59 -1.15]\n",
      " [-1.47 1.19 -0.77 -0.08 0.59 0.87]\n",
      " [-1.47 -0.84 -0.22 -0.08 -0.93 0.87]]\n"
     ]
    }
   ],
   "source": [
    "# Normalizing the input data\n",
    "scaler = StandardScaler()\n",
    "\n",
    "x_train = scaler.fit_transform(x_train)\n",
    "x_test = scaler.transform(x_test)\n",
    "\n",
    "print(x_train)"
   ]
  },
  {
   "cell_type": "markdown",
   "metadata": {},
   "source": [
    "### Function to validate the training:"
   ]
  },
  {
   "cell_type": "code",
   "execution_count": 441,
   "metadata": {},
   "outputs": [],
   "source": [
    "def plot_learningCurve(history, epoch):\n",
    "  # Plot training & validation accuracy values\n",
    "  epoch_range = range(1, epoch+1)\n",
    "  plt.plot(epoch_range, history.history['accuracy'])\n",
    "  plt.plot(epoch_range, history.history['val_accuracy'])\n",
    "  plt.title('Model accuracy')\n",
    "  plt.ylabel('Accuracy')\n",
    "  plt.xlabel('Epoch')\n",
    "  plt.legend(['Train', 'Val'], loc='upper left')\n",
    "  plt.show()\n",
    "\n",
    "  # Plot training & validation loss values\n",
    "  plt.plot(epoch_range, history.history['loss'])\n",
    "  plt.plot(epoch_range, history.history['val_loss'])\n",
    "  plt.title('Model loss')\n",
    "  plt.ylabel('Loss')\n",
    "  plt.xlabel('Epoch')\n",
    "  plt.legend(['Train', 'Val'], loc='upper left')\n",
    "  plt.show()\n",
    "\n",
    "def plot_ROC(clf, X_test, y_test):\n",
    "    metrics.plot_roc_curve(clf, X_test, y_test)  \n",
    "    plt.show()  \n",
    "\n",
    "# Generating the score summary\n",
    "def evaluate_model(proba, y_test, y_pred):\n",
    "    s1 = accuracy_score(y_test, y_pred).round(3)\n",
    "    s2 = precision_score(y_test, y_pred, average='weighted').round(3)\n",
    "    s3 = recall_score(y_test, y_pred, average='weighted').round(3)\n",
    "    s4 = f1_score(y_test, y_pred, average='weighted').round(3)\n",
    "    s5 = roc_auc_score(y_test, proba, average='weighted').round(3)\n",
    "    print(\"Accuracy \", s1)\n",
    "    print(\"Precision \", s2)\n",
    "    print(\"Recall \", s3)\n",
    "    print(\"f1 score \", s4)\n",
    "    print(\"ROC_AUC \", s5)\n",
    "    cm = confusion_matrix(y_test, y_pred)\n",
    "    sns.heatmap(cm, annot=True, cmap=plt.cm.Blues)\n"
   ]
  },
  {
   "cell_type": "markdown",
   "metadata": {},
   "source": [
    "### Using Logistic Regression:"
   ]
  },
  {
   "cell_type": "code",
   "execution_count": 442,
   "metadata": {},
   "outputs": [
    {
     "name": "stdout",
     "output_type": "stream",
     "text": [
      "Optimization terminated successfully.\n",
      "         Current function value: 0.473397\n",
      "         Iterations 6\n"
     ]
    },
    {
     "data": {
      "text/html": [
       "<table class=\"simpletable\">\n",
       "<caption>Logit Regression Results</caption>\n",
       "<tr>\n",
       "  <th>Dep. Variable:</th>       <td>survived</td>     <th>  No. Observations:  </th>  <td>   684</td>  \n",
       "</tr>\n",
       "<tr>\n",
       "  <th>Model:</th>                 <td>Logit</td>      <th>  Df Residuals:      </th>  <td>   678</td>  \n",
       "</tr>\n",
       "<tr>\n",
       "  <th>Method:</th>                 <td>MLE</td>       <th>  Df Model:          </th>  <td>     5</td>  \n",
       "</tr>\n",
       "<tr>\n",
       "  <th>Date:</th>            <td>Thu, 06 Jan 2022</td> <th>  Pseudo R-squ.:     </th>  <td>0.3170</td>  \n",
       "</tr>\n",
       "<tr>\n",
       "  <th>Time:</th>                <td>20:41:18</td>     <th>  Log-Likelihood:    </th> <td> -323.80</td> \n",
       "</tr>\n",
       "<tr>\n",
       "  <th>converged:</th>             <td>True</td>       <th>  LL-Null:           </th> <td> -474.11</td> \n",
       "</tr>\n",
       "<tr>\n",
       "  <th>Covariance Type:</th>     <td>nonrobust</td>    <th>  LLR p-value:       </th> <td>7.374e-63</td>\n",
       "</tr>\n",
       "</table>\n",
       "<table class=\"simpletable\">\n",
       "<tr>\n",
       "   <td></td>     <th>coef</th>     <th>std err</th>      <th>z</th>      <th>P>|z|</th>  <th>[0.025</th>    <th>0.975]</th>  \n",
       "</tr>\n",
       "<tr>\n",
       "  <th>x1</th> <td>   -0.9250</td> <td>    0.128</td> <td>   -7.255</td> <td> 0.000</td> <td>   -1.175</td> <td>   -0.675</td>\n",
       "</tr>\n",
       "<tr>\n",
       "  <th>x2</th> <td>    1.2412</td> <td>    0.105</td> <td>   11.833</td> <td> 0.000</td> <td>    1.036</td> <td>    1.447</td>\n",
       "</tr>\n",
       "<tr>\n",
       "  <th>x3</th> <td>   -0.3972</td> <td>    0.109</td> <td>   -3.653</td> <td> 0.000</td> <td>   -0.610</td> <td>   -0.184</td>\n",
       "</tr>\n",
       "<tr>\n",
       "  <th>x4</th> <td>    0.0992</td> <td>    0.139</td> <td>    0.716</td> <td> 0.474</td> <td>   -0.172</td> <td>    0.371</td>\n",
       "</tr>\n",
       "<tr>\n",
       "  <th>x5</th> <td>   -0.1506</td> <td>    0.097</td> <td>   -1.552</td> <td> 0.121</td> <td>   -0.341</td> <td>    0.040</td>\n",
       "</tr>\n",
       "<tr>\n",
       "  <th>x6</th> <td>    0.0647</td> <td>    0.107</td> <td>    0.603</td> <td> 0.547</td> <td>   -0.146</td> <td>    0.275</td>\n",
       "</tr>\n",
       "</table>"
      ],
      "text/plain": [
       "<class 'statsmodels.iolib.summary.Summary'>\n",
       "\"\"\"\n",
       "                           Logit Regression Results                           \n",
       "==============================================================================\n",
       "Dep. Variable:               survived   No. Observations:                  684\n",
       "Model:                          Logit   Df Residuals:                      678\n",
       "Method:                           MLE   Df Model:                            5\n",
       "Date:                Thu, 06 Jan 2022   Pseudo R-squ.:                  0.3170\n",
       "Time:                        20:41:18   Log-Likelihood:                -323.80\n",
       "converged:                       True   LL-Null:                       -474.11\n",
       "Covariance Type:            nonrobust   LLR p-value:                 7.374e-63\n",
       "==============================================================================\n",
       "                 coef    std err          z      P>|z|      [0.025      0.975]\n",
       "------------------------------------------------------------------------------\n",
       "x1            -0.9250      0.128     -7.255      0.000      -1.175      -0.675\n",
       "x2             1.2412      0.105     11.833      0.000       1.036       1.447\n",
       "x3            -0.3972      0.109     -3.653      0.000      -0.610      -0.184\n",
       "x4             0.0992      0.139      0.716      0.474      -0.172       0.371\n",
       "x5            -0.1506      0.097     -1.552      0.121      -0.341       0.040\n",
       "x6             0.0647      0.107      0.603      0.547      -0.146       0.275\n",
       "==============================================================================\n",
       "\"\"\""
      ]
     },
     "execution_count": 442,
     "metadata": {},
     "output_type": "execute_result"
    }
   ],
   "source": [
    "import statsmodels.api as sm\n",
    "\n",
    "x = sm.add_constant(x_train)\n",
    "reg_log = sm.Logit(y_train, x_train)\n",
    "results_log = reg_log.fit()\n",
    "\n",
    "# Get the regression summary\n",
    "results_log.summary()"
   ]
  },
  {
   "cell_type": "markdown",
   "metadata": {},
   "source": [
    "### Conclusões parciais:"
   ]
  },
  {
   "cell_type": "markdown",
   "metadata": {},
   "source": [
    "-> Podemos concluir dessa tabela que as variáveis onde o P-value ou P>|z| é maior que 0.05 são pouco relevantes, logo, poderíamos remover as colunas 4 e 6.\n",
    "\n",
    "-> Além disso, que o Pseudo R-squared está boa, visto que está entre 0.2 e 0.4 -> \"Good —> 0.2 e 0.4 - 365 DataScience - MachineLearning Course\".\n",
    "\n",
    "-> O Log-Likelihood está levemente baixo, provavelmente devido a algumas variáveis pouco relevantes."
   ]
  },
  {
   "cell_type": "code",
   "execution_count": 443,
   "metadata": {},
   "outputs": [
    {
     "data": {
      "text/plain": [
       "array([0.16, 0.47, 0.20, 0.13, 0.66, 0.19, 0.73, 0.30, 0.76, 0.14, 0.13,\n",
       "       0.44, 0.95, 0.12, 0.90, 0.88, 0.36, 0.19, 0.62, 0.58, 0.41, 0.19,\n",
       "       0.95, 0.66, 0.94, 0.06, 0.96, 0.18, 0.48, 0.15, 0.17, 0.31, 0.58,\n",
       "       0.63, 0.60, 0.20, 0.65, 0.69, 0.14, 0.14, 0.10, 0.58, 0.09, 0.84,\n",
       "       0.90, 0.14, 0.50, 0.19, 0.90, 0.56, 0.59, 0.37, 0.86, 0.96, 0.37,\n",
       "       0.27, 0.11, 0.14, 0.12, 0.96, 0.17, 0.28, 0.17, 0.78, 0.79, 0.85,\n",
       "       0.80, 0.44, 0.61, 0.90, 0.77, 0.15, 0.64, 0.63, 0.96, 0.68, 0.13,\n",
       "       0.86, 0.29, 0.77, 0.25, 0.34, 0.41, 0.13, 0.42, 0.15, 0.75, 0.71,\n",
       "       0.75, 0.47, 0.66, 0.13, 0.94, 0.13, 0.65, 0.14, 0.79, 0.12, 0.70,\n",
       "       0.11, 0.92, 0.29, 0.19, 0.14, 0.75, 0.13, 0.22, 0.19, 0.13, 0.37,\n",
       "       0.27, 0.75, 0.94, 0.80, 0.88, 0.18, 0.16, 0.79, 0.59, 0.83, 0.90,\n",
       "       0.17, 0.94, 0.13, 0.19, 0.70, 0.15, 0.73, 0.22, 0.14, 0.12, 0.44,\n",
       "       0.63, 0.14, 0.08, 0.14, 0.16, 0.32, 0.68, 0.09, 0.75, 0.95, 0.46,\n",
       "       0.31, 0.47, 0.11, 0.59, 0.15, 0.58, 0.27, 0.96, 0.16, 0.05, 0.56,\n",
       "       0.18, 0.14, 0.96, 0.68, 0.47, 0.63, 0.75, 0.24, 0.85, 0.13, 0.23,\n",
       "       0.64, 0.49, 0.16, 0.96, 0.69, 0.13, 0.16, 0.13, 0.16, 0.09, 0.88,\n",
       "       0.88, 0.41, 0.80, 0.87, 0.29, 0.56, 0.95, 0.19, 0.97, 0.23, 0.86,\n",
       "       0.15, 0.65, 0.23, 0.25, 0.58, 0.18, 0.20, 0.43, 0.11, 0.78, 0.71,\n",
       "       0.34, 0.65, 0.75, 0.23, 0.55, 0.90, 0.33, 0.64, 0.70, 0.33, 0.95,\n",
       "       0.14, 0.12, 0.13, 0.41, 0.65, 0.54, 0.47, 0.75, 0.38, 0.93, 0.13,\n",
       "       0.85, 0.15, 0.87, 0.15, 0.91, 0.68, 0.15, 0.75, 0.09, 0.26, 0.43,\n",
       "       0.95, 0.14, 0.19, 0.53, 0.16, 0.35, 0.19, 0.87, 0.92, 0.90, 0.75,\n",
       "       0.52, 0.13, 0.12, 0.45, 0.87, 0.21, 0.83, 0.68, 0.92, 0.16, 0.65,\n",
       "       0.14, 0.11, 0.13, 0.19, 0.13, 0.88, 0.15, 0.09, 0.15, 0.83, 0.79,\n",
       "       0.34, 0.13, 0.57, 0.13, 0.65, 0.17, 0.52, 0.19, 0.96, 0.73, 0.16,\n",
       "       0.86, 0.31, 0.22, 0.27, 0.35, 0.68, 0.23, 0.75, 0.79, 0.79, 0.10,\n",
       "       0.13, 0.60, 0.16, 0.13, 0.59, 0.73, 0.16, 0.38, 0.10, 0.14, 0.94,\n",
       "       0.15, 0.57, 0.12, 0.12, 0.37, 0.20, 0.14, 0.75, 0.83, 0.58, 0.23,\n",
       "       0.37, 0.49, 0.17, 0.18, 0.13, 0.69, 0.92, 0.80, 0.43, 0.37, 0.13,\n",
       "       0.33, 0.14, 0.17, 0.32, 0.54, 0.94, 0.15, 0.89, 0.52, 0.28, 0.35,\n",
       "       0.73, 0.55, 0.16, 0.73, 0.13, 0.56, 0.28, 0.10, 0.33, 0.16, 0.37,\n",
       "       0.12, 0.13, 0.95, 0.12, 0.73, 0.32, 0.63, 0.33, 0.84, 0.92, 0.33,\n",
       "       0.40, 0.18, 0.79, 0.41, 0.86, 0.13, 0.19, 0.60, 0.18, 0.88, 0.84,\n",
       "       0.13, 0.96, 0.65, 0.15, 0.70, 0.92, 0.35, 0.32, 0.96, 0.40, 0.21,\n",
       "       0.88, 0.95, 0.66, 0.35, 0.38, 0.22, 0.19, 0.20, 0.66, 0.68, 0.31,\n",
       "       0.86, 0.14, 0.15, 0.22, 0.21, 0.64, 0.88, 0.17, 0.20, 0.11, 0.96,\n",
       "       0.21, 0.92, 0.15, 0.18, 0.95, 0.22, 0.96, 0.66, 0.48, 0.42, 0.31,\n",
       "       0.52, 0.75, 0.78, 0.75, 0.95, 0.65, 0.13, 0.95, 0.10, 0.13, 0.15,\n",
       "       0.13])"
      ]
     },
     "execution_count": 443,
     "metadata": {},
     "output_type": "execute_result"
    }
   ],
   "source": [
    "np.set_printoptions(formatter={'float': lambda x: \"{0:0.2f}\".format(x)})\n",
    "#np.set_printoptions(formatter=None)\n",
    "results_log.predict(x_test)"
   ]
  },
  {
   "cell_type": "markdown",
   "metadata": {},
   "source": [
    "Apenas por questões de brincadeira, utilizaremos um classificar Dummy para chutar as \"verdadeiras\" saídas do dataset de teste."
   ]
  },
  {
   "cell_type": "code",
   "execution_count": 444,
   "metadata": {},
   "outputs": [
    {
     "data": {
      "text/plain": [
       "array([[270.00, 72.00],\n",
       "       [80.00, 262.00]])"
      ]
     },
     "execution_count": 444,
     "metadata": {},
     "output_type": "execute_result"
    }
   ],
   "source": [
    "results_log.pred_table()"
   ]
  },
  {
   "cell_type": "code",
   "execution_count": 445,
   "metadata": {},
   "outputs": [
    {
     "data": {
      "text/html": [
       "<div>\n",
       "<style scoped>\n",
       "    .dataframe tbody tr th:only-of-type {\n",
       "        vertical-align: middle;\n",
       "    }\n",
       "\n",
       "    .dataframe tbody tr th {\n",
       "        vertical-align: top;\n",
       "    }\n",
       "\n",
       "    .dataframe thead th {\n",
       "        text-align: right;\n",
       "    }\n",
       "</style>\n",
       "<table border=\"1\" class=\"dataframe\">\n",
       "  <thead>\n",
       "    <tr style=\"text-align: right;\">\n",
       "      <th></th>\n",
       "      <th>Predicted 0</th>\n",
       "      <th>Predicted 1</th>\n",
       "    </tr>\n",
       "  </thead>\n",
       "  <tbody>\n",
       "    <tr>\n",
       "      <th>Actual 0</th>\n",
       "      <td>270.0</td>\n",
       "      <td>72.0</td>\n",
       "    </tr>\n",
       "    <tr>\n",
       "      <th>Actual 1</th>\n",
       "      <td>80.0</td>\n",
       "      <td>262.0</td>\n",
       "    </tr>\n",
       "  </tbody>\n",
       "</table>\n",
       "</div>"
      ],
      "text/plain": [
       "          Predicted 0  Predicted 1\n",
       "Actual 0        270.0         72.0\n",
       "Actual 1         80.0        262.0"
      ]
     },
     "execution_count": 445,
     "metadata": {},
     "output_type": "execute_result"
    }
   ],
   "source": [
    "cm_df = pd.DataFrame(results_log.pred_table())\n",
    "cm_df.columns = ['Predicted 0','Predicted 1']\n",
    "cm_df = cm_df.rename(index={0: 'Actual 0',1:'Actual 1'})\n",
    "cm_df"
   ]
  },
  {
   "cell_type": "code",
   "execution_count": 446,
   "metadata": {},
   "outputs": [
    {
     "name": "stdout",
     "output_type": "stream",
     "text": [
      "Acurácia de: 77.78%\n"
     ]
    }
   ],
   "source": [
    "cm = np.array(cm_df)\n",
    "accuracy_train = (cm[0,0]+cm[1,1])/cm.sum()*100\n",
    "\n",
    "print(\"Acurácia de: %.2f\" % accuracy_train + \"%\")"
   ]
  },
  {
   "cell_type": "markdown",
   "metadata": {},
   "source": [
    "---"
   ]
  },
  {
   "cell_type": "markdown",
   "metadata": {},
   "source": [
    "### Por random forest:"
   ]
  },
  {
   "cell_type": "code",
   "execution_count": 447,
   "metadata": {},
   "outputs": [],
   "source": [
    "random_forest = RandomForestClassifier(n_estimators=100)\n",
    "random_forest.fit(x_train, y_train)\n",
    "\n",
    "Y_prediction = random_forest.predict(x_test)\n"
   ]
  },
  {
   "cell_type": "code",
   "execution_count": 448,
   "metadata": {},
   "outputs": [],
   "source": [
    "random_forest.score(x_train, y_train)\n",
    "acc_random_forest = round(random_forest.score(x_train, y_train) * 100, 2)"
   ]
  },
  {
   "cell_type": "code",
   "execution_count": 449,
   "metadata": {},
   "outputs": [
    {
     "name": "stdout",
     "output_type": "stream",
     "text": [
      "Acurácia de: 96.20%\n"
     ]
    }
   ],
   "source": [
    "print(\"Acurácia de: %.2f\" % acc_random_forest + \"%\")"
   ]
  }
 ],
 "metadata": {
  "interpreter": {
   "hash": "df6438d9c6021a8537ed1f8dc3c8c872338752a98d8cf1a180ae921c1efc4c46"
  },
  "kernelspec": {
   "display_name": "Python 3.7.5rc1 64-bit",
   "language": "python",
   "name": "python3"
  },
  "language_info": {
   "codemirror_mode": {
    "name": "ipython",
    "version": 3
   },
   "file_extension": ".py",
   "mimetype": "text/x-python",
   "name": "python",
   "nbconvert_exporter": "python",
   "pygments_lexer": "ipython3",
   "version": "3.7.5rc1"
  },
  "orig_nbformat": 4
 },
 "nbformat": 4,
 "nbformat_minor": 2
}
