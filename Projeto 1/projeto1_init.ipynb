{
 "cells": [
  {
   "cell_type": "markdown",
   "metadata": {},
   "source": [
    "#### Este primeiro método de resolução, consiste na utilização de conceitos de NLP, e vetorização para palavras para resolução. Por isso, conta com utilização de bibliotecas prontas. Foi utilizado, também, o conceito de similaridade de cossenos para construção das relações entre palavras."
   ]
  },
  {
   "cell_type": "markdown",
   "metadata": {},
   "source": [
    "### Importação das Bibliotecas:"
   ]
  },
  {
   "cell_type": "code",
   "execution_count": 82,
   "metadata": {},
   "outputs": [],
   "source": [
    "import numpy as np\n",
    "from matplotlib import pyplot as plt\n",
    "import re\n",
    "from nltk.corpus import stopwords\n",
    "\n",
    "import keras\n",
    "from keras.layers import Dense, Activation, Input, Dropout\n",
    "from keras.models import Model"
   ]
  },
  {
   "cell_type": "markdown",
   "metadata": {},
   "source": [
    "### Importação dos dados:"
   ]
  },
  {
   "cell_type": "code",
   "execution_count": 83,
   "metadata": {},
   "outputs": [],
   "source": [
    "f = open('Base Text - Matrix Representation.txt')                               # Abre o arquivo\n",
    "\n",
    "raw_data = f.read()                                                             # Le o arquivo\n",
    "f.close()                                                                       # Fecha o arquivo"
   ]
  },
  {
   "cell_type": "markdown",
   "metadata": {},
   "source": [
    "### Visualizando os dados:"
   ]
  },
  {
   "cell_type": "code",
   "execution_count": 84,
   "metadata": {},
   "outputs": [
    {
     "data": {
      "text/plain": [
       "'Fusce risus ex, posuere at ante at, condimentum vestibulum nunc. Proin dapibus egestas neque, a tempor odio pharetra eget. Nullam tempus felis eu consectetur tincidunt. Integer fermentum eu quam vitae tempus. Vivamus volutpat ut dui vitae sollicitudin. Donec ornare dolor a vestibulum pharetra. Mauris eget dui sapien. Mauris lobortis feugiat neque, nec congue leo viverra semper. In vel mauris nunc. Aenean scelerisque arcu a varius tempor. Proin quis nisi et mi dictum tempor. Pellentesque mattis risus metus, id luctus orci ultrices ac. Praesent bibendum lectus a nisl mollis, eu suscipit eros pretium.\\nPhasellus vitae elit efficitur, varius felis id, vulputate neque. Praesent dictum nunc in velit lobortis tempus. Duis pulvinar ut urna eget volutpat. In hac habitasse platea dictumst. Aenean eros libero, ultrices eu dolor id, ultrices bibendum mauris. Nunc quis nunc feugiat, dapibus sem eget, pretium orci. Mauris mauris felis, pulvinar nec dapibus in, laoreet ac nibh. Pellentesque habitant morbi tristique senectus et netus et malesuada fames ac turpis egestas. In sed scelerisque massa. Morbi sit amet ex erat. Duis sit amet laoreet ipsum. Nullam rutrum dapibus metus id sollicitudin. Sed lorem metus, maximus id maximus ac, vehicula vitae neque.\\nCurabitur vestibulum lorem diam, nec dictum lectus sodales id. Morbi at dui at ex fermentum porttitor sit amet et ipsum. Nullam et nibh vitae arcu porta pretium. Aenean ultricies bibendum nibh vitae mattis. Donec nec dignissim lorem. Vivamus ut lectus nec sem suscipit gravida. Class aptent taciti sociosqu ad litora torquent per conubia nostra, per inceptos himenaeos. Proin nec metus at sapien tempor ultrices. Donec sed orci ante. Quisque finibus maximus justo, sit amet dignissim justo ornare ut. Morbi imperdiet sagittis tristique. Nunc vestibulum velit eget neque ultrices, sit amet egestas elit eleifend.\\nCurabitur facilisis elementum ligula vitae pellentesque. Nulla facilisi. Nulla vel tristique arcu. Sed dictum nisl ac laoreet venenatis. Proin eros est, suscipit id sodales eu, semper maximus eros. Sed maximus id nulla vel auctor. Nullam libero odio, auctor eget felis et, viverra gravida nisl. Vivamus sed luctus eros, nec mattis leo. Phasellus eget accumsan justo. Proin nisl sem, luctus ut gravida consequat, congue sit amet arcu.\\n\\n'"
      ]
     },
     "execution_count": 84,
     "metadata": {},
     "output_type": "execute_result"
    }
   ],
   "source": [
    "raw_data"
   ]
  },
  {
   "cell_type": "markdown",
   "metadata": {},
   "source": [
    "### Pre-processing dos dados --> .lower() + re.sub() [subtituir expressões regulares] + Removendo as Stopwords [palavras não relevantes]"
   ]
  },
  {
   "cell_type": "code",
   "execution_count": 85,
   "metadata": {},
   "outputs": [
    {
     "data": {
      "text/plain": [
       "(348,)"
      ]
     },
     "execution_count": 85,
     "metadata": {},
     "output_type": "execute_result"
    }
   ],
   "source": [
    "data_processed = raw_data.lower()\n",
    "data_processed = re.sub('[^A-Za-z]+', ' ', data_processed)\n",
    "data_processed = data_processed.split()\n",
    "\n",
    "data_processed.remove('at')\n",
    "data_processed.remove('a')\n",
    "data_processed = np.array(data_processed)\n",
    "data_processed.shape"
   ]
  },
  {
   "cell_type": "markdown",
   "metadata": {},
   "source": [
    "### Acrescendo dados únicos ao vocabulário:"
   ]
  },
  {
   "cell_type": "code",
   "execution_count": 86,
   "metadata": {},
   "outputs": [
    {
     "data": {
      "text/plain": [
       "((142,), (142,))"
      ]
     },
     "execution_count": 86,
     "metadata": {},
     "output_type": "execute_result"
    }
   ],
   "source": [
    "vocabulary, counts = np.unique(data_processed, return_counts=True)\n",
    "\n",
    "vocabulary.shape, counts.shape"
   ]
  },
  {
   "cell_type": "markdown",
   "metadata": {},
   "source": [
    "### Imprementando vetor encoder para pré-processamento das features categóricas em um modelo ML:"
   ]
  },
  {
   "cell_type": "code",
   "execution_count": 87,
   "metadata": {},
   "outputs": [
    {
     "data": {
      "text/plain": [
       "(348, 142)"
      ]
     },
     "execution_count": 87,
     "metadata": {},
     "output_type": "execute_result"
    }
   ],
   "source": [
    "def get_one_hot_vector(word):\n",
    "\n",
    "    vec = np.zeros((vocabulary.shape[0], ))\n",
    "\n",
    "    index = (vocabulary == word).argmax()\n",
    "\n",
    "    vec[index] = 1\n",
    "\n",
    "    return vec\n",
    "#-------------------------------------------------------------------#\n",
    "\n",
    "dataset = []\n",
    "\n",
    "for word in data_processed:\n",
    "\n",
    "    dataset.append(get_one_hot_vector(word))\n",
    "\n",
    "dataset = np.asarray(dataset)\n",
    "#-------------------------------------------------------------------#\n",
    "dataset.shape"
   ]
  },
  {
   "cell_type": "markdown",
   "metadata": {},
   "source": [
    "### Separando em Train e Test:"
   ]
  },
  {
   "cell_type": "code",
   "execution_count": 88,
   "metadata": {},
   "outputs": [
    {
     "name": "stdout",
     "output_type": "stream",
     "text": [
      "[0. 0. 0. 0. 0. 0. 0. 0. 0. 0. 0. 0. 0. 0. 0. 0. 0. 0. 0. 0. 0. 0. 0. 0.\n",
      " 0. 0. 0. 0. 0. 0. 0. 0. 0. 0. 0. 0. 0. 0. 0. 0. 0. 0. 0. 0. 0. 0. 0. 1.\n",
      " 0. 0. 0. 0. 0. 0. 0. 0. 0. 0. 0. 0. 0. 0. 0. 0. 0. 0. 0. 0. 0. 0. 0. 0.\n",
      " 0. 0. 0. 0. 0. 0. 0. 0. 0. 0. 0. 0. 0. 0. 0. 0. 0. 0. 0. 0. 0. 0. 0. 0.\n",
      " 0. 0. 0. 0. 0. 0. 0. 0. 0. 0. 0. 0. 0. 0. 0. 0. 0. 0. 0. 0. 0. 0. 0. 0.\n",
      " 0. 0. 0. 0. 0. 0. 0. 0. 0. 0. 0. 0. 0. 0. 0. 0. 0. 0. 0. 0. 0. 0. 0. 0.\n",
      " 0. 0. 0. 0. 0. 0. 0. 0. 0. 0. 0. 0. 0. 0. 0. 0. 0. 0. 0. 0. 0. 0. 0. 0.\n",
      " 0. 0. 0. 0. 0. 0. 0. 0. 0. 0. 0. 0. 0. 0. 0. 0. 0. 0. 0. 0. 0. 0. 0. 0.\n",
      " 0. 0. 0. 0. 0. 0. 0. 0. 0. 0. 0. 0. 0. 0. 0. 0. 0. 0. 0. 0. 0. 0. 0. 0.\n",
      " 0. 0. 0. 0. 0. 0. 0. 0. 0. 0. 0. 0. 0. 0. 0. 0. 0. 0. 0. 0. 0. 0. 0. 0.\n",
      " 0. 0. 0. 0. 0. 0. 0. 0. 1. 0. 0. 0. 0. 0. 0. 0. 0. 0. 0. 0. 0. 0. 0. 0.\n",
      " 0. 0. 0. 0. 0. 0. 0. 0. 0. 0. 0. 0. 0. 0. 0. 0. 0. 0. 0. 0.] (284,) (347, 284)\n"
     ]
    }
   ],
   "source": [
    "X = np.zeros((dataset.shape[0]-1, dataset.shape[1]*2))              # Bigram\n",
    "#-------------------------------------------------------------------#\n",
    "for i in range(X.shape[0]-1):\n",
    "\n",
    "    X[i] = np.hstack((dataset[i], dataset[i+1]))\n",
    "#-------------------------------------------------------------------#\n",
    "\n",
    "print(X[0], X[0].shape, X.shape)\n",
    "#-------------------------------------------------------------------#\n"
   ]
  },
  {
   "cell_type": "code",
   "execution_count": 89,
   "metadata": {},
   "outputs": [
    {
     "data": {
      "text/plain": [
       "((347, 284), (347, 142))"
      ]
     },
     "execution_count": 89,
     "metadata": {},
     "output_type": "execute_result"
    }
   ],
   "source": [
    "y = dataset[1:]\n",
    "X.shape, y.shape\n"
   ]
  },
  {
   "cell_type": "code",
   "execution_count": 90,
   "metadata": {},
   "outputs": [
    {
     "data": {
      "text/plain": [
       "((277, 284), (70, 284), (277, 142), (70, 142))"
      ]
     },
     "execution_count": 90,
     "metadata": {},
     "output_type": "execute_result"
    }
   ],
   "source": [
    "#-------------------------------------------------------------------#\n",
    "split = int(0.80 * X.shape[0])                                      # --> Relação 80:20\n",
    "\n",
    "X_train = X[:split]\n",
    "X_test = X[split:]\n",
    "\n",
    "y_train = y[:split]\n",
    "y_test = y[split:]\n",
    "#-------------------------------------------------------------------#\n",
    "\n",
    "X_train.shape, X_test.shape, y_train.shape, y_test.shape"
   ]
  },
  {
   "cell_type": "markdown",
   "metadata": {},
   "source": [
    "### Implementando Word embeddings usando Keras:"
   ]
  },
  {
   "cell_type": "code",
   "execution_count": 91,
   "metadata": {},
   "outputs": [
    {
     "name": "stdout",
     "output_type": "stream",
     "text": [
      "Model: \"model_4\"\n",
      "_________________________________________________________________\n",
      " Layer (type)                Output Shape              Param #   \n",
      "=================================================================\n",
      " input_3 (InputLayer)        [(None, 284)]             0         \n",
      "                                                                 \n",
      " dense_4 (Dense)             (None, 300)               85500     \n",
      "                                                                 \n",
      " dropout_2 (Dropout)         (None, 300)               0         \n",
      "                                                                 \n",
      " dense_5 (Dense)             (None, 142)               42742     \n",
      "                                                                 \n",
      "=================================================================\n",
      "Total params: 128,242\n",
      "Trainable params: 128,242\n",
      "Non-trainable params: 0\n",
      "_________________________________________________________________\n"
     ]
    }
   ],
   "source": [
    "embedding = 300\n",
    "#-------------------------------------------------------------------#\n",
    "inp = Input(shape=(284,))\n",
    "\n",
    "emb = Dense(embedding, activation='tanh')(inp)\n",
    "emb = Dropout(0.4)(emb)\n",
    "\n",
    "out = Dense(142, activation='softmax')(emb)\n",
    "#-------------------------------------------------------------------#\n",
    "\n",
    "model = Model(inputs=inp, outputs=out)\n",
    "\n",
    "model.summary()\n",
    "model.compile(loss='categorical_crossentropy', optimizer='adam', metrics=['accuracy'])\n",
    "#-------------------------------------------------------------------#\n",
    "\n",
    "encoder = Model(inputs=inp, outputs=emb)"
   ]
  },
  {
   "cell_type": "markdown",
   "metadata": {},
   "source": [
    "### Treinando:"
   ]
  },
  {
   "cell_type": "code",
   "execution_count": 92,
   "metadata": {},
   "outputs": [
    {
     "name": "stdout",
     "output_type": "stream",
     "text": [
      "Epoch 1/100\n",
      "1/1 [==============================] - 1s 1s/step - loss: 4.9674 - accuracy: 0.0108 - val_loss: 4.9432 - val_accuracy: 0.0143\n",
      "Epoch 2/100\n",
      "1/1 [==============================] - 0s 51ms/step - loss: 4.9233 - accuracy: 0.0072 - val_loss: 4.9234 - val_accuracy: 0.0143\n",
      "Epoch 3/100\n",
      "1/1 [==============================] - 0s 46ms/step - loss: 4.8899 - accuracy: 0.0361 - val_loss: 4.9034 - val_accuracy: 0.0143\n",
      "Epoch 4/100\n",
      "1/1 [==============================] - 0s 36ms/step - loss: 4.8461 - accuracy: 0.0578 - val_loss: 4.8832 - val_accuracy: 0.0571\n",
      "Epoch 5/100\n",
      "1/1 [==============================] - 0s 39ms/step - loss: 4.8132 - accuracy: 0.1047 - val_loss: 4.8630 - val_accuracy: 0.1429\n",
      "Epoch 6/100\n",
      "1/1 [==============================] - 0s 34ms/step - loss: 4.7618 - accuracy: 0.1516 - val_loss: 4.8428 - val_accuracy: 0.1571\n",
      "Epoch 7/100\n",
      "1/1 [==============================] - 0s 41ms/step - loss: 4.7393 - accuracy: 0.2202 - val_loss: 4.8226 - val_accuracy: 0.1714\n",
      "Epoch 8/100\n",
      "1/1 [==============================] - 0s 40ms/step - loss: 4.6901 - accuracy: 0.3213 - val_loss: 4.8024 - val_accuracy: 0.2429\n",
      "Epoch 9/100\n",
      "1/1 [==============================] - 0s 48ms/step - loss: 4.6529 - accuracy: 0.4368 - val_loss: 4.7822 - val_accuracy: 0.3143\n",
      "Epoch 10/100\n",
      "1/1 [==============================] - 0s 42ms/step - loss: 4.6062 - accuracy: 0.6101 - val_loss: 4.7620 - val_accuracy: 0.3571\n",
      "Epoch 11/100\n",
      "1/1 [==============================] - 0s 41ms/step - loss: 4.5698 - accuracy: 0.6354 - val_loss: 4.7417 - val_accuracy: 0.4143\n",
      "Epoch 12/100\n",
      "1/1 [==============================] - 0s 52ms/step - loss: 4.5319 - accuracy: 0.7329 - val_loss: 4.7215 - val_accuracy: 0.4714\n",
      "Epoch 13/100\n",
      "1/1 [==============================] - 0s 68ms/step - loss: 4.5033 - accuracy: 0.8051 - val_loss: 4.7013 - val_accuracy: 0.4857\n",
      "Epoch 14/100\n",
      "1/1 [==============================] - 0s 43ms/step - loss: 4.4453 - accuracy: 0.8700 - val_loss: 4.6811 - val_accuracy: 0.5143\n",
      "Epoch 15/100\n",
      "1/1 [==============================] - 0s 36ms/step - loss: 4.4131 - accuracy: 0.8989 - val_loss: 4.6608 - val_accuracy: 0.5286\n",
      "Epoch 16/100\n",
      "1/1 [==============================] - 0s 39ms/step - loss: 4.3602 - accuracy: 0.9242 - val_loss: 4.6404 - val_accuracy: 0.5571\n",
      "Epoch 17/100\n",
      "1/1 [==============================] - 0s 54ms/step - loss: 4.3251 - accuracy: 0.9603 - val_loss: 4.6200 - val_accuracy: 0.5857\n",
      "Epoch 18/100\n",
      "1/1 [==============================] - 0s 55ms/step - loss: 4.2930 - accuracy: 0.9819 - val_loss: 4.5996 - val_accuracy: 0.6000\n",
      "Epoch 19/100\n",
      "1/1 [==============================] - 0s 38ms/step - loss: 4.2411 - accuracy: 0.9856 - val_loss: 4.5790 - val_accuracy: 0.6143\n",
      "Epoch 20/100\n",
      "1/1 [==============================] - 0s 36ms/step - loss: 4.2003 - accuracy: 0.9892 - val_loss: 4.5585 - val_accuracy: 0.6143\n",
      "Epoch 21/100\n",
      "1/1 [==============================] - 0s 38ms/step - loss: 4.1706 - accuracy: 0.9964 - val_loss: 4.5378 - val_accuracy: 0.6143\n",
      "Epoch 22/100\n",
      "1/1 [==============================] - 0s 50ms/step - loss: 4.1160 - accuracy: 0.9928 - val_loss: 4.5170 - val_accuracy: 0.6143\n",
      "Epoch 23/100\n",
      "1/1 [==============================] - 0s 58ms/step - loss: 4.0829 - accuracy: 0.9964 - val_loss: 4.4962 - val_accuracy: 0.6286\n",
      "Epoch 24/100\n",
      "1/1 [==============================] - 0s 65ms/step - loss: 4.0298 - accuracy: 1.0000 - val_loss: 4.4752 - val_accuracy: 0.6429\n",
      "Epoch 25/100\n",
      "1/1 [==============================] - 0s 35ms/step - loss: 3.9820 - accuracy: 0.9928 - val_loss: 4.4542 - val_accuracy: 0.6429\n",
      "Epoch 26/100\n",
      "1/1 [==============================] - 0s 35ms/step - loss: 3.9469 - accuracy: 0.9964 - val_loss: 4.4330 - val_accuracy: 0.6429\n",
      "Epoch 27/100\n",
      "1/1 [==============================] - 0s 37ms/step - loss: 3.8884 - accuracy: 1.0000 - val_loss: 4.4117 - val_accuracy: 0.6429\n",
      "Epoch 28/100\n",
      "1/1 [==============================] - 0s 36ms/step - loss: 3.8396 - accuracy: 1.0000 - val_loss: 4.3904 - val_accuracy: 0.6429\n",
      "Epoch 29/100\n",
      "1/1 [==============================] - 0s 34ms/step - loss: 3.8133 - accuracy: 1.0000 - val_loss: 4.3688 - val_accuracy: 0.6429\n",
      "Epoch 30/100\n",
      "1/1 [==============================] - 0s 33ms/step - loss: 3.7524 - accuracy: 1.0000 - val_loss: 4.3472 - val_accuracy: 0.6429\n",
      "Epoch 31/100\n",
      "1/1 [==============================] - 0s 33ms/step - loss: 3.7070 - accuracy: 1.0000 - val_loss: 4.3254 - val_accuracy: 0.6286\n",
      "Epoch 32/100\n",
      "1/1 [==============================] - 0s 35ms/step - loss: 3.6680 - accuracy: 1.0000 - val_loss: 4.3035 - val_accuracy: 0.6286\n",
      "Epoch 33/100\n",
      "1/1 [==============================] - 0s 35ms/step - loss: 3.6155 - accuracy: 1.0000 - val_loss: 4.2815 - val_accuracy: 0.6286\n",
      "Epoch 34/100\n",
      "1/1 [==============================] - 0s 50ms/step - loss: 3.5759 - accuracy: 1.0000 - val_loss: 4.2593 - val_accuracy: 0.6286\n",
      "Epoch 35/100\n",
      "1/1 [==============================] - 0s 57ms/step - loss: 3.5121 - accuracy: 1.0000 - val_loss: 4.2369 - val_accuracy: 0.6286\n",
      "Epoch 36/100\n",
      "1/1 [==============================] - 0s 38ms/step - loss: 3.4816 - accuracy: 1.0000 - val_loss: 4.2145 - val_accuracy: 0.6571\n",
      "Epoch 37/100\n",
      "1/1 [==============================] - 0s 38ms/step - loss: 3.4153 - accuracy: 1.0000 - val_loss: 4.1918 - val_accuracy: 0.6571\n",
      "Epoch 38/100\n",
      "1/1 [==============================] - 0s 72ms/step - loss: 3.3838 - accuracy: 1.0000 - val_loss: 4.1690 - val_accuracy: 0.6571\n",
      "Epoch 39/100\n",
      "1/1 [==============================] - 0s 36ms/step - loss: 3.3305 - accuracy: 1.0000 - val_loss: 4.1461 - val_accuracy: 0.6571\n",
      "Epoch 40/100\n",
      "1/1 [==============================] - 0s 37ms/step - loss: 3.2671 - accuracy: 1.0000 - val_loss: 4.1229 - val_accuracy: 0.6571\n",
      "Epoch 41/100\n",
      "1/1 [==============================] - 0s 32ms/step - loss: 3.2154 - accuracy: 1.0000 - val_loss: 4.0997 - val_accuracy: 0.6571\n",
      "Epoch 42/100\n",
      "1/1 [==============================] - 0s 38ms/step - loss: 3.1679 - accuracy: 1.0000 - val_loss: 4.0762 - val_accuracy: 0.6571\n",
      "Epoch 43/100\n",
      "1/1 [==============================] - 0s 38ms/step - loss: 3.1190 - accuracy: 1.0000 - val_loss: 4.0527 - val_accuracy: 0.6571\n",
      "Epoch 44/100\n",
      "1/1 [==============================] - 0s 39ms/step - loss: 3.0584 - accuracy: 1.0000 - val_loss: 4.0289 - val_accuracy: 0.6571\n",
      "Epoch 45/100\n",
      "1/1 [==============================] - 0s 53ms/step - loss: 2.9991 - accuracy: 1.0000 - val_loss: 4.0051 - val_accuracy: 0.6571\n",
      "Epoch 46/100\n",
      "1/1 [==============================] - 0s 62ms/step - loss: 2.9608 - accuracy: 1.0000 - val_loss: 3.9811 - val_accuracy: 0.6571\n",
      "Epoch 47/100\n",
      "1/1 [==============================] - 0s 34ms/step - loss: 2.8920 - accuracy: 1.0000 - val_loss: 3.9569 - val_accuracy: 0.6571\n",
      "Epoch 48/100\n",
      "1/1 [==============================] - 0s 35ms/step - loss: 2.8315 - accuracy: 1.0000 - val_loss: 3.9326 - val_accuracy: 0.6571\n",
      "Epoch 49/100\n",
      "1/1 [==============================] - 0s 44ms/step - loss: 2.7931 - accuracy: 1.0000 - val_loss: 3.9082 - val_accuracy: 0.6571\n",
      "Epoch 50/100\n",
      "1/1 [==============================] - 0s 38ms/step - loss: 2.7364 - accuracy: 1.0000 - val_loss: 3.8836 - val_accuracy: 0.6571\n",
      "Epoch 51/100\n",
      "1/1 [==============================] - 0s 34ms/step - loss: 2.6904 - accuracy: 1.0000 - val_loss: 3.8590 - val_accuracy: 0.6571\n",
      "Epoch 52/100\n",
      "1/1 [==============================] - 0s 36ms/step - loss: 2.6103 - accuracy: 1.0000 - val_loss: 3.8342 - val_accuracy: 0.6286\n",
      "Epoch 53/100\n",
      "1/1 [==============================] - 0s 33ms/step - loss: 2.5499 - accuracy: 1.0000 - val_loss: 3.8094 - val_accuracy: 0.6286\n",
      "Epoch 54/100\n",
      "1/1 [==============================] - 0s 36ms/step - loss: 2.5018 - accuracy: 1.0000 - val_loss: 3.7845 - val_accuracy: 0.6286\n",
      "Epoch 55/100\n",
      "1/1 [==============================] - 0s 37ms/step - loss: 2.4404 - accuracy: 1.0000 - val_loss: 3.7595 - val_accuracy: 0.6286\n",
      "Epoch 56/100\n",
      "1/1 [==============================] - 0s 45ms/step - loss: 2.3800 - accuracy: 1.0000 - val_loss: 3.7343 - val_accuracy: 0.6286\n",
      "Epoch 57/100\n",
      "1/1 [==============================] - 0s 54ms/step - loss: 2.3213 - accuracy: 1.0000 - val_loss: 3.7090 - val_accuracy: 0.6286\n",
      "Epoch 58/100\n",
      "1/1 [==============================] - 0s 39ms/step - loss: 2.2653 - accuracy: 1.0000 - val_loss: 3.6837 - val_accuracy: 0.6286\n",
      "Epoch 59/100\n",
      "1/1 [==============================] - 0s 40ms/step - loss: 2.2219 - accuracy: 1.0000 - val_loss: 3.6583 - val_accuracy: 0.6286\n",
      "Epoch 60/100\n",
      "1/1 [==============================] - 0s 46ms/step - loss: 2.1394 - accuracy: 1.0000 - val_loss: 3.6328 - val_accuracy: 0.6286\n",
      "Epoch 61/100\n",
      "1/1 [==============================] - 0s 48ms/step - loss: 2.0784 - accuracy: 1.0000 - val_loss: 3.6074 - val_accuracy: 0.6286\n",
      "Epoch 62/100\n",
      "1/1 [==============================] - 0s 181ms/step - loss: 2.0240 - accuracy: 1.0000 - val_loss: 3.5819 - val_accuracy: 0.6286\n",
      "Epoch 63/100\n",
      "1/1 [==============================] - 0s 42ms/step - loss: 1.9757 - accuracy: 1.0000 - val_loss: 3.5564 - val_accuracy: 0.6000\n",
      "Epoch 64/100\n",
      "1/1 [==============================] - 0s 47ms/step - loss: 1.9322 - accuracy: 1.0000 - val_loss: 3.5309 - val_accuracy: 0.6000\n",
      "Epoch 65/100\n",
      "1/1 [==============================] - 0s 88ms/step - loss: 1.8722 - accuracy: 1.0000 - val_loss: 3.5053 - val_accuracy: 0.6000\n",
      "Epoch 66/100\n",
      "1/1 [==============================] - 0s 54ms/step - loss: 1.8118 - accuracy: 1.0000 - val_loss: 3.4797 - val_accuracy: 0.6000\n",
      "Epoch 67/100\n",
      "1/1 [==============================] - 0s 80ms/step - loss: 1.7492 - accuracy: 1.0000 - val_loss: 3.4541 - val_accuracy: 0.6000\n",
      "Epoch 68/100\n",
      "1/1 [==============================] - 0s 38ms/step - loss: 1.6893 - accuracy: 1.0000 - val_loss: 3.4285 - val_accuracy: 0.6000\n",
      "Epoch 69/100\n",
      "1/1 [==============================] - 0s 41ms/step - loss: 1.6263 - accuracy: 1.0000 - val_loss: 3.4028 - val_accuracy: 0.6000\n",
      "Epoch 70/100\n",
      "1/1 [==============================] - 0s 62ms/step - loss: 1.5840 - accuracy: 1.0000 - val_loss: 3.3771 - val_accuracy: 0.6000\n",
      "Epoch 71/100\n",
      "1/1 [==============================] - 0s 41ms/step - loss: 1.5172 - accuracy: 1.0000 - val_loss: 3.3514 - val_accuracy: 0.6000\n",
      "Epoch 72/100\n",
      "1/1 [==============================] - 0s 35ms/step - loss: 1.4900 - accuracy: 1.0000 - val_loss: 3.3257 - val_accuracy: 0.6143\n",
      "Epoch 73/100\n",
      "1/1 [==============================] - 0s 34ms/step - loss: 1.4259 - accuracy: 1.0000 - val_loss: 3.3000 - val_accuracy: 0.6143\n",
      "Epoch 74/100\n",
      "1/1 [==============================] - 0s 35ms/step - loss: 1.3553 - accuracy: 1.0000 - val_loss: 3.2743 - val_accuracy: 0.6143\n",
      "Epoch 75/100\n",
      "1/1 [==============================] - 0s 35ms/step - loss: 1.3352 - accuracy: 1.0000 - val_loss: 3.2485 - val_accuracy: 0.6143\n",
      "Epoch 76/100\n",
      "1/1 [==============================] - 0s 33ms/step - loss: 1.2830 - accuracy: 1.0000 - val_loss: 3.2228 - val_accuracy: 0.6143\n",
      "Epoch 77/100\n",
      "1/1 [==============================] - 0s 35ms/step - loss: 1.2349 - accuracy: 1.0000 - val_loss: 3.1971 - val_accuracy: 0.6286\n",
      "Epoch 78/100\n",
      "1/1 [==============================] - 0s 43ms/step - loss: 1.1926 - accuracy: 1.0000 - val_loss: 3.1714 - val_accuracy: 0.6286\n",
      "Epoch 79/100\n",
      "1/1 [==============================] - 0s 46ms/step - loss: 1.1112 - accuracy: 1.0000 - val_loss: 3.1458 - val_accuracy: 0.6286\n",
      "Epoch 80/100\n",
      "1/1 [==============================] - 0s 38ms/step - loss: 1.0885 - accuracy: 1.0000 - val_loss: 3.1201 - val_accuracy: 0.6286\n",
      "Epoch 81/100\n",
      "1/1 [==============================] - 0s 58ms/step - loss: 1.0470 - accuracy: 1.0000 - val_loss: 3.0945 - val_accuracy: 0.6286\n",
      "Epoch 82/100\n",
      "1/1 [==============================] - 0s 53ms/step - loss: 0.9903 - accuracy: 1.0000 - val_loss: 3.0689 - val_accuracy: 0.6286\n",
      "Epoch 83/100\n",
      "1/1 [==============================] - 0s 63ms/step - loss: 0.9591 - accuracy: 1.0000 - val_loss: 3.0435 - val_accuracy: 0.6286\n",
      "Epoch 84/100\n",
      "1/1 [==============================] - 0s 58ms/step - loss: 0.9209 - accuracy: 1.0000 - val_loss: 3.0181 - val_accuracy: 0.6286\n",
      "Epoch 85/100\n",
      "1/1 [==============================] - 0s 60ms/step - loss: 0.8844 - accuracy: 1.0000 - val_loss: 2.9928 - val_accuracy: 0.6429\n",
      "Epoch 86/100\n",
      "1/1 [==============================] - 0s 46ms/step - loss: 0.8352 - accuracy: 1.0000 - val_loss: 2.9677 - val_accuracy: 0.6571\n",
      "Epoch 87/100\n",
      "1/1 [==============================] - 0s 62ms/step - loss: 0.8276 - accuracy: 1.0000 - val_loss: 2.9427 - val_accuracy: 0.6571\n",
      "Epoch 88/100\n",
      "1/1 [==============================] - 0s 52ms/step - loss: 0.7652 - accuracy: 1.0000 - val_loss: 2.9179 - val_accuracy: 0.6571\n",
      "Epoch 89/100\n",
      "1/1 [==============================] - 0s 49ms/step - loss: 0.7554 - accuracy: 1.0000 - val_loss: 2.8934 - val_accuracy: 0.6571\n",
      "Epoch 90/100\n",
      "1/1 [==============================] - 0s 55ms/step - loss: 0.7141 - accuracy: 1.0000 - val_loss: 2.8690 - val_accuracy: 0.6571\n",
      "Epoch 91/100\n",
      "1/1 [==============================] - 0s 56ms/step - loss: 0.6632 - accuracy: 1.0000 - val_loss: 2.8448 - val_accuracy: 0.6714\n",
      "Epoch 92/100\n",
      "1/1 [==============================] - 0s 64ms/step - loss: 0.6545 - accuracy: 1.0000 - val_loss: 2.8209 - val_accuracy: 0.6714\n",
      "Epoch 93/100\n",
      "1/1 [==============================] - 0s 78ms/step - loss: 0.6201 - accuracy: 1.0000 - val_loss: 2.7972 - val_accuracy: 0.6857\n",
      "Epoch 94/100\n",
      "1/1 [==============================] - 0s 70ms/step - loss: 0.5975 - accuracy: 1.0000 - val_loss: 2.7738 - val_accuracy: 0.7000\n",
      "Epoch 95/100\n",
      "1/1 [==============================] - 0s 66ms/step - loss: 0.5515 - accuracy: 1.0000 - val_loss: 2.7506 - val_accuracy: 0.7000\n",
      "Epoch 96/100\n",
      "1/1 [==============================] - 0s 73ms/step - loss: 0.5420 - accuracy: 1.0000 - val_loss: 2.7278 - val_accuracy: 0.7000\n",
      "Epoch 97/100\n",
      "1/1 [==============================] - 0s 73ms/step - loss: 0.5069 - accuracy: 1.0000 - val_loss: 2.7052 - val_accuracy: 0.7000\n",
      "Epoch 98/100\n",
      "1/1 [==============================] - 0s 67ms/step - loss: 0.4779 - accuracy: 1.0000 - val_loss: 2.6830 - val_accuracy: 0.7000\n",
      "Epoch 99/100\n",
      "1/1 [==============================] - 0s 80ms/step - loss: 0.4681 - accuracy: 1.0000 - val_loss: 2.6612 - val_accuracy: 0.7143\n",
      "Epoch 100/100\n",
      "1/1 [==============================] - 0s 50ms/step - loss: 0.4488 - accuracy: 1.0000 - val_loss: 2.6397 - val_accuracy: 0.7143\n"
     ]
    }
   ],
   "source": [
    "hist = model.fit(X_train, y_train,\n",
    "                epochs=100,\n",
    "                shuffle=False,\n",
    "                batch_size=1024,\n",
    "                validation_data=(X_test, y_test))"
   ]
  },
  {
   "cell_type": "markdown",
   "metadata": {},
   "source": [
    "### Graficamente, temos:"
   ]
  },
  {
   "cell_type": "code",
   "execution_count": 93,
   "metadata": {},
   "outputs": [
    {
     "data": {
      "image/png": "[encoded data removed]",
      "text/plain": [
       "<Figure size 432x288 with 1 Axes>"
      ]
     },
     "metadata": {
      "needs_background": "light"
     },
     "output_type": "display_data"
    },
    {
     "data": {
      "image/png": "[encoded data removed]",
      "text/plain": [
       "<Figure size 432x288 with 1 Axes>"
      ]
     },
     "metadata": {
      "needs_background": "light"
     },
     "output_type": "display_data"
    }
   ],
   "source": [
    "#-------------------------------------------------------------------#\n",
    "# Gráfico do Erro:\n",
    "plt.figure()\n",
    "plt.plot(hist.history['loss'], 'b')\n",
    "plt.plot(hist.history['val_loss'], 'g')\n",
    "plt.show()\n",
    "#-------------------------------------------------------------------#\n",
    "# Gráfico da Acurácia:\n",
    "plt.figure()\n",
    "plt.plot(hist.history['accuracy'], 'b')\n",
    "plt.plot(hist.history['val_accuracy'], 'g')\n",
    "plt.show()\n",
    "#-------------------------------------------------------------------#"
   ]
  },
  {
   "cell_type": "markdown",
   "metadata": {},
   "source": [
    "### Prevendo Similaridades --> Cosine Similarities:"
   ]
  },
  {
   "cell_type": "code",
   "execution_count": 94,
   "metadata": {},
   "outputs": [
    {
     "name": "stdout",
     "output_type": "stream",
     "text": [
      "141\n"
     ]
    }
   ],
   "source": [
    "a = encoder.predict(X)\n",
    "w2v = {}\n",
    "alpha = 0.9\n",
    "\n",
    "for i in range(X.shape[0]):\n",
    "\n",
    "    try:\n",
    "        old_vec = w2v[vocabulary[y[i].argmax()]]\n",
    "        new_vec = alpha*old_vec + (1-alpha)*a[i] # Running Average\n",
    "        w2v[vocabulary[y[i].argmax()]] = new_vec\n",
    "\n",
    "    except:\n",
    "        w2v[vocabulary[y[i].argmax()]] = a[i]\n",
    "\n",
    "print (len(w2v.keys()))"
   ]
  },
  {
   "cell_type": "code",
   "execution_count": 95,
   "metadata": {},
   "outputs": [
    {
     "name": "stdout",
     "output_type": "stream",
     "text": [
      "0.16817178\n"
     ]
    }
   ],
   "source": [
    "def cosine_similarity(v1, v2):\n",
    "    return np.dot(v1, v2)/np.sqrt((v1**2).sum()*(v2**2).sum())\n",
    "\n",
    "v1 = w2v['tempus']\n",
    "v2 = w2v['ultrices']\n",
    "\n",
    "print(cosine_similarity(v1, v2))"
   ]
  },
  {
   "cell_type": "code",
   "execution_count": 102,
   "metadata": {},
   "outputs": [],
   "source": [
    "\n",
    "matrix = pd.DataFrame(w2v, columns=w2v.keys())\n",
    "matrix['Palavra'] = data_processed[:300]"
   ]
  },
  {
   "cell_type": "code",
   "execution_count": 100,
   "metadata": {},
   "outputs": [
    {
     "data": {
      "text/html": [
       "<div>\n",
       "<style scoped>\n",
       "    .dataframe tbody tr th:only-of-type {\n",
       "        vertical-align: middle;\n",
       "    }\n",
       "\n",
       "    .dataframe tbody tr th {\n",
       "        vertical-align: top;\n",
       "    }\n",
       "\n",
       "    .dataframe thead th {\n",
       "        text-align: right;\n",
       "    }\n",
       "</style>\n",
       "<table border=\"1\" class=\"dataframe\">\n",
       "  <thead>\n",
       "    <tr style=\"text-align: right;\">\n",
       "      <th></th>\n",
       "      <th>risus</th>\n",
       "      <th>ex</th>\n",
       "      <th>posuere</th>\n",
       "      <th>ante</th>\n",
       "      <th>at</th>\n",
       "      <th>condimentum</th>\n",
       "      <th>vestibulum</th>\n",
       "      <th>nunc</th>\n",
       "      <th>proin</th>\n",
       "      <th>dapibus</th>\n",
       "      <th>...</th>\n",
       "      <th>elementum</th>\n",
       "      <th>ligula</th>\n",
       "      <th>nulla</th>\n",
       "      <th>facilisi</th>\n",
       "      <th>venenatis</th>\n",
       "      <th>est</th>\n",
       "      <th>auctor</th>\n",
       "      <th>accumsan</th>\n",
       "      <th>consequat</th>\n",
       "      <th>Palavra</th>\n",
       "    </tr>\n",
       "  </thead>\n",
       "  <tbody>\n",
       "    <tr>\n",
       "      <th>0</th>\n",
       "      <td>-0.217701</td>\n",
       "      <td>-0.159472</td>\n",
       "      <td>-0.250682</td>\n",
       "      <td>-0.205301</td>\n",
       "      <td>0.052902</td>\n",
       "      <td>0.149924</td>\n",
       "      <td>-0.122299</td>\n",
       "      <td>0.031278</td>\n",
       "      <td>-0.187790</td>\n",
       "      <td>0.109891</td>\n",
       "      <td>...</td>\n",
       "      <td>0.046554</td>\n",
       "      <td>-0.060522</td>\n",
       "      <td>-0.068479</td>\n",
       "      <td>0.103068</td>\n",
       "      <td>-0.124483</td>\n",
       "      <td>-0.042701</td>\n",
       "      <td>-0.102535</td>\n",
       "      <td>-0.116946</td>\n",
       "      <td>-0.090302</td>\n",
       "      <td>fusce</td>\n",
       "    </tr>\n",
       "    <tr>\n",
       "      <th>1</th>\n",
       "      <td>0.080065</td>\n",
       "      <td>-0.219400</td>\n",
       "      <td>0.097379</td>\n",
       "      <td>0.198382</td>\n",
       "      <td>-0.120515</td>\n",
       "      <td>-0.277028</td>\n",
       "      <td>0.220183</td>\n",
       "      <td>-0.015249</td>\n",
       "      <td>0.107477</td>\n",
       "      <td>-0.152376</td>\n",
       "      <td>...</td>\n",
       "      <td>-0.221892</td>\n",
       "      <td>-0.047072</td>\n",
       "      <td>-0.075878</td>\n",
       "      <td>-0.150789</td>\n",
       "      <td>-0.076866</td>\n",
       "      <td>0.029445</td>\n",
       "      <td>-0.150226</td>\n",
       "      <td>0.112174</td>\n",
       "      <td>0.030505</td>\n",
       "      <td>risus</td>\n",
       "    </tr>\n",
       "    <tr>\n",
       "      <th>2</th>\n",
       "      <td>0.007903</td>\n",
       "      <td>0.214448</td>\n",
       "      <td>-0.035499</td>\n",
       "      <td>0.304467</td>\n",
       "      <td>-0.182306</td>\n",
       "      <td>0.289113</td>\n",
       "      <td>-0.068165</td>\n",
       "      <td>0.323386</td>\n",
       "      <td>-0.078212</td>\n",
       "      <td>0.202903</td>\n",
       "      <td>...</td>\n",
       "      <td>0.176725</td>\n",
       "      <td>0.157032</td>\n",
       "      <td>0.055280</td>\n",
       "      <td>0.141677</td>\n",
       "      <td>-0.072056</td>\n",
       "      <td>0.147388</td>\n",
       "      <td>0.137222</td>\n",
       "      <td>0.179712</td>\n",
       "      <td>0.112323</td>\n",
       "      <td>ex</td>\n",
       "    </tr>\n",
       "    <tr>\n",
       "      <th>3</th>\n",
       "      <td>-0.031549</td>\n",
       "      <td>-0.062066</td>\n",
       "      <td>0.155259</td>\n",
       "      <td>-0.049042</td>\n",
       "      <td>-0.204496</td>\n",
       "      <td>0.200769</td>\n",
       "      <td>0.038880</td>\n",
       "      <td>0.192922</td>\n",
       "      <td>0.097672</td>\n",
       "      <td>0.110132</td>\n",
       "      <td>...</td>\n",
       "      <td>-0.098756</td>\n",
       "      <td>-0.031380</td>\n",
       "      <td>0.053736</td>\n",
       "      <td>-0.094499</td>\n",
       "      <td>-0.067921</td>\n",
       "      <td>-0.004354</td>\n",
       "      <td>0.021669</td>\n",
       "      <td>-0.113992</td>\n",
       "      <td>-0.021905</td>\n",
       "      <td>posuere</td>\n",
       "    </tr>\n",
       "    <tr>\n",
       "      <th>4</th>\n",
       "      <td>-0.120359</td>\n",
       "      <td>-0.026617</td>\n",
       "      <td>-0.244318</td>\n",
       "      <td>-0.223593</td>\n",
       "      <td>0.052878</td>\n",
       "      <td>0.145789</td>\n",
       "      <td>-0.035685</td>\n",
       "      <td>-0.169227</td>\n",
       "      <td>-0.043155</td>\n",
       "      <td>0.204876</td>\n",
       "      <td>...</td>\n",
       "      <td>-0.076213</td>\n",
       "      <td>-0.142274</td>\n",
       "      <td>-0.039122</td>\n",
       "      <td>-0.082780</td>\n",
       "      <td>0.074759</td>\n",
       "      <td>-0.097207</td>\n",
       "      <td>-0.158709</td>\n",
       "      <td>0.032073</td>\n",
       "      <td>-0.248815</td>\n",
       "      <td>ante</td>\n",
       "    </tr>\n",
       "    <tr>\n",
       "      <th>...</th>\n",
       "      <td>...</td>\n",
       "      <td>...</td>\n",
       "      <td>...</td>\n",
       "      <td>...</td>\n",
       "      <td>...</td>\n",
       "      <td>...</td>\n",
       "      <td>...</td>\n",
       "      <td>...</td>\n",
       "      <td>...</td>\n",
       "      <td>...</td>\n",
       "      <td>...</td>\n",
       "      <td>...</td>\n",
       "      <td>...</td>\n",
       "      <td>...</td>\n",
       "      <td>...</td>\n",
       "      <td>...</td>\n",
       "      <td>...</td>\n",
       "      <td>...</td>\n",
       "      <td>...</td>\n",
       "      <td>...</td>\n",
       "      <td>...</td>\n",
       "    </tr>\n",
       "    <tr>\n",
       "      <th>295</th>\n",
       "      <td>0.222407</td>\n",
       "      <td>-0.077976</td>\n",
       "      <td>-0.047438</td>\n",
       "      <td>0.304928</td>\n",
       "      <td>0.126895</td>\n",
       "      <td>-0.148688</td>\n",
       "      <td>0.228169</td>\n",
       "      <td>-0.136961</td>\n",
       "      <td>0.178631</td>\n",
       "      <td>-0.159565</td>\n",
       "      <td>...</td>\n",
       "      <td>0.234887</td>\n",
       "      <td>0.070960</td>\n",
       "      <td>0.228182</td>\n",
       "      <td>0.007013</td>\n",
       "      <td>0.023841</td>\n",
       "      <td>0.064362</td>\n",
       "      <td>0.217623</td>\n",
       "      <td>0.040580</td>\n",
       "      <td>-0.110914</td>\n",
       "      <td>dictum</td>\n",
       "    </tr>\n",
       "    <tr>\n",
       "      <th>296</th>\n",
       "      <td>-0.252468</td>\n",
       "      <td>0.238267</td>\n",
       "      <td>0.267248</td>\n",
       "      <td>0.255549</td>\n",
       "      <td>0.235776</td>\n",
       "      <td>0.336945</td>\n",
       "      <td>0.324843</td>\n",
       "      <td>0.171410</td>\n",
       "      <td>-0.090244</td>\n",
       "      <td>0.137644</td>\n",
       "      <td>...</td>\n",
       "      <td>-0.002314</td>\n",
       "      <td>-0.005279</td>\n",
       "      <td>0.137153</td>\n",
       "      <td>0.126048</td>\n",
       "      <td>0.128069</td>\n",
       "      <td>0.300786</td>\n",
       "      <td>0.042684</td>\n",
       "      <td>0.157886</td>\n",
       "      <td>0.039040</td>\n",
       "      <td>nisl</td>\n",
       "    </tr>\n",
       "    <tr>\n",
       "      <th>297</th>\n",
       "      <td>-0.072433</td>\n",
       "      <td>0.175060</td>\n",
       "      <td>0.274087</td>\n",
       "      <td>-0.015439</td>\n",
       "      <td>0.204228</td>\n",
       "      <td>0.090292</td>\n",
       "      <td>0.203240</td>\n",
       "      <td>0.123719</td>\n",
       "      <td>0.235701</td>\n",
       "      <td>0.231166</td>\n",
       "      <td>...</td>\n",
       "      <td>-0.011741</td>\n",
       "      <td>0.039705</td>\n",
       "      <td>-0.093394</td>\n",
       "      <td>0.065032</td>\n",
       "      <td>0.025788</td>\n",
       "      <td>0.106675</td>\n",
       "      <td>-0.135897</td>\n",
       "      <td>-0.115910</td>\n",
       "      <td>0.118365</td>\n",
       "      <td>ac</td>\n",
       "    </tr>\n",
       "    <tr>\n",
       "      <th>298</th>\n",
       "      <td>0.061475</td>\n",
       "      <td>0.020652</td>\n",
       "      <td>0.226420</td>\n",
       "      <td>0.353305</td>\n",
       "      <td>-0.166236</td>\n",
       "      <td>0.173138</td>\n",
       "      <td>-0.055716</td>\n",
       "      <td>0.320926</td>\n",
       "      <td>0.172914</td>\n",
       "      <td>0.146220</td>\n",
       "      <td>...</td>\n",
       "      <td>-0.116439</td>\n",
       "      <td>0.115180</td>\n",
       "      <td>-0.022259</td>\n",
       "      <td>-0.017991</td>\n",
       "      <td>0.032119</td>\n",
       "      <td>-0.047204</td>\n",
       "      <td>0.091187</td>\n",
       "      <td>-0.084058</td>\n",
       "      <td>0.024632</td>\n",
       "      <td>laoreet</td>\n",
       "    </tr>\n",
       "    <tr>\n",
       "      <th>299</th>\n",
       "      <td>0.300470</td>\n",
       "      <td>-0.080154</td>\n",
       "      <td>-0.080363</td>\n",
       "      <td>-0.185025</td>\n",
       "      <td>-0.159543</td>\n",
       "      <td>0.354535</td>\n",
       "      <td>0.094371</td>\n",
       "      <td>0.252676</td>\n",
       "      <td>-0.033127</td>\n",
       "      <td>0.211200</td>\n",
       "      <td>...</td>\n",
       "      <td>-0.003060</td>\n",
       "      <td>-0.080332</td>\n",
       "      <td>-0.084839</td>\n",
       "      <td>0.038330</td>\n",
       "      <td>-0.099250</td>\n",
       "      <td>0.044511</td>\n",
       "      <td>0.080568</td>\n",
       "      <td>0.264204</td>\n",
       "      <td>0.080038</td>\n",
       "      <td>venenatis</td>\n",
       "    </tr>\n",
       "  </tbody>\n",
       "</table>\n",
       "<p>300 rows × 142 columns</p>\n",
       "</div>"
      ],
      "text/plain": [
       "        risus        ex   posuere      ante        at  condimentum  \\\n",
       "0   -0.217701 -0.159472 -0.250682 -0.205301  0.052902     0.149924   \n",
       "1    0.080065 -0.219400  0.097379  0.198382 -0.120515    -0.277028   \n",
       "2    0.007903  0.214448 -0.035499  0.304467 -0.182306     0.289113   \n",
       "3   -0.031549 -0.062066  0.155259 -0.049042 -0.204496     0.200769   \n",
       "4   -0.120359 -0.026617 -0.244318 -0.223593  0.052878     0.145789   \n",
       "..        ...       ...       ...       ...       ...          ...   \n",
       "295  0.222407 -0.077976 -0.047438  0.304928  0.126895    -0.148688   \n",
       "296 -0.252468  0.238267  0.267248  0.255549  0.235776     0.336945   \n",
       "297 -0.072433  0.175060  0.274087 -0.015439  0.204228     0.090292   \n",
       "298  0.061475  0.020652  0.226420  0.353305 -0.166236     0.173138   \n",
       "299  0.300470 -0.080154 -0.080363 -0.185025 -0.159543     0.354535   \n",
       "\n",
       "     vestibulum      nunc     proin   dapibus  ...  elementum    ligula  \\\n",
       "0     -0.122299  0.031278 -0.187790  0.109891  ...   0.046554 -0.060522   \n",
       "1      0.220183 -0.015249  0.107477 -0.152376  ...  -0.221892 -0.047072   \n",
       "2     -0.068165  0.323386 -0.078212  0.202903  ...   0.176725  0.157032   \n",
       "3      0.038880  0.192922  0.097672  0.110132  ...  -0.098756 -0.031380   \n",
       "4     -0.035685 -0.169227 -0.043155  0.204876  ...  -0.076213 -0.142274   \n",
       "..          ...       ...       ...       ...  ...        ...       ...   \n",
       "295    0.228169 -0.136961  0.178631 -0.159565  ...   0.234887  0.070960   \n",
       "296    0.324843  0.171410 -0.090244  0.137644  ...  -0.002314 -0.005279   \n",
       "297    0.203240  0.123719  0.235701  0.231166  ...  -0.011741  0.039705   \n",
       "298   -0.055716  0.320926  0.172914  0.146220  ...  -0.116439  0.115180   \n",
       "299    0.094371  0.252676 -0.033127  0.211200  ...  -0.003060 -0.080332   \n",
       "\n",
       "        nulla  facilisi  venenatis       est    auctor  accumsan  consequat  \\\n",
       "0   -0.068479  0.103068  -0.124483 -0.042701 -0.102535 -0.116946  -0.090302   \n",
       "1   -0.075878 -0.150789  -0.076866  0.029445 -0.150226  0.112174   0.030505   \n",
       "2    0.055280  0.141677  -0.072056  0.147388  0.137222  0.179712   0.112323   \n",
       "3    0.053736 -0.094499  -0.067921 -0.004354  0.021669 -0.113992  -0.021905   \n",
       "4   -0.039122 -0.082780   0.074759 -0.097207 -0.158709  0.032073  -0.248815   \n",
       "..        ...       ...        ...       ...       ...       ...        ...   \n",
       "295  0.228182  0.007013   0.023841  0.064362  0.217623  0.040580  -0.110914   \n",
       "296  0.137153  0.126048   0.128069  0.300786  0.042684  0.157886   0.039040   \n",
       "297 -0.093394  0.065032   0.025788  0.106675 -0.135897 -0.115910   0.118365   \n",
       "298 -0.022259 -0.017991   0.032119 -0.047204  0.091187 -0.084058   0.024632   \n",
       "299 -0.084839  0.038330  -0.099250  0.044511  0.080568  0.264204   0.080038   \n",
       "\n",
       "       Palavra  \n",
       "0        fusce  \n",
       "1        risus  \n",
       "2           ex  \n",
       "3      posuere  \n",
       "4         ante  \n",
       "..         ...  \n",
       "295     dictum  \n",
       "296       nisl  \n",
       "297         ac  \n",
       "298    laoreet  \n",
       "299  venenatis  \n",
       "\n",
       "[300 rows x 142 columns]"
      ]
     },
     "execution_count": 100,
     "metadata": {},
     "output_type": "execute_result"
    }
   ],
   "source": [
    "matrix"
   ]
  }
 ],
 "metadata": {
  "interpreter": {
   "hash": "df6438d9c6021a8537ed1f8dc3c8c872338752a98d8cf1a180ae921c1efc4c46"
  },
  "kernelspec": {
   "display_name": "Python 3.7.5rc1 64-bit",
   "language": "python",
   "name": "python3"
  },
  "language_info": {
   "codemirror_mode": {
    "name": "ipython",
    "version": 3
   },
   "file_extension": ".py",
   "mimetype": "text/x-python",
   "name": "python",
   "nbconvert_exporter": "python",
   "pygments_lexer": "ipython3",
   "version": "3.7.5rc1"
  },
  "orig_nbformat": 4
 },
 "nbformat": 4,
 "nbformat_minor": 2
}
