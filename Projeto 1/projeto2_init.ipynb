{
 "cells": [
  {
   "cell_type": "markdown",
   "metadata": {},
   "source": [
    "#### Este segundo método de resolução, consiste na utilização apenas de conceitos de cálculo e construção de matrizes, sendo algo mais simples. Cada letra do alfabeto Latim foi atribuído um valor e assim montado vetores com o valor de cada letra."
   ]
  },
  {
   "cell_type": "markdown",
   "metadata": {},
   "source": [
    "### Importação das Bibliotecas:"
   ]
  },
  {
   "cell_type": "code",
   "execution_count": 2,
   "metadata": {},
   "outputs": [],
   "source": [
    "import numpy as np\n",
    "from matplotlib import pyplot as plt\n",
    "import re\n",
    "from nltk.corpus import stopwords\n",
    "\n",
    "import pandas as pd"
   ]
  },
  {
   "cell_type": "markdown",
   "metadata": {},
   "source": [
    "### Importação dos dados:"
   ]
  },
  {
   "cell_type": "code",
   "execution_count": 3,
   "metadata": {},
   "outputs": [],
   "source": [
    "f = open('Base Text - Matrix Representation.txt')                               # Abre o arquivo\n",
    "\n",
    "raw_data = f.read()                                                             # Le o arquivo\n",
    "f.close()                                                                       # Fecha o arquivo"
   ]
  },
  {
   "cell_type": "markdown",
   "metadata": {},
   "source": [
    "### Visualizando os dados:"
   ]
  },
  {
   "cell_type": "code",
   "execution_count": 4,
   "metadata": {},
   "outputs": [
    {
     "data": {
      "text/plain": [
       "'Fusce risus ex, posuere at ante at, condimentum vestibulum nunc. Proin dapibus egestas neque, a tempor odio pharetra eget. Nullam tempus felis eu consectetur tincidunt. Integer fermentum eu quam vitae tempus. Vivamus volutpat ut dui vitae sollicitudin. Donec ornare dolor a vestibulum pharetra. Mauris eget dui sapien. Mauris lobortis feugiat neque, nec congue leo viverra semper. In vel mauris nunc. Aenean scelerisque arcu a varius tempor. Proin quis nisi et mi dictum tempor. Pellentesque mattis risus metus, id luctus orci ultrices ac. Praesent bibendum lectus a nisl mollis, eu suscipit eros pretium.\\nPhasellus vitae elit efficitur, varius felis id, vulputate neque. Praesent dictum nunc in velit lobortis tempus. Duis pulvinar ut urna eget volutpat. In hac habitasse platea dictumst. Aenean eros libero, ultrices eu dolor id, ultrices bibendum mauris. Nunc quis nunc feugiat, dapibus sem eget, pretium orci. Mauris mauris felis, pulvinar nec dapibus in, laoreet ac nibh. Pellentesque habitant morbi tristique senectus et netus et malesuada fames ac turpis egestas. In sed scelerisque massa. Morbi sit amet ex erat. Duis sit amet laoreet ipsum. Nullam rutrum dapibus metus id sollicitudin. Sed lorem metus, maximus id maximus ac, vehicula vitae neque.\\nCurabitur vestibulum lorem diam, nec dictum lectus sodales id. Morbi at dui at ex fermentum porttitor sit amet et ipsum. Nullam et nibh vitae arcu porta pretium. Aenean ultricies bibendum nibh vitae mattis. Donec nec dignissim lorem. Vivamus ut lectus nec sem suscipit gravida. Class aptent taciti sociosqu ad litora torquent per conubia nostra, per inceptos himenaeos. Proin nec metus at sapien tempor ultrices. Donec sed orci ante. Quisque finibus maximus justo, sit amet dignissim justo ornare ut. Morbi imperdiet sagittis tristique. Nunc vestibulum velit eget neque ultrices, sit amet egestas elit eleifend.\\nCurabitur facilisis elementum ligula vitae pellentesque. Nulla facilisi. Nulla vel tristique arcu. Sed dictum nisl ac laoreet venenatis. Proin eros est, suscipit id sodales eu, semper maximus eros. Sed maximus id nulla vel auctor. Nullam libero odio, auctor eget felis et, viverra gravida nisl. Vivamus sed luctus eros, nec mattis leo. Phasellus eget accumsan justo. Proin nisl sem, luctus ut gravida consequat, congue sit amet arcu.\\n\\n'"
      ]
     },
     "execution_count": 4,
     "metadata": {},
     "output_type": "execute_result"
    }
   ],
   "source": [
    "raw_data"
   ]
  },
  {
   "cell_type": "markdown",
   "metadata": {},
   "source": [
    "### Pre-processing dos dados --> .lower() + re.sub() [subtituir expressões regulares] + Removendo as Stopwords [palavras não relevantes]"
   ]
  },
  {
   "cell_type": "code",
   "execution_count": 5,
   "metadata": {},
   "outputs": [
    {
     "name": "stdout",
     "output_type": "stream",
     "text": [
      "['fusce' 'risus' 'ex' 'posuere' 'ante' 'at' 'condimentum' 'vestibulum'\n",
      " 'nunc' 'proin' 'dapibus' 'egestas' 'neque' 'tempor' 'odio' 'pharetra'\n",
      " 'eget' 'nullam' 'tempus' 'felis' 'eu' 'consectetur' 'tincidunt' 'integer'\n",
      " 'fermentum' 'eu' 'quam' 'vitae' 'tempus' 'vivamus' 'volutpat' 'ut' 'dui'\n",
      " 'vitae' 'sollicitudin' 'donec' 'ornare' 'dolor' 'a' 'vestibulum'\n",
      " 'pharetra' 'mauris' 'eget' 'dui' 'sapien' 'mauris' 'lobortis' 'feugiat'\n",
      " 'neque' 'nec' 'congue' 'leo' 'viverra' 'semper' 'in' 'vel' 'mauris'\n",
      " 'nunc' 'aenean' 'scelerisque' 'arcu' 'a' 'varius' 'tempor' 'proin' 'quis'\n",
      " 'nisi' 'et' 'mi' 'dictum' 'tempor' 'pellentesque' 'mattis' 'risus'\n",
      " 'metus' 'id' 'luctus' 'orci' 'ultrices' 'ac' 'praesent' 'bibendum'\n",
      " 'lectus' 'a' 'nisl' 'mollis' 'eu' 'suscipit' 'eros' 'pretium' 'phasellus'\n",
      " 'vitae' 'elit' 'efficitur' 'varius' 'felis' 'id' 'vulputate' 'neque'\n",
      " 'praesent' 'dictum' 'nunc' 'in' 'velit' 'lobortis' 'tempus' 'duis'\n",
      " 'pulvinar' 'ut' 'urna' 'eget' 'volutpat' 'in' 'hac' 'habitasse' 'platea'\n",
      " 'dictumst' 'aenean' 'eros' 'libero' 'ultrices' 'eu' 'dolor' 'id'\n",
      " 'ultrices' 'bibendum' 'mauris' 'nunc' 'quis' 'nunc' 'feugiat' 'dapibus'\n",
      " 'sem' 'eget' 'pretium' 'orci' 'mauris' 'mauris' 'felis' 'pulvinar' 'nec'\n",
      " 'dapibus' 'in' 'laoreet' 'ac' 'nibh' 'pellentesque' 'habitant' 'morbi'\n",
      " 'tristique' 'senectus' 'et' 'netus' 'et' 'malesuada' 'fames' 'ac'\n",
      " 'turpis' 'egestas' 'in' 'sed' 'scelerisque' 'massa' 'morbi' 'sit' 'amet'\n",
      " 'ex' 'erat' 'duis' 'sit' 'amet' 'laoreet' 'ipsum' 'nullam' 'rutrum'\n",
      " 'dapibus' 'metus' 'id' 'sollicitudin' 'sed' 'lorem' 'metus' 'maximus'\n",
      " 'id' 'maximus' 'ac' 'vehicula' 'vitae' 'neque' 'curabitur' 'vestibulum'\n",
      " 'lorem' 'diam' 'nec' 'dictum' 'lectus' 'sodales' 'id' 'morbi' 'at' 'dui'\n",
      " 'at' 'ex' 'fermentum' 'porttitor' 'sit' 'amet' 'et' 'ipsum' 'nullam' 'et'\n",
      " 'nibh' 'vitae' 'arcu' 'porta' 'pretium' 'aenean' 'ultricies' 'bibendum'\n",
      " 'nibh' 'vitae' 'mattis' 'donec' 'nec' 'dignissim' 'lorem' 'vivamus' 'ut'\n",
      " 'lectus' 'nec' 'sem' 'suscipit' 'gravida' 'class' 'aptent' 'taciti'\n",
      " 'sociosqu' 'ad' 'litora' 'torquent' 'per' 'conubia' 'nostra' 'per'\n",
      " 'inceptos' 'himenaeos' 'proin' 'nec' 'metus' 'at' 'sapien' 'tempor'\n",
      " 'ultrices' 'donec' 'sed' 'orci' 'ante' 'quisque' 'finibus' 'maximus'\n",
      " 'justo' 'sit' 'amet' 'dignissim' 'justo' 'ornare' 'ut' 'morbi'\n",
      " 'imperdiet' 'sagittis' 'tristique' 'nunc' 'vestibulum' 'velit' 'eget'\n",
      " 'neque' 'ultrices' 'sit' 'amet' 'egestas' 'elit' 'eleifend' 'curabitur'\n",
      " 'facilisis' 'elementum' 'ligula' 'vitae' 'pellentesque' 'nulla'\n",
      " 'facilisi' 'nulla' 'vel' 'tristique' 'arcu' 'sed' 'dictum' 'nisl' 'ac'\n",
      " 'laoreet' 'venenatis' 'proin' 'eros' 'est' 'suscipit' 'id' 'sodales' 'eu'\n",
      " 'semper' 'maximus' 'eros' 'sed' 'maximus' 'id' 'nulla' 'vel' 'auctor'\n",
      " 'nullam' 'libero' 'odio' 'auctor' 'eget' 'felis' 'et' 'viverra' 'gravida'\n",
      " 'nisl' 'vivamus' 'sed' 'luctus' 'eros' 'nec' 'mattis' 'leo' 'phasellus'\n",
      " 'eget' 'accumsan' 'justo' 'proin' 'nisl' 'sem' 'luctus' 'ut' 'gravida'\n",
      " 'consequat' 'congue' 'sit' 'amet' 'arcu']\n"
     ]
    }
   ],
   "source": [
    "data_processed = raw_data.lower()\n",
    "data_processed = re.sub('[^A-Za-z]+', ' ', data_processed)\n",
    "data_processed = data_processed.split()\n",
    "\n",
    "data_processed.remove('at')\n",
    "data_processed.remove('a')\n",
    "\n",
    "data_processed = np.array(data_processed)\n",
    "print(data_processed)"
   ]
  },
  {
   "cell_type": "markdown",
   "metadata": {},
   "source": [
    "### Printando os dados processados:"
   ]
  },
  {
   "cell_type": "code",
   "execution_count": 6,
   "metadata": {},
   "outputs": [
    {
     "data": {
      "text/plain": [
       "(348, 1)"
      ]
     },
     "execution_count": 6,
     "metadata": {},
     "output_type": "execute_result"
    }
   ],
   "source": [
    "data_processed = data_processed.reshape(-1,1)\n",
    "data_processed.shape"
   ]
  },
  {
   "cell_type": "markdown",
   "metadata": {},
   "source": [
    "### Montando os vetores auxiliares"
   ]
  },
  {
   "cell_type": "code",
   "execution_count": 7,
   "metadata": {},
   "outputs": [
    {
     "name": "stdout",
     "output_type": "stream",
     "text": [
      "[0, 1, 2, 3, 4, 5, 6, 7, 8, 9, 10, 11, 12, 13, 14, 15, 16, 17, 18, 19, 20, 21, 22, 23, 24]\n",
      "['A', 'B', 'C', 'D', 'E', 'F', 'G', 'H', 'I', 'J', 'K', 'L', 'M', 'N', 'O', 'P', 'Q', 'R', 'S', 'T', 'U', 'V', 'X', 'Y', 'Z']\n"
     ]
    }
   ],
   "source": [
    "vetor_pos = []\n",
    "vetor_letras = ['A', 'B', 'C', 'D', 'E', 'F', 'G', 'H', 'I', 'J', 'K', 'L', 'M', 'N', 'O', 'P', 'Q', 'R', 'S', 'T', 'U', 'V', 'X', 'Y', 'Z']\n",
    "\n",
    "for i in range(len(vetor_letras)):                                 # 26 letras presentes no alfabeto Latino\n",
    "    vetor_pos.append(i)\n",
    "\n",
    "\n",
    "\n",
    "print(vetor_pos)\n",
    "print(vetor_letras)"
   ]
  },
  {
   "cell_type": "code",
   "execution_count": 10,
   "metadata": {},
   "outputs": [
    {
     "data": {
      "text/plain": [
       "'abcdefghijklmnopqrstuvwxyz'"
      ]
     },
     "execution_count": 10,
     "metadata": {},
     "output_type": "execute_result"
    }
   ],
   "source": [
    "import string\n",
    "string.ascii_lowercase\n"
   ]
  },
  {
   "cell_type": "markdown",
   "metadata": {},
   "source": [
    "### Testando a lógica:"
   ]
  },
  {
   "cell_type": "code",
   "execution_count": 11,
   "metadata": {},
   "outputs": [
    {
     "name": "stdout",
     "output_type": "stream",
     "text": [
      "['fusce']\n",
      "[\n",
      "'\n",
      "r\n",
      "i\n",
      "s\n",
      "u\n",
      "s\n",
      "'\n",
      "]\n"
     ]
    }
   ],
   "source": [
    "print(str(data_processed[0]))\n",
    "for k in list(str(data_processed[1])):\n",
    "    print(k)"
   ]
  },
  {
   "cell_type": "markdown",
   "metadata": {},
   "source": [
    "### Montando a matrix de palavras:"
   ]
  },
  {
   "cell_type": "code",
   "execution_count": null,
   "metadata": {},
   "outputs": [
    {
     "name": "stdout",
     "output_type": "stream",
     "text": [
      "[[5, 20, 18, 2, 4], [17, 8, 18, 20, 18], [4, 22], [15, 14, 18, 20, 4, 17, 4], [0, 13, 19, 4], [0, 19], [2, 14, 13, 3, 8, 12, 4, 13, 19, 20, 12], [21, 4, 18, 19, 8, 1, 20, 11, 20, 12], [13, 20, 13, 2], [15, 17, 14, 8, 13], [3, 0, 15, 8, 1, 20, 18], [4, 6, 4, 18, 19, 0, 18], [13, 4, 16, 20, 4], [19, 4, 12, 15, 14, 17], [14, 3, 8, 14], [15, 7, 0, 17, 4, 19, 17, 0], [4, 6, 4, 19], [13, 20, 11, 11, 0, 12], [19, 4, 12, 15, 20, 18], [5, 4, 11, 8, 18], [4, 20], [2, 14, 13, 18, 4, 2, 19, 4, 19, 20, 17], [19, 8, 13, 2, 8, 3, 20, 13, 19], [8, 13, 19, 4, 6, 4, 17], [5, 4, 17, 12, 4, 13, 19, 20, 12], [4, 20], [16, 20, 0, 12], [21, 8, 19, 0, 4], [19, 4, 12, 15, 20, 18], [21, 8, 21, 0, 12, 20, 18], [21, 14, 11, 20, 19, 15, 0, 19], [20, 19], [3, 20, 8], [21, 8, 19, 0, 4], [18, 14, 11, 11, 8, 2, 8, 19, 20, 3, 8, 13], [3, 14, 13, 4, 2], [14, 17, 13, 0, 17, 4], [3, 14, 11, 14, 17], [0], [21, 4, 18, 19, 8, 1, 20, 11, 20, 12], [15, 7, 0, 17, 4, 19, 17, 0], [12, 0, 20, 17, 8, 18], [4, 6, 4, 19], [3, 20, 8], [18, 0, 15, 8, 4, 13], [12, 0, 20, 17, 8, 18], [11, 14, 1, 14, 17, 19, 8, 18], [5, 4, 20, 6, 8, 0, 19], [13, 4, 16, 20, 4], [13, 4, 2], [2, 14, 13, 6, 20, 4], [11, 4, 14], [21, 8, 21, 4, 17, 17, 0], [18, 4, 12, 15, 4, 17], [8, 13], [21, 4, 11], [12, 0, 20, 17, 8, 18], [13, 20, 13, 2], [0, 4, 13, 4, 0, 13], [18, 2, 4, 11, 4, 17, 8, 18, 16, 20, 4], [0, 17, 2, 20], [0], [21, 0, 17, 8, 20, 18], [19, 4, 12, 15, 14, 17], [15, 17, 14, 8, 13], [16, 20, 8, 18], [13, 8, 18, 8], [4, 19], [12, 8], [3, 8, 2, 19, 20, 12], [19, 4, 12, 15, 14, 17], [15, 4, 11, 11, 4, 13, 19, 4, 18, 16, 20, 4], [12, 0, 19, 19, 8, 18], [17, 8, 18, 20, 18], [12, 4, 19, 20, 18], [8, 3], [11, 20, 2, 19, 20, 18], [14, 17, 2, 8], [20, 11, 19, 17, 8, 2, 4, 18], [0, 2], [15, 17, 0, 4, 18, 4, 13, 19], [1, 8, 1, 4, 13, 3, 20, 12], [11, 4, 2, 19, 20, 18], [0], [13, 8, 18, 11], [12, 14, 11, 11, 8, 18], [4, 20], [18, 20, 18, 2, 8, 15, 8, 19], [4, 17, 14, 18], [15, 17, 4, 19, 8, 20, 12], [15, 7, 0, 18, 4, 11, 11, 20, 18], [21, 8, 19, 0, 4], [4, 11, 8, 19], [4, 5, 5, 8, 2, 8, 19, 20, 17], [21, 0, 17, 8, 20, 18], [5, 4, 11, 8, 18], [8, 3], [21, 20, 11, 15, 20, 19, 0, 19, 4], [13, 4, 16, 20, 4], [15, 17, 0, 4, 18, 4, 13, 19], [3, 8, 2, 19, 20, 12], [13, 20, 13, 2], [8, 13], [21, 4, 11, 8, 19], [11, 14, 1, 14, 17, 19, 8, 18], [19, 4, 12, 15, 20, 18], [3, 20, 8, 18], [15, 20, 11, 21, 8, 13, 0, 17], [20, 19], [20, 17, 13, 0], [4, 6, 4, 19], [21, 14, 11, 20, 19, 15, 0, 19], [8, 13], [7, 0, 2], [7, 0, 1, 8, 19, 0, 18, 18, 4], [15, 11, 0, 19, 4, 0], [3, 8, 2, 19, 20, 12, 18, 19], [0, 4, 13, 4, 0, 13], [4, 17, 14, 18], [11, 8, 1, 4, 17, 14], [20, 11, 19, 17, 8, 2, 4, 18], [4, 20], [3, 14, 11, 14, 17], [8, 3], [20, 11, 19, 17, 8, 2, 4, 18], [1, 8, 1, 4, 13, 3, 20, 12], [12, 0, 20, 17, 8, 18], [13, 20, 13, 2], [16, 20, 8, 18], [13, 20, 13, 2], [5, 4, 20, 6, 8, 0, 19], [3, 0, 15, 8, 1, 20, 18], [18, 4, 12], [4, 6, 4, 19], [15, 17, 4, 19, 8, 20, 12], [14, 17, 2, 8], [12, 0, 20, 17, 8, 18], [12, 0, 20, 17, 8, 18], [5, 4, 11, 8, 18], [15, 20, 11, 21, 8, 13, 0, 17], [13, 4, 2], [3, 0, 15, 8, 1, 20, 18], [8, 13], [11, 0, 14, 17, 4, 4, 19], [0, 2], [13, 8, 1, 7], [15, 4, 11, 11, 4, 13, 19, 4, 18, 16, 20, 4], [7, 0, 1, 8, 19, 0, 13, 19], [12, 14, 17, 1, 8], [19, 17, 8, 18, 19, 8, 16, 20, 4], [18, 4, 13, 4, 2, 19, 20, 18], [4, 19], [13, 4, 19, 20, 18], [4, 19], [12, 0, 11, 4, 18, 20, 0, 3, 0], [5, 0, 12, 4, 18], [0, 2], [19, 20, 17, 15, 8, 18], [4, 6, 4, 18, 19, 0, 18], [8, 13], [18, 4, 3], [18, 2, 4, 11, 4, 17, 8, 18, 16, 20, 4], [12, 0, 18, 18, 0], [12, 14, 17, 1, 8], [18, 8, 19], [0, 12, 4, 19], [4, 22], [4, 17, 0, 19], [3, 20, 8, 18], [18, 8, 19], [0, 12, 4, 19], [11, 0, 14, 17, 4, 4, 19], [8, 15, 18, 20, 12], [13, 20, 11, 11, 0, 12], [17, 20, 19, 17, 20, 12], [3, 0, 15, 8, 1, 20, 18], [12, 4, 19, 20, 18], [8, 3], [18, 14, 11, 11, 8, 2, 8, 19, 20, 3, 8, 13], [18, 4, 3], [11, 14, 17, 4, 12], [12, 4, 19, 20, 18], [12, 0, 22, 8, 12, 20, 18], [8, 3], [12, 0, 22, 8, 12, 20, 18], [0, 2], [21, 4, 7, 8, 2, 20, 11, 0], [21, 8, 19, 0, 4], [13, 4, 16, 20, 4], [2, 20, 17, 0, 1, 8, 19, 20, 17], [21, 4, 18, 19, 8, 1, 20, 11, 20, 12], [11, 14, 17, 4, 12], [3, 8, 0, 12], [13, 4, 2], [3, 8, 2, 19, 20, 12], [11, 4, 2, 19, 20, 18], [18, 14, 3, 0, 11, 4, 18], [8, 3], [12, 14, 17, 1, 8], [0, 19], [3, 20, 8], [0, 19], [4, 22], [5, 4, 17, 12, 4, 13, 19, 20, 12], [15, 14, 17, 19, 19, 8, 19, 14, 17], [18, 8, 19], [0, 12, 4, 19], [4, 19], [8, 15, 18, 20, 12], [13, 20, 11, 11, 0, 12], [4, 19], [13, 8, 1, 7], [21, 8, 19, 0, 4], [0, 17, 2, 20], [15, 14, 17, 19, 0], [15, 17, 4, 19, 8, 20, 12], [0, 4, 13, 4, 0, 13], [20, 11, 19, 17, 8, 2, 8, 4, 18], [1, 8, 1, 4, 13, 3, 20, 12], [13, 8, 1, 7], [21, 8, 19, 0, 4], [12, 0, 19, 19, 8, 18], [3, 14, 13, 4, 2], [13, 4, 2], [3, 8, 6, 13, 8, 18, 18, 8, 12], [11, 14, 17, 4, 12], [21, 8, 21, 0, 12, 20, 18], [20, 19], [11, 4, 2, 19, 20, 18], [13, 4, 2], [18, 4, 12], [18, 20, 18, 2, 8, 15, 8, 19], [6, 17, 0, 21, 8, 3, 0], [2, 11, 0, 18, 18], [0, 15, 19, 4, 13, 19], [19, 0, 2, 8, 19, 8], [18, 14, 2, 8, 14, 18, 16, 20], [0, 3], [11, 8, 19, 14, 17, 0], [19, 14, 17, 16, 20, 4, 13, 19], [15, 4, 17], [2, 14, 13, 20, 1, 8, 0], [13, 14, 18, 19, 17, 0], [15, 4, 17], [8, 13, 2, 4, 15, 19, 14, 18], [7, 8, 12, 4, 13, 0, 4, 14, 18], [15, 17, 14, 8, 13], [13, 4, 2], [12, 4, 19, 20, 18], [0, 19], [18, 0, 15, 8, 4, 13], [19, 4, 12, 15, 14, 17], [20, 11, 19, 17, 8, 2, 4, 18], [3, 14, 13, 4, 2], [18, 4, 3], [14, 17, 2, 8], [0, 13, 19, 4], [16, 20, 8, 18, 16, 20, 4], [5, 8, 13, 8, 1, 20, 18], [12, 0, 22, 8, 12, 20, 18], [9, 20, 18, 19, 14], [18, 8, 19], [0, 12, 4, 19], [3, 8, 6, 13, 8, 18, 18, 8, 12], [9, 20, 18, 19, 14], [14, 17, 13, 0, 17, 4], [20, 19], [12, 14, 17, 1, 8], [8, 12, 15, 4, 17, 3, 8, 4, 19], [18, 0, 6, 8, 19, 19, 8, 18], [19, 17, 8, 18, 19, 8, 16, 20, 4], [13, 20, 13, 2], [21, 4, 18, 19, 8, 1, 20, 11, 20, 12], [21, 4, 11, 8, 19], [4, 6, 4, 19], [13, 4, 16, 20, 4], [20, 11, 19, 17, 8, 2, 4, 18], [18, 8, 19], [0, 12, 4, 19], [4, 6, 4, 18, 19, 0, 18], [4, 11, 8, 19], [4, 11, 4, 8, 5, 4, 13, 3], [2, 20, 17, 0, 1, 8, 19, 20, 17], [5, 0, 2, 8, 11, 8, 18, 8, 18], [4, 11, 4, 12, 4, 13, 19, 20, 12], [11, 8, 6, 20, 11, 0], [21, 8, 19, 0, 4], [15, 4, 11, 11, 4, 13, 19, 4, 18, 16, 20, 4], [13, 20, 11, 11, 0], [5, 0, 2, 8, 11, 8, 18, 8], [13, 20, 11, 11, 0], [21, 4, 11], [19, 17, 8, 18, 19, 8, 16, 20, 4], [0, 17, 2, 20], [18, 4, 3], [3, 8, 2, 19, 20, 12], [13, 8, 18, 11], [0, 2], [11, 0, 14, 17, 4, 4, 19], [21, 4, 13, 4, 13, 0, 19, 8, 18], [15, 17, 14, 8, 13], [4, 17, 14, 18], [4, 18, 19], [18, 20, 18, 2, 8, 15, 8, 19], [8, 3], [18, 14, 3, 0, 11, 4, 18], [4, 20], [18, 4, 12, 15, 4, 17], [12, 0, 22, 8, 12, 20, 18], [4, 17, 14, 18], [18, 4, 3], [12, 0, 22, 8, 12, 20, 18], [8, 3], [13, 20, 11, 11, 0], [21, 4, 11], [0, 20, 2, 19, 14, 17], [13, 20, 11, 11, 0, 12], [11, 8, 1, 4, 17, 14], [14, 3, 8, 14], [0, 20, 2, 19, 14, 17], [4, 6, 4, 19], [5, 4, 11, 8, 18], [4, 19], [21, 8, 21, 4, 17, 17, 0], [6, 17, 0, 21, 8, 3, 0], [13, 8, 18, 11], [21, 8, 21, 0, 12, 20, 18], [18, 4, 3], [11, 20, 2, 19, 20, 18], [4, 17, 14, 18], [13, 4, 2], [12, 0, 19, 19, 8, 18], [11, 4, 14], [15, 7, 0, 18, 4, 11, 11, 20, 18], [4, 6, 4, 19], [0, 2, 2, 20, 12, 18, 0, 13], [9, 20, 18, 19, 14], [15, 17, 14, 8, 13], [13, 8, 18, 11], [18, 4, 12], [11, 20, 2, 19, 20, 18], [20, 19], [6, 17, 0, 21, 8, 3, 0], [2, 14, 13, 18, 4, 16, 20, 0, 19], [2, 14, 13, 6, 20, 4], [18, 8, 19], [0, 12, 4, 19], [0, 17, 2, 20]]\n"
     ]
    }
   ],
   "source": [
    "matrix = []\n",
    "\n",
    "for i in range(len(data_processed)):\n",
    "    linha = []\n",
    "\n",
    "    for k in list(str(data_processed[i])):\n",
    "\n",
    "        if(k != '[' and k != ']' and k != \"'\"):         \n",
    "            for j in range(len(vetor_letras)):\n",
    "                \n",
    "                if (k == vetor_letras[j].lower()):\n",
    "                    linha.append(vetor_pos[j])\n",
    "                    break\n",
    "\n",
    "        \n",
    "    matrix.append(linha)\n",
    "\n",
    "\n",
    "print(matrix)"
   ]
  }
 ],
 "metadata": {
  "interpreter": {
   "hash": "df6438d9c6021a8537ed1f8dc3c8c872338752a98d8cf1a180ae921c1efc4c46"
  },
  "kernelspec": {
   "display_name": "Python 3.7.5rc1 64-bit",
   "language": "python",
   "name": "python3"
  },
  "language_info": {
   "codemirror_mode": {
    "name": "ipython",
    "version": 3
   },
   "file_extension": ".py",
   "mimetype": "text/x-python",
   "name": "python",
   "nbconvert_exporter": "python",
   "pygments_lexer": "ipython3",
   "version": "3.7.5rc1"
  },
  "orig_nbformat": 4
 },
 "nbformat": 4,
 "nbformat_minor": 2
}
